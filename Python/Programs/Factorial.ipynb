{
  "nbformat": 4,
  "nbformat_minor": 0,
  "metadata": {
    "colab": {
      "provenance": [],
      "authorship_tag": "ABX9TyPkM2SihOf8sqkl7bLfE+Qi"
    },
    "kernelspec": {
      "name": "python3",
      "display_name": "Python 3"
    },
    "language_info": {
      "name": "python"
    }
  },
  "cells": [
    {
      "cell_type": "code",
      "execution_count": null,
      "metadata": {
        "id": "94_1sBqEwy5Q",
        "colab": {
          "base_uri": "https://localhost:8080/"
        },
        "outputId": "7a7cb2a2-89bf-4397-eb1a-9bfe16e4191b"
      },
      "outputs": [
        {
          "output_type": "stream",
          "name": "stdout",
          "text": [
            "Enter a non negative integer: 6\n",
            "Factorial of  6  is  720\n"
          ]
        }
      ],
      "source": [
        "def factorial(n):\n",
        "    if n == 0 or n == 1:\n",
        "        return 1\n",
        "    elif n > 1:\n",
        "        fact = 1\n",
        "        for i in range(2,n+1):\n",
        "            fact = fact * i\n",
        "        return fact\n",
        "    else:\n",
        "        print('Enter a positive number')\n",
        "\n",
        "\n",
        "n = int(input('Enter a non negative integer: '))\n",
        "\n",
        "print('Factorial of ',n,' is ', factorial(n))"
      ]
    },
    {
      "cell_type": "code",
      "source": [
        "import math\n",
        "n = int(input('Enter a positive number: '))\n",
        "print('Factorial of ',n,' is : ',math.factorial(n))"
      ],
      "metadata": {
        "colab": {
          "base_uri": "https://localhost:8080/"
        },
        "id": "OdVK-Znx6dEa",
        "outputId": "d91c443d-805c-4114-c32a-848a0d386197"
      },
      "execution_count": null,
      "outputs": [
        {
          "output_type": "stream",
          "name": "stdout",
          "text": [
            "Enter a positive number: 6\n",
            "Factorial of  6  is :  720\n"
          ]
        }
      ]
    },
    {
      "cell_type": "code",
      "source": [
        "def fact(n):\n",
        "    if n == 0 or n== 1:\n",
        "        return 1\n",
        "    return n * fact(n-1)\n",
        "\n",
        "n = int(input('Enter a positive number: '))\n",
        "print('Factorial of ',n,' is: ',fact(n))"
      ],
      "metadata": {
        "colab": {
          "base_uri": "https://localhost:8080/"
        },
        "id": "FeowgcLP7Oh9",
        "outputId": "5571d4c1-4d44-4d38-eeae-916e9132ed62"
      },
      "execution_count": null,
      "outputs": [
        {
          "output_type": "stream",
          "name": "stdout",
          "text": [
            "Enter a positive number: 6\n",
            "Factorial of  6  is:  720\n"
          ]
        }
      ]
    },
    {
      "cell_type": "code",
      "source": [
        "!pip install numpy\n",
        "import numpy as np\n",
        "n = int(input('Enter a positive number: '))\n",
        "l1 = [i for i in range(1,n+1)]\n",
        "print(np.prod(l1))"
      ],
      "metadata": {
        "colab": {
          "base_uri": "https://localhost:8080/"
        },
        "id": "upDmBfZb8W51",
        "outputId": "f53f9e46-c245-433b-e0cc-fe1c5e1c2008"
      },
      "execution_count": null,
      "outputs": [
        {
          "output_type": "stream",
          "name": "stdout",
          "text": [
            "Requirement already satisfied: numpy in /usr/local/lib/python3.11/dist-packages (2.0.2)\n",
            "Enter a positive number: 6\n",
            "720\n"
          ]
        }
      ]
    }
  ]
}