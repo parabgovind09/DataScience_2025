{
  "nbformat": 4,
  "nbformat_minor": 0,
  "metadata": {
    "colab": {
      "provenance": [],
      "authorship_tag": "ABX9TyPk3nSBCKQwP+dot+2Rey/Z"
    },
    "kernelspec": {
      "name": "python3",
      "display_name": "Python 3"
    },
    "language_info": {
      "name": "python"
    }
  },
  "cells": [
    {
      "cell_type": "code",
      "source": [
        "s1 = 'My name is Govind Rama Parab'\n",
        "\n",
        "l1 = s1.split()\n",
        "\n",
        "print('Longest wors in String is : ',max(l1,key=len))"
      ],
      "metadata": {
        "id": "dSgUXusrWk_-",
        "colab": {
          "base_uri": "https://localhost:8080/"
        },
        "outputId": "9a01b008-aa63-4dc3-bcfe-431bd6c29aaf"
      },
      "execution_count": null,
      "outputs": [
        {
          "output_type": "stream",
          "name": "stdout",
          "text": [
            "Longest wors in String is :  Govind\n"
          ]
        }
      ]
    },
    {
      "cell_type": "code",
      "source": [
        "s1 = 'Kudill Govindram Seksaria English High School'\n",
        "\n",
        "l1 = s1.split()\n",
        "longest = \"\"\n",
        "for word in l1:\n",
        "    if len(longest) < len(word):\n",
        "        longest = word\n",
        "\n",
        "print('Longest word in the sentence is: ',longest,' with length as: ',len(longest))"
      ],
      "metadata": {
        "colab": {
          "base_uri": "https://localhost:8080/"
        },
        "id": "BXmUGBtFaZ09",
        "outputId": "e725eff0-a571-49e8-d617-a341d985771f"
      },
      "execution_count": null,
      "outputs": [
        {
          "output_type": "stream",
          "name": "stdout",
          "text": [
            "Longest word in the sentence is:  Govindram  with length as:  9\n"
          ]
        }
      ]
    }
  ]
}