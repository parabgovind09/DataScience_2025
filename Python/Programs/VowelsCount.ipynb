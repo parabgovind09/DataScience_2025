{
  "nbformat": 4,
  "nbformat_minor": 0,
  "metadata": {
    "colab": {
      "provenance": [],
      "authorship_tag": "ABX9TyOWHWQ0kDF7zozqJrhgVGdZ"
    },
    "kernelspec": {
      "name": "python3",
      "display_name": "Python 3"
    },
    "language_info": {
      "name": "python"
    }
  },
  "cells": [
    {
      "cell_type": "code",
      "execution_count": null,
      "metadata": {
        "colab": {
          "base_uri": "https://localhost:8080/"
        },
        "id": "z_1mn3LsQojX",
        "outputId": "999a93c0-24e1-4d0c-d874-a420d478f258"
      },
      "outputs": [
        {
          "output_type": "stream",
          "name": "stdout",
          "text": [
            "Enter the String: Swapnil Gawas\n",
            "Count of vowels in string is  4\n"
          ]
        }
      ],
      "source": [
        "s1 = str(input('Enter the String: '))\n",
        "print('Count of vowels in string is ',sum([1 for s in s1 if s.lower() in 'aeiou']))"
      ]
    }
  ]
}