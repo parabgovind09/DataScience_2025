{
  "nbformat": 4,
  "nbformat_minor": 0,
  "metadata": {
    "colab": {
      "provenance": [],
      "authorship_tag": "ABX9TyM4RF5Id2w8dvyv62VpfVpI"
    },
    "kernelspec": {
      "name": "python3",
      "display_name": "Python 3"
    },
    "language_info": {
      "name": "python"
    }
  },
  "cells": [
    {
      "cell_type": "code",
      "execution_count": null,
      "metadata": {
        "colab": {
          "base_uri": "https://localhost:8080/"
        },
        "id": "E0ffIVH2Q3yG",
        "outputId": "e06129fd-83f6-43e6-d791-a26b7a8797ac"
      },
      "outputs": [
        {
          "output_type": "stream",
          "name": "stdout",
          "text": [
            "Number  1634  is armstrong number\n"
          ]
        }
      ],
      "source": [
        "def isArmstrongNumber(num):\n",
        "  order = len(str(num))\n",
        "  temp = num\n",
        "  rem = sum = 0\n",
        "  while temp > 0:\n",
        "    rem = temp % 10\n",
        "    sum = sum + (rem**order)\n",
        "    temp = temp // 10\n",
        "\n",
        "  if sum == num:\n",
        "    print(\"Number \",num,\" is armstrong number\")\n",
        "  else:\n",
        "    print(\"Number \",num,\" is not an armstrong number\")\n",
        "\n",
        "isArmstrongNumber(1634)"
      ]
    }
  ]
}