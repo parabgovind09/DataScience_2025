{
  "nbformat": 4,
  "nbformat_minor": 0,
  "metadata": {
    "colab": {
      "provenance": [],
      "authorship_tag": "ABX9TyPeCkO+4S4OzniSU3pA+d4a"
    },
    "kernelspec": {
      "name": "python3",
      "display_name": "Python 3"
    },
    "language_info": {
      "name": "python"
    }
  },
  "cells": [
    {
      "cell_type": "code",
      "execution_count": null,
      "metadata": {
        "id": "Ry5dKr7fi3kl",
        "outputId": "3d6f2fda-5ea6-448b-acb7-55440061c591",
        "colab": {
          "base_uri": "https://localhost:8080/"
        }
      },
      "outputs": [
        {
          "output_type": "stream",
          "name": "stdout",
          "text": [
            "First Non Repeating Character in string:  r :  1\n"
          ]
        }
      ],
      "source": [
        "s1 = 'My work is as what you can see Minakshi'\n",
        "\n",
        "char_counter = dict()\n",
        "\n",
        "for ch in s1:\n",
        "    char_counter[ch] = (char_counter.get(ch,0))+1\n",
        "\n",
        "for key, val in char_counter.items():\n",
        "    if val == 1:\n",
        "        print('First Non Repeating Character in string: ',key,': ',val)\n",
        "        break"
      ]
    }
  ]
}