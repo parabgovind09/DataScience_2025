{
  "nbformat": 4,
  "nbformat_minor": 0,
  "metadata": {
    "colab": {
      "provenance": [],
      "authorship_tag": "ABX9TyMrgbhjQEpVhOAo2XuTno98"
    },
    "kernelspec": {
      "name": "python3",
      "display_name": "Python 3"
    },
    "language_info": {
      "name": "python"
    }
  },
  "cells": [
    {
      "cell_type": "code",
      "execution_count": null,
      "metadata": {
        "colab": {
          "base_uri": "https://localhost:8080/"
        },
        "id": "Xd0K_RuA9dLU",
        "outputId": "8b601a9b-88c6-4db5-e14c-88bb677491ae"
      },
      "outputs": [
        {
          "output_type": "stream",
          "name": "stdout",
          "text": [
            "Enter string to be checked: nayan\n",
            "Yes it is palindrome\n"
          ]
        }
      ],
      "source": [
        "s1 = str(input('Enter string to be checked: '))\n",
        "\n",
        "if s1 == s1[::-1]:\n",
        "    print('Yes it is palindrome')\n",
        "else:\n",
        "    print('No it is not palindrome')"
      ]
    },
    {
      "cell_type": "code",
      "source": [
        "s1 = str(input('Enter string to be checked: '))\n",
        "\n",
        "i,j= 0, len(s1)-1\n",
        "isPalindrome= True\n",
        "while i < j:\n",
        "    if s1[i] != s1[j]:\n",
        "        isPalindrome = False\n",
        "        break;\n",
        "    i = i+1\n",
        "    j = j-1\n",
        "\n",
        "if isPalindrome:\n",
        "    print('Yes it is not a palindrome')\n",
        "else:\n",
        "    print('No it is not a palindrome')"
      ],
      "metadata": {
        "colab": {
          "base_uri": "https://localhost:8080/"
        },
        "id": "LOHHysCG_CbC",
        "outputId": "7089fbc7-56cc-49a8-9420-71ec280ae484"
      },
      "execution_count": null,
      "outputs": [
        {
          "output_type": "stream",
          "name": "stdout",
          "text": [
            "Enter string to be checked: 123321\n",
            "Yes it is not a palindrome\n"
          ]
        }
      ]
    }
  ]
}