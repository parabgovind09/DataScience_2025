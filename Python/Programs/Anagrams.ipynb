{
  "nbformat": 4,
  "nbformat_minor": 0,
  "metadata": {
    "colab": {
      "provenance": [],
      "authorship_tag": "ABX9TyPP/x1HCj4umGB0pIJko87f"
    },
    "kernelspec": {
      "name": "python3",
      "display_name": "Python 3"
    },
    "language_info": {
      "name": "python"
    }
  },
  "cells": [
    {
      "cell_type": "code",
      "execution_count": null,
      "metadata": {
        "id": "f1Ns4EIuhNRy",
        "colab": {
          "base_uri": "https://localhost:8080/"
        },
        "outputId": "2c00d2a0-a80a-4f02-d162-02bcc9bb24c1"
      },
      "outputs": [
        {
          "output_type": "stream",
          "name": "stdout",
          "text": [
            "It\"s a anagram string\n"
          ]
        }
      ],
      "source": [
        "def myAnagram(s1,s2):\n",
        "\n",
        "    s1.replace(\" \",\"\")\n",
        "    s2.replace(\" \",\"\")\n",
        "\n",
        "    if len(s1) != len(s2):\n",
        "        return \"Not a Anagram String\"\n",
        "    char_count = dict()\n",
        "\n",
        "    for ch in s1:\n",
        "        char_count[ch] = char_count.get(ch,0)+1\n",
        "\n",
        "    for ch in s2:\n",
        "        char_count[ch] = char_count.get(ch,0)-1\n",
        "\n",
        "    if all(val==0 for val in char_count.values()):\n",
        "        return 'It\"s a anagram string'\n",
        "    else:\n",
        "        return 'Not an anagram string'\n",
        "\n",
        "\n",
        "print(myAnagram('quiick','kciiuq'))"
      ]
    },
    {
      "cell_type": "code",
      "source": [
        "def myAnagram2(s1,s2):\n",
        "\n",
        "    s1.replace(\" \",\"\")\n",
        "    s2.replace(\" \",\"\")\n",
        "    if len(s1) != len(s2):\n",
        "        return 'Not an Anagram string'\n",
        "\n",
        "    if sorted(s1) == sorted(s2):\n",
        "        return 'It\"s a Anagram String'\n",
        "    else:\n",
        "        return 'Not an Anagram string'\n",
        "\n",
        "print(myAnagram2('vindgno','govind'))"
      ],
      "metadata": {
        "id": "tJTmhGYE4C8U",
        "colab": {
          "base_uri": "https://localhost:8080/"
        },
        "outputId": "b4880af0-fc21-471b-a044-76a8c973da5c"
      },
      "execution_count": null,
      "outputs": [
        {
          "output_type": "stream",
          "name": "stdout",
          "text": [
            "Not an Anagram string\n"
          ]
        }
      ]
    }
  ]
}