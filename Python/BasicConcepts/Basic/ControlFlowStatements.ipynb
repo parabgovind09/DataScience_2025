{
  "nbformat": 4,
  "nbformat_minor": 0,
  "metadata": {
    "colab": {
      "provenance": []
    },
    "kernelspec": {
      "name": "python3",
      "display_name": "Python 3"
    },
    "language_info": {
      "name": "python"
    }
  },
  "cells": [
    {
      "cell_type": "markdown",
      "source": [
        "In Python, break, continue, [return], and pass are control flow statements used within loops and conditionals."
      ],
      "metadata": {
        "id": "9HKOK3FFRfOL"
      }
    },
    {
      "cell_type": "code",
      "execution_count": 1,
      "metadata": {
        "colab": {
          "base_uri": "https://localhost:8080/"
        },
        "id": "DZp7gBPCQqtl",
        "outputId": "d3ba2082-9540-4bba-9832-13573fa03304"
      },
      "outputs": [
        {
          "output_type": "stream",
          "name": "stdout",
          "text": [
            "1\n",
            "2\n",
            "3\n",
            "4\n"
          ]
        }
      ],
      "source": [
        "# The break statement is used to exit a loop prematurely, regardless of the loop's condition.\n",
        "# When break is executed, the loop stops immediately, and the program continues with the next statement after the loop.\n",
        "\n",
        "for i in range(1, 11):\n",
        "    if i == 5:\n",
        "        break\n",
        "    print(i)\n"
      ]
    },
    {
      "cell_type": "code",
      "source": [
        "# The continue statement is used to skip the rest of the code inside the loop for the current iteration and move on to the next iteration.\n",
        "# Unlike break, it doesn't exit the loop entirely but skips the current loop iteration.\n",
        "\n",
        "for i in range(1, 11):\n",
        "    if i == 5 or i == 6:\n",
        "        continue\n",
        "    print(i)\n"
      ],
      "metadata": {
        "colab": {
          "base_uri": "https://localhost:8080/"
        },
        "id": "FHiNlKg5RqCg",
        "outputId": "0b5f2c79-916d-4316-9514-609d0b723d83"
      },
      "execution_count": 2,
      "outputs": [
        {
          "output_type": "stream",
          "name": "stdout",
          "text": [
            "1\n",
            "2\n",
            "3\n",
            "4\n",
            "7\n",
            "8\n",
            "9\n",
            "10\n"
          ]
        }
      ]
    },
    {
      "cell_type": "code",
      "source": [
        "# The pass statement is a null operation; it doesn’t do anything when executed.\n",
        "# It’s often used as a placeholder in situations where a statement is syntactically required but you don’t want to write any code.\n",
        "\n",
        "for i in range(1, 6):\n",
        "    if i == 3:\n",
        "        pass\n",
        "    print(i)\n",
        "\n",
        "def myfunct():\n",
        "  pass\n",
        "\n",
        "myfunct()"
      ],
      "metadata": {
        "colab": {
          "base_uri": "https://localhost:8080/"
        },
        "id": "7giIQjskR3tw",
        "outputId": "031bacd0-adf8-4473-d4e4-2577374ddad9"
      },
      "execution_count": 3,
      "outputs": [
        {
          "output_type": "stream",
          "name": "stdout",
          "text": [
            "1\n",
            "2\n",
            "3\n",
            "4\n",
            "5\n"
          ]
        }
      ]
    },
    {
      "cell_type": "code",
      "source": [
        "# The return statement in Python is used to exit a function and send a value (or multiple values) back to the caller.\n",
        "# It is an essential part of defining functions that process data and return results.\n",
        "\n",
        "def sum(a,b):\n",
        "  return a+b\n",
        "\n",
        "print(sum(12,3))\n",
        "\n",
        "\n",
        "def sorting(a,b):\n",
        "  return ((a,b) if a>=b else (b,a))\n",
        "\n",
        "print(sorting(1,3))"
      ],
      "metadata": {
        "colab": {
          "base_uri": "https://localhost:8080/"
        },
        "id": "Mg4FOTfnp2Uk",
        "outputId": "d90e830f-2b52-4be7-cadf-ba5c110c44be"
      },
      "execution_count": 4,
      "outputs": [
        {
          "output_type": "stream",
          "name": "stdout",
          "text": [
            "15\n",
            "(3, 1)\n"
          ]
        }
      ]
    },
    {
      "cell_type": "code",
      "source": [
        "def get_coordinates():\n",
        "    x, y = 10, 20\n",
        "    return x, y  # Returning multiple values as a tuple\n",
        "\n",
        "coordinates = get_coordinates()\n",
        "print(coordinates)  # Output: (10, 20)"
      ],
      "metadata": {
        "colab": {
          "base_uri": "https://localhost:8080/"
        },
        "id": "i1j9wfbaqTMW",
        "outputId": "8f31ebbc-b1b9-453c-c317-b30a50c7fcf5"
      },
      "execution_count": 5,
      "outputs": [
        {
          "output_type": "stream",
          "name": "stdout",
          "text": [
            "(10, 20)\n"
          ]
        }
      ]
    },
    {
      "cell_type": "code",
      "source": [
        "def get_numbers():\n",
        "    return [1, 2, 3, 4, 5]  # Returning a list\n",
        "\n",
        "numbers = get_numbers()\n",
        "print(numbers)  # Output: [1, 2, 3, 4, 5]\n"
      ],
      "metadata": {
        "colab": {
          "base_uri": "https://localhost:8080/"
        },
        "id": "UaujeaBRsXHE",
        "outputId": "736ce438-b5c5-4dfb-faa3-f5115e1596ba"
      },
      "execution_count": 6,
      "outputs": [
        {
          "output_type": "stream",
          "name": "stdout",
          "text": [
            "[1, 2, 3, 4, 5]\n"
          ]
        }
      ]
    },
    {
      "cell_type": "code",
      "source": [
        "def get_person():\n",
        "    return {\"name\": \"Alice\", \"age\": 25}  # Returning a dictionary\n",
        "\n",
        "person = get_person()\n",
        "print(person)  # Output: {'name': 'Alice', 'age': 25}"
      ],
      "metadata": {
        "colab": {
          "base_uri": "https://localhost:8080/"
        },
        "id": "_9EKjbWRsrP1",
        "outputId": "770c56e6-9323-4da0-e2ba-7036dad5b23f"
      },
      "execution_count": 7,
      "outputs": [
        {
          "output_type": "stream",
          "name": "stdout",
          "text": [
            "{'name': 'Alice', 'age': 25}\n"
          ]
        }
      ]
    },
    {
      "cell_type": "code",
      "source": [
        "# If a function does not have a return statement, it automatically returns None.\n",
        "def greet():\n",
        "    pass\n",
        "\n",
        "result = greet()\n",
        "print(result)\n",
        "\n",
        "\n",
        "def greet():\n",
        "    print(\"Hello!\")\n",
        "\n",
        "result = greet()  # No return statement\n",
        "print(result)  # Output: Hello! \\n None\n"
      ],
      "metadata": {
        "colab": {
          "base_uri": "https://localhost:8080/"
        },
        "id": "Yy5uIrfust2o",
        "outputId": "a2155dba-543e-4e09-eff4-5afd1088207d"
      },
      "execution_count": 8,
      "outputs": [
        {
          "output_type": "stream",
          "name": "stdout",
          "text": [
            "None\n",
            "Hello!\n",
            "None\n"
          ]
        }
      ]
    },
    {
      "cell_type": "code",
      "source": [
        "def evenOdd(a):\n",
        "  if(a%2==0):\n",
        "    return \"even\"\n",
        "  return \"odd\"\n",
        "\n",
        "print(evenOdd(5))"
      ],
      "metadata": {
        "colab": {
          "base_uri": "https://localhost:8080/"
        },
        "id": "RU-4Q8Gbsysv",
        "outputId": "d7825248-0c7e-42cf-810f-40b189ff0406"
      },
      "execution_count": 9,
      "outputs": [
        {
          "output_type": "stream",
          "name": "stdout",
          "text": [
            "odd\n"
          ]
        }
      ]
    },
    {
      "cell_type": "code",
      "source": [
        "def factorial(n):\n",
        "    if n == 0 or n == 1:\n",
        "        return 1\n",
        "    return n * factorial(n - 1)\n",
        "\n",
        "print(factorial(5))\n"
      ],
      "metadata": {
        "colab": {
          "base_uri": "https://localhost:8080/"
        },
        "id": "rgHOCqGLtWUX",
        "outputId": "aaf874d7-aa07-4631-c213-2a6e3337d440"
      },
      "execution_count": 10,
      "outputs": [
        {
          "output_type": "stream",
          "name": "stdout",
          "text": [
            "120\n"
          ]
        }
      ]
    },
    {
      "cell_type": "code",
      "source": [],
      "metadata": {
        "id": "1rZjKh-itlXk"
      },
      "execution_count": 10,
      "outputs": []
    }
  ]
}