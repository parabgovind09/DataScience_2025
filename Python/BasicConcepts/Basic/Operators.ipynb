{
  "nbformat": 4,
  "nbformat_minor": 0,
  "metadata": {
    "colab": {
      "provenance": []
    },
    "kernelspec": {
      "name": "python3",
      "display_name": "Python 3"
    },
    "language_info": {
      "name": "python"
    }
  },
  "cells": [
    {
      "cell_type": "markdown",
      "source": [
        "Operators in general are used to perform operations on values and variables.\n",
        "</br>\n",
        "OPERATORS: These are the special symbols. Eg- + , * , /, etc.\n",
        "</br>\n",
        "OPERAND: It is the value on which the operator is applied."
      ],
      "metadata": {
        "id": "yr-t5-64By4e"
      }
    },
    {
      "cell_type": "code",
      "source": [
        "# The Walrus operator (:=), introduced in Python 3.8, ****allows you to assign a value to a variable as part of an expression****\n",
        "# This can make your code more concise and can eliminate the need for additional lines of code just to assign and then use a variable.\n",
        "while (data := input(\"Enter something: \")) != \"quit\":\n",
        "    print(data)\n",
        "\n",
        "numbers = [4, 8, 15, 16, 23, 42]\n",
        "filtered = [square for num in numbers if (square := num ** 2) > 100]\n",
        "print(filtered)  # Output: [225, 256, 529, 1764]\n",
        "\n",
        "if((text_lenght := len(\"Hello World!\")) > 5):\n",
        "  print(f\"Text has {text_lenght} characters\")\n",
        "\n",
        "def callme():\n",
        "  return 100\n",
        "\n",
        "if((res:=callme())>50):\n",
        "    print(\"Pass\")"
      ],
      "metadata": {
        "id": "aTHnJtUn9Yhi",
        "colab": {
          "base_uri": "https://localhost:8080/"
        },
        "outputId": "25a68a91-0a88-48ff-ae84-4e79778c225e"
      },
      "execution_count": 1,
      "outputs": [
        {
          "output_type": "stream",
          "name": "stdout",
          "text": [
            "Enter something: quit\n",
            "[225, 256, 529, 1764]\n",
            "Text has 12 characters\n",
            "Pass\n"
          ]
        }
      ]
    },
    {
      "cell_type": "code",
      "source": [
        "# Membership Operators\n",
        "# The Python membership operators test for the membership of an object in a sequence, such as strings, lists, or tuples.\n",
        "# in            True if value is found in the sequence\n",
        "# not in        True if value is not found in the sequence\n",
        "\n",
        "# in operator and not in operator\n",
        "\n",
        "list1 = [1, 2, 3, 4, 5, \"kite\"]\n",
        "str1 = \"Hello World\"\n",
        "set1 = {1, 2, 3, 4, 5}\n",
        "dict1 = {1: \"love\", 2:\"for\", 3:\"love\"}\n",
        "tup1 = (1, 2, 3, 4, 5)\n",
        "\n",
        "# checking an integer in a list\n",
        "print(2 in list1)\n",
        "\n",
        "# checking an string in a list\n",
        "print(\"kite\" in list1)\n",
        "\n",
        "# checking a character in a string\n",
        "print('O' in str1)\n",
        "\n",
        "# checking an integer in a set\n",
        "print(6 in set1)\n",
        "\n",
        "# checking for a key in a dictionary\n",
        "print(1 in dict1)\n",
        "\n",
        "# checking for an integer in a tuple\n",
        "print(9 in tup1)\n",
        "\n",
        "dict1 = {1: 'apple', 2: 'banana', 3: 'cherry'}\n",
        "\n",
        "# Check if value 'banana' exists\n",
        "print('banana' in dict1.values())  # Output: True\n",
        "\n",
        "# Check if value 'grape' exists\n",
        "print('grape' in dict1.values())   # Output: False\n",
        "\n",
        "\n",
        "# Similarly we can go with the not in operator\n",
        "# The ‘not in’ Python operator evaluates to true if it does not find the variable in the specified sequence and false otherwise."
      ],
      "metadata": {
        "colab": {
          "base_uri": "https://localhost:8080/"
        },
        "id": "q5FyNf0nxKdv",
        "outputId": "b8d46030-3f2a-4f53-a03b-1f2e8b18122e"
      },
      "execution_count": 2,
      "outputs": [
        {
          "output_type": "stream",
          "name": "stdout",
          "text": [
            "True\n",
            "True\n",
            "False\n",
            "False\n",
            "True\n",
            "False\n",
            "True\n",
            "False\n"
          ]
        }
      ]
    },
    {
      "cell_type": "code",
      "source": [
        "# Identity Operators\n",
        "# The Python Identity Operators are used to compare the objects if both the objects are actually of the same data type and share the same memory location.\n",
        "\n",
        "# is operator and is not operator\n",
        "\n",
        "# Python optimizes small integers by reusing existing objects.\n",
        "num1 = 5\n",
        "num2 = 5\n",
        "print(num1 is num2)\n",
        "num1 = num1+3\n",
        "num3 = 8\n",
        "print(num1 is num3)\n",
        "\n",
        "\n",
        "# Lists in Python are mutable, so even if lst1 and lst2 have the same content, they are different objects in memory. Thus, lst1 is lst2 returns False.\n",
        "# However, lst3 is explicitly assigned to lst1, meaning they point to the same object, so lst1 is lst3 returns True.\n",
        "lst1 = [1, 2, 3]\n",
        "lst2 = [1, 2, 3]\n",
        "lst3 = lst1\n",
        "print(lst1 is lst2)\n",
        "print(lst1 is lst3)\n",
        "print(lst2 is lst3)\n",
        "\n",
        "# tuple\n",
        "tup1 = (1,2,3)\n",
        "tup2 = (1,2,3)\n",
        "tup3 = tup1\n",
        "\n",
        "print(\"tup1 is tup2\",tup1 is tup2)\n",
        "print(\"tup1 is tup3\",tup1 is tup3)\n",
        "\n",
        "# For strings, it depends on whether Python decides to intern the string or not.\n",
        "str1 = \"hello world\"\n",
        "str2 = \"hello world\"\n",
        "\n",
        "print(str1 is str2)\n",
        "\n",
        "# Similrly we can go with the is not operator\n",
        "# is not - Returns True if objects are different\n",
        "\n",
        "# Note\n",
        "# Difference between ‘==’ and ‘is’ Operator\n",
        "# While comparing objects in Python, the users often gets confused between the Equality operator and Identity ‘is’ operator.\n",
        "# The equality operator is used to compare the value of two variables, whereas the identities operator is used to compare the memory location of two variables.\n",
        "print(\"lst1 == lst2\",lst1 == lst2)\n",
        "print(\"lst1 is lst2\",lst1 is lst2)"
      ],
      "metadata": {
        "colab": {
          "base_uri": "https://localhost:8080/"
        },
        "id": "9874vHS41fnU",
        "outputId": "a73563c9-b25a-41d3-a2c2-96fee213a2bc"
      },
      "execution_count": 3,
      "outputs": [
        {
          "output_type": "stream",
          "name": "stdout",
          "text": [
            "True\n",
            "True\n",
            "False\n",
            "True\n",
            "False\n",
            "tup1 is tup2 False\n",
            "tup1 is tup3 True\n",
            "False\n",
            "lst1 == lst2 True\n",
            "lst1 is lst2 False\n"
          ]
        }
      ]
    },
    {
      "cell_type": "code",
      "source": [
        "# Ternary Operator\n",
        "print(\"Greater than\" if 5 > 6 else \"less than\")\n",
        "# Nested Ternary Operator\n",
        "print(\"Positive\" if -15 > 0 else \"Negative\" if -15 < 0 else \"Zero\")"
      ],
      "metadata": {
        "colab": {
          "base_uri": "https://localhost:8080/"
        },
        "id": "VyZGSXBV7cbc",
        "outputId": "66a9826d-17d3-45cd-b104-7413efcc1e2f"
      },
      "execution_count": 4,
      "outputs": [
        {
          "output_type": "stream",
          "name": "stdout",
          "text": [
            "less than\n",
            "Negative\n"
          ]
        }
      ]
    },
    {
      "cell_type": "code",
      "execution_count": 5,
      "metadata": {
        "id": "iwcOKp8Bt68B",
        "colab": {
          "base_uri": "https://localhost:8080/"
        },
        "outputId": "3d0ddce5-1187-4725-cf32-6b71d59da098"
      },
      "outputs": [
        {
          "output_type": "stream",
          "name": "stdout",
          "text": [
            "add =  8\n",
            "sub =  2\n",
            "mul =  15\n",
            "div =  1.6666666666666667\n",
            "mod =  2\n",
            "floor div =  1\n",
            "expo =  125\n"
          ]
        }
      ],
      "source": [
        "# Arithematic operators\n",
        "# Used for mathematical operations.\n",
        "x = 5 + 3\n",
        "print(\"add = \",x)\n",
        "x = 5 - 3\n",
        "print(\"sub = \",x)\n",
        "x = 5 * 3\n",
        "print(\"mul = \",x)\n",
        "x = 5 / 3\n",
        "print(\"div = \",x)\n",
        "x = 5 % 3\n",
        "print(\"mod = \",x)\n",
        "x = 5 // 3\n",
        "print(\"floor div = \",x)\n",
        "x = 5 ** 3\n",
        "print(\"expo = \",x)"
      ]
    },
    {
      "cell_type": "code",
      "source": [
        "# Comparison Operators (Relational Operator)\n",
        "# These operators compare the values of two operands and return a boolean (True or False).\n",
        "\n",
        "# equal\n",
        "# In Python, you use == to check for equality and is to check for identity (if two references point to the same object).\n",
        "x = 5 == 5\n",
        "print(x)\n",
        "y = 5 == 3\n",
        "print(y)\n",
        "\n",
        "# notEqual\n",
        "x = 5 != 5\n",
        "print(x)\n",
        "y = 5 != 3\n",
        "print(y)\n",
        "\n",
        "# greater than\n",
        "x = 5 > 5\n",
        "print(x)\n",
        "y = 5 > 3\n",
        "print(y)\n",
        "z = 5 > 8\n",
        "print(z)\n",
        "\n",
        "# less than\n",
        "x = 5 < 5\n",
        "print(x)\n",
        "y = 5 < 3\n",
        "print(y)\n",
        "z = 5 < 8\n",
        "print(z)\n",
        "\n",
        "# greater than or equal\n",
        "x = 5 >= 5\n",
        "print(x)\n",
        "y = 5 >= 3\n",
        "print(y)\n",
        "z = 5 >= 8\n",
        "print(z)\n",
        "\n",
        "# less than or equal\n",
        "x = 5 >= 5\n",
        "print(x)\n",
        "y = 5 >= 3\n",
        "print(y)\n",
        "z = 5 >= 8\n",
        "print(z)"
      ],
      "metadata": {
        "colab": {
          "base_uri": "https://localhost:8080/"
        },
        "id": "6UATWEubasey",
        "outputId": "e7c434cf-6c6f-4da8-d83d-6c3f277acae6"
      },
      "execution_count": 6,
      "outputs": [
        {
          "output_type": "stream",
          "name": "stdout",
          "text": [
            "True\n",
            "False\n",
            "False\n",
            "True\n",
            "False\n",
            "True\n",
            "False\n",
            "False\n",
            "False\n",
            "True\n",
            "True\n",
            "True\n",
            "False\n",
            "True\n",
            "True\n",
            "False\n"
          ]
        }
      ]
    },
    {
      "cell_type": "code",
      "source": [
        "# Logical Operators\n",
        "# These operators are used to combine conditional statements.\n",
        "x = (5 > 3) and (3 < 4) # and: Returns True if both statements are true.\n",
        "print(x)\n",
        "x = (5 > 3) or (3 > 4) # or: Returns True if at least one of the statements is true.\n",
        "print(x)\n",
        "x = not(5 > 3)  # not: Reverses the result, returns False if the result is true.\n",
        "print(x)"
      ],
      "metadata": {
        "colab": {
          "base_uri": "https://localhost:8080/"
        },
        "id": "LHquJrREbq8O",
        "outputId": "fe35e1ef-4c1b-405c-97ad-7a98c589a853"
      },
      "execution_count": 7,
      "outputs": [
        {
          "output_type": "stream",
          "name": "stdout",
          "text": [
            "True\n",
            "True\n",
            "False\n"
          ]
        }
      ]
    },
    {
      "cell_type": "code",
      "source": [
        "# Bitwise Operators\n",
        "# These operators are used to perform bit-level operations.\n",
        "\n",
        "# 5 = 0101\n",
        "# 3 = 0011\n",
        "# 8 = 1000\n",
        "\n",
        "# & (AND): Sets each bit to 1 if both bits are 1.\n",
        "x = 5 & 3\n",
        "print(x)\n",
        "# | (OR): Sets each bit to 1 if one of the bits is 1.\n",
        "x = 5 | 3\n",
        "print(x)\n",
        "# ^ (XOR): Sets each bit to 1 if only one of the bits is 1.\n",
        "x = 5 ^ 3\n",
        "print(x)\n",
        "# ~ (NOT): Inverts all the bits.\n",
        "x = ~15 # -(1111)+0001 = -(10000) = -16\n",
        "print(x)\n",
        "# << (Zero fill left shift): Shifts bits to the left, filling with zeros.\n",
        "x = 5 << 1\n",
        "print(x)\n",
        "x = -5 << 1\n",
        "print(x)\n",
        "# >> (Signed right shift): Shifts bits to the right.\n",
        "# Convert 5 to binary:\n",
        "# 5  = 0000 0101 (in 8-bit representation)\n",
        "# Shift right by 1 bit:\n",
        "# 0000 0101  >> 1  →  0000 0010  (which is 2 in decimal)\n",
        "x = 5 >> 1\n",
        "print(x)\n",
        "# Negative numbers in binary are stored in two’s complement form.\n",
        "# Convert -5 to binary (using 8-bit representation):\n",
        "# -5  = 1111 1011  (two’s complement of 5)\n",
        "# Shift right by 1 bit:\n",
        "# 1111 1011  >> 1  →  1111 1101\n",
        "# 1111 1101 is still a negative number in two’s complement, which is -3 in decimal.\n",
        "x = -5 >> 1\n",
        "print(x)"
      ],
      "metadata": {
        "colab": {
          "base_uri": "https://localhost:8080/"
        },
        "id": "l-QEndHSkXuf",
        "outputId": "aaa17a98-1407-4e93-d8c9-7a704807a6bc"
      },
      "execution_count": 8,
      "outputs": [
        {
          "output_type": "stream",
          "name": "stdout",
          "text": [
            "1\n",
            "7\n",
            "6\n",
            "-16\n",
            "10\n",
            "-10\n",
            "2\n",
            "-3\n"
          ]
        }
      ]
    },
    {
      "cell_type": "code",
      "source": [
        "# Assignment Operators\n",
        "# Initial assignment\n",
        "x = 10\n",
        "print(\"Initial value of x:\", x)\n",
        "\n",
        "# += : Add and Assign\n",
        "x += 5  # Equivalent to x = x + 5\n",
        "print(\"After x += 5:\", x)\n",
        "\n",
        "# -= : Subtract and Assign\n",
        "x -= 3  # Equivalent to x = x - 3\n",
        "print(\"After x -= 3:\", x)\n",
        "\n",
        "# *= : Multiply and Assign\n",
        "x *= 2  # Equivalent to x = x * 2\n",
        "print(\"After x *= 2:\", x)\n",
        "\n",
        "# /= : Divide and Assign\n",
        "x /= 4  # Equivalent to x = x / 4\n",
        "print(\"After x /= 4:\", x)\n",
        "\n",
        "# %= : Modulus and Assign\n",
        "x %= 3  # Equivalent to x = x % 3\n",
        "print(\"After x %= 3:\", x)\n",
        "\n",
        "# //= : Floor Divide and Assign\n",
        "x = 7   # Reassign x for demonstration\n",
        "x //= 2  # Equivalent to x = x // 2\n",
        "print(\"After x //= 2:\", x)\n",
        "\n",
        "# **= : Exponent and Assign\n",
        "x **= 3  # Equivalent to x = x ** 3\n",
        "print(\"After x **= 3:\", x)\n",
        "\n",
        "# &= : Bitwise AND and Assign\n",
        "x = 10  # Reassign x for demonstration\n",
        "x &= 7  # Equivalent to x = x & 7 (10 & 7 = 2 in binary)\n",
        "print(\"After x &= 7:\", x)\n",
        "\n",
        "# |= : Bitwise OR and Assign\n",
        "x |= 5  # Equivalent to x = x | 5 (2 | 5 = 7 in binary)\n",
        "print(\"After x |= 5:\", x)\n",
        "\n",
        "# ^= : Bitwise XOR and Assign\n",
        "x ^= 3  # Equivalent to x = x ^ 3 (7 ^ 3 = 4 in binary)\n",
        "print(\"After x ^= 3:\", x)\n",
        "\n",
        "# <<= : Bitwise Left Shift and Assign\n",
        "x <<= 2  # Equivalent to x = x << 2 (4 << 2 = 16 in binary)\n",
        "print(\"After x <<= 2:\", x)\n",
        "\n",
        "# >>= : Bitwise Right Shift and Assign\n",
        "x >>= 1  # Equivalent to x = x >> 1 (16 >> 1 = 8 in binary)\n",
        "print(\"After x >>= 1:\", x)\n",
        "\n",
        "# := : Walrus operator (Assignment expression)\n",
        "# This operator is used within an expression and is only available in Python 3.8+\n",
        "if (y := x + 5) > 10:\n",
        "    print(\"y is greater than 10; y:\", y)\n"
      ],
      "metadata": {
        "colab": {
          "base_uri": "https://localhost:8080/"
        },
        "id": "aIJxzHVsno8o",
        "outputId": "43b96e33-0b63-4cad-e07e-6a4afb77bbe6"
      },
      "execution_count": 9,
      "outputs": [
        {
          "output_type": "stream",
          "name": "stdout",
          "text": [
            "Initial value of x: 10\n",
            "After x += 5: 15\n",
            "After x -= 3: 12\n",
            "After x *= 2: 24\n",
            "After x /= 4: 6.0\n",
            "After x %= 3: 0.0\n",
            "After x //= 2: 3\n",
            "After x **= 3: 27\n",
            "After x &= 7: 2\n",
            "After x |= 5: 7\n",
            "After x ^= 3: 4\n",
            "After x <<= 2: 16\n",
            "After x >>= 1: 8\n",
            "y is greater than 10; y: 13\n"
          ]
        }
      ]
    },
    {
      "cell_type": "code",
      "source": [
        "# Parentheses: ()\n",
        "# Exponentiation: **\n",
        "# Unary Plus, Minus, and Bitwise NOT: +x, -x, ~x\n",
        "# Multiplication, Division, Floor Division, and Modulus: *, /, //, %\n",
        "# Addition and Subtraction: +, -\n",
        "# Bitwise Shifts: <<, >>\n",
        "# Bitwise AND: &\n",
        "# Bitwise XOR: ^\n",
        "# Bitwise OR: |\n",
        "# Comparison Operators: ==, !=, >, >=, <, <=, is, is not, in, not in\n",
        "# Logical NOT: not\n",
        "# Logical AND: and\n",
        "# Logical OR: or\n",
        "# Conditional Expressions: if-else\n",
        "# Assignment Operators: =, +=, -=, *=, /=, %=, //=, **=, &=, |=, ^=, >>=, <<=\n",
        "# Lambda Expressions: lambda\n",
        "\n",
        "# Associativity defines the order in which operators of the same precedence level are evaluated.\n",
        "# Most operators in Python have left-to-right associativity. However, the exponentiation operator (**) has right-to-left associativity.\n",
        "\n",
        "x = 2 ** 3 ** 2  # x = 2 ** (3 ** 2) = 2 ** 9 = 512\n",
        "y = (2 ** 3) ** 2  # y = (2 ** 3) ** 2 = 8 ** 2 = 64\n",
        "# In above code x = 2 ** 3 ** 2, the exponentiation is evaluated from right to left because of the right-to-left associativity of the ** operator.\n",
        "\n",
        "\n",
        "x = 2 + 3 * 4  # x = 2 + (3 * 4) = 2 + 12 = 14\n",
        "# The multiplication (*) has higher precedence than addition (+), so 3 * 4 is evaluated first.\n",
        "\n",
        "\n",
        "x = -3 ** 2  # x = -(3 ** 2) = -9\n",
        "y = (-3) ** 2  # y = 9\n",
        "# The exponentiation (**) has higher precedence than the unary minus (-), so 3 ** 2 is evaluated first, and then the result is negated.\n",
        "\n",
        "\n",
        "x = True or False and False  # x = True or (False and False) = True or False = True\n",
        "# The and operator has higher precedence than or, so False and False is evaluated first.\n",
        "\n",
        "\n",
        "x = 3 < 4 and 4 < 5  # x = (3 < 4) and (4 < 5) = True and True = True\n",
        "# The comparison operators (<, >, etc.) have higher precedence than the logical operators (and, or, etc.).\n",
        "\n",
        "\n",
        "x = (2 + 3) * 4  # x = 5 * 4 = 20\n",
        "# Parentheses can be used to change the order of evaluation, forcing the addition to be evaluated before the multiplication.\n",
        "\n",
        "print(3 + 5 * 2)   # 13 (Multiplication first)\n",
        "print((3 + 5) * 2) # 16 (Parentheses first)\n",
        "\n",
        "# chaining of operators is also there but don't do unless required"
      ],
      "metadata": {
        "id": "slNbpzTPvpKi",
        "colab": {
          "base_uri": "https://localhost:8080/"
        },
        "outputId": "3b93ffa0-067c-4853-d5ea-9f06b5790005"
      },
      "execution_count": 10,
      "outputs": [
        {
          "output_type": "stream",
          "name": "stdout",
          "text": [
            "13\n",
            "16\n"
          ]
        }
      ]
    },
    {
      "cell_type": "code",
      "source": [
        "# | **Precedence** | **Operators** | **Description** | **Associativity** |\n",
        "# |--------------|-------------|-------------|-------------|\n",
        "# | **1 (Highest)** | `()` | Parentheses | **Left to Right** |\n",
        "# | **2** | `x[index]`, `x[index:index]` | Subscription (indexing), slicing | **Left to Right** |\n",
        "# | **3** | `await x` | Await expression (async operations) | **N/A** |\n",
        "# | **4** | `**` | Exponentiation (Power) | **Right to Left** |\n",
        "# | **5** | `+x`, `-x`, `~x` | Unary plus, Unary minus, Bitwise NOT | **Right to Left** |\n",
        "# | **6** | `*`, `@`, `/`, `//`, `%` | Multiplication, matrix multiplication, division, floor division, modulus | **Left to Right** |\n",
        "# | **7** | `+`, `-` | Addition, Subtraction | **Left to Right** |\n",
        "# | **8** | `<<`, `>>` | Bitwise Shift Left, Shift Right | **Left to Right** |\n",
        "# | **9** | `&` | Bitwise AND | **Left to Right** |\n",
        "# | **10** | `^` | Bitwise XOR | **Left to Right** |\n",
        "# | **11** | `|` | Bitwise OR | **Left to Right** |\n",
        "# | **12** | `in`, `not in`, `is`, `is not`, `<`, `<=`, `>`, `>=`, `!=`, `==` | Comparison, Membership, Identity Tests | **Left to Right** |\n",
        "# | **13** | `not x` | Boolean NOT | **Right to Left** |\n",
        "# | **14** | `and` | Boolean AND | **Left to Right** |\n",
        "# | **15** | `or` | Boolean OR | **Left to Right** |\n",
        "# | **16** | `if-else` | Conditional Expression (Ternary Operator) | **Right to Left** |\n",
        "# | **17** | `lambda` | Lambda Expression | **N/A** |\n",
        "# | **18 (Lowest)** | `:=` | Walrus Operator (Assignment Expression) | **Right to Left** |\n"
      ],
      "metadata": {
        "id": "_ElNFeGJWv0P"
      },
      "execution_count": 11,
      "outputs": []
    },
    {
      "cell_type": "code",
      "source": [
        "# Step-by-step Explanation:\n",
        "# 1. Understanding the >> operator:\n",
        "# The >> operator is the right shift operator.\n",
        "\n",
        "# In Python, when you use x >> n, it shifts the bits of x to the right by n positions.\n",
        "\n",
        "# For positive numbers, it shifts in 0s from the left.\n",
        "\n",
        "# For negative numbers, Python preserves the sign (arithmetic shift): it shifts in 1s from the left to maintain the sign.\n",
        "\n",
        "# 2. Binary of -5 in 8-bit two’s complement:\n",
        "# First, binary of +5 in 8-bit:\n",
        "# 0000 0101\n",
        "\n",
        "# Two’s complement of +5 (to get -5):\n",
        "\n",
        "# Invert bits: 1111 1010\n",
        "\n",
        "# Add 1: 1111 1011 → This is -5 in 8-bit two's complement.\n",
        "\n",
        "# 3. Right shifting -5:\n",
        "# 1111 1011  (which is -5)\n",
        "# >> 1\n",
        "# ---------\n",
        "# 1111 1101  (arithmetic right shift – sign-extended with 1)\n",
        "# 4. What is 1111 1101 in decimal?\n",
        "# This is a negative number (leading 1).\n",
        "\n",
        "# To find its decimal value:\n",
        "\n",
        "# Invert: 0000 0010\n",
        "\n",
        "# Add 1: 0000 0011 → which is 3\n",
        "\n",
        "# So 1111 1101 = -3\n",
        "\n"
      ],
      "metadata": {
        "id": "Qk9plQkTuh-w"
      },
      "execution_count": 12,
      "outputs": []
    },
    {
      "cell_type": "code",
      "source": [],
      "metadata": {
        "id": "P74S5HfHux7i"
      },
      "execution_count": 12,
      "outputs": []
    }
  ]
}