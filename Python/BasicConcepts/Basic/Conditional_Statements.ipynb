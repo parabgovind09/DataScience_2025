{
  "nbformat": 4,
  "nbformat_minor": 0,
  "metadata": {
    "colab": {
      "provenance": []
    },
    "kernelspec": {
      "name": "python3",
      "display_name": "Python 3"
    },
    "language_info": {
      "name": "python"
    }
  },
  "cells": [
    {
      "cell_type": "markdown",
      "source": [
        "**Conditional Statements** are used to execute a block of code based on certain conditions.\n",
        "These conditions typically evaluate to either True or False, and depending on the result, specific code blocks can be executed.\n"
      ],
      "metadata": {
        "id": "3AS-41P73Bi7"
      }
    },
    {
      "cell_type": "code",
      "execution_count": 1,
      "metadata": {
        "colab": {
          "base_uri": "https://localhost:8080/"
        },
        "id": "mNSKDrfy1qpR",
        "outputId": "d87c3a1e-13dd-4da8-9cdd-f345fff2ae23"
      },
      "outputs": [
        {
          "output_type": "stream",
          "name": "stdout",
          "text": [
            "You are eligible to vote\n"
          ]
        }
      ],
      "source": [
        "# The if statement is the most basic form of conditional statement in Python. It allows you to execute a block of code only if a certain condition is true.\n",
        "age = 18\n",
        "if age >= 18:\n",
        "  print(\"You are eligible to vote\")"
      ]
    },
    {
      "cell_type": "code",
      "source": [
        "# The else statement is used to define an alternative block of code that runs when the if condition is not met.\n",
        "age = 16\n",
        "if age >= 18:\n",
        "    print(\"You are eligible to vote\")\n",
        "else:\n",
        "    print(\"You are not eligible to vote\")\n"
      ],
      "metadata": {
        "colab": {
          "base_uri": "https://localhost:8080/"
        },
        "id": "KR7S2Uee3jdA",
        "outputId": "fadc4401-391c-4b36-d3da-13788e8806a9"
      },
      "execution_count": 2,
      "outputs": [
        {
          "output_type": "stream",
          "name": "stdout",
          "text": [
            "You are not eligible to vote\n"
          ]
        }
      ]
    },
    {
      "cell_type": "code",
      "source": [
        "# If-elif-else Conditional Statements in Python\n",
        "# The if statements are executed from the top down.\n",
        "# As soon as one of the conditions controlling the if is true, the statement associated with that if is executed, and the rest of the ladder is bypassed.\n",
        "# If none of the conditions is true, then the final “else” statement will be executed.\n",
        "\n",
        "marks = 99\n",
        "\n",
        "if marks < 35:\n",
        "  print(\"Grade: F\")\n",
        "elif marks >= 90:\n",
        "    print(\"Grade: A\")\n",
        "elif marks >= 80:\n",
        "    print(\"Grade: B\")\n",
        "elif marks >= 70:\n",
        "    print(\"Grade: C\")\n",
        "else:\n",
        "    print(\"Grade: D\")\n"
      ],
      "metadata": {
        "colab": {
          "base_uri": "https://localhost:8080/"
        },
        "id": "v0OTX76X3yKb",
        "outputId": "93a1df08-0d3d-4626-a901-93bc4bdb4bed"
      },
      "execution_count": 3,
      "outputs": [
        {
          "output_type": "stream",
          "name": "stdout",
          "text": [
            "Grade: A\n"
          ]
        }
      ]
    },
    {
      "cell_type": "code",
      "source": [
        "# Nested if Statements\n",
        "# You can nest if, elif, and else statements inside each other. This is useful for checking conditions within other conditions.\n",
        "\n",
        "age = 20\n",
        "is_registered = False\n",
        "\n",
        "if age >= 18:\n",
        "    if is_registered:\n",
        "        print(\"You are eligible to vote\")\n",
        "    else:\n",
        "        print(\"You need to register to vote\")\n",
        "else:\n",
        "    print(\"You are not eligible to vote\")"
      ],
      "metadata": {
        "colab": {
          "base_uri": "https://localhost:8080/"
        },
        "id": "d-Dl0KIQ5CTp",
        "outputId": "2405b9aa-d4c6-48d1-a081-96a9b0a8bb86"
      },
      "execution_count": 4,
      "outputs": [
        {
          "output_type": "stream",
          "name": "stdout",
          "text": [
            "You need to register to vote\n"
          ]
        }
      ]
    },
    {
      "cell_type": "code",
      "source": [
        "# The Python ternary Expression determines if a condition is true or false and then returns the appropriate value in accordance with the result.\n",
        "# The ternary Expression is useful in cases where we need to assign a value to a variable based on a simple condition, and we want to keep our code more concise — all in just one line of code.\n",
        "# Syntax: [on_true] if [expression] else [on_false]\n",
        "# expression: conditional_expression | lambda_expr\n",
        "\n",
        "\n",
        "age = 2\n",
        "print(\"Eligible to vote\" if age >= 18 else \"Not eligible to vote\")"
      ],
      "metadata": {
        "colab": {
          "base_uri": "https://localhost:8080/"
        },
        "id": "VxUVD8fh5qEP",
        "outputId": "84df5b9f-2629-4933-fb4b-b017b564770f"
      },
      "execution_count": 5,
      "outputs": [
        {
          "output_type": "stream",
          "name": "stdout",
          "text": [
            "Not eligible to vote\n"
          ]
        }
      ]
    },
    {
      "cell_type": "code",
      "source": [
        "# [on_true] if [condition] else [on_false]\n",
        "# lambda arguments: on_true if condition else on_false\n",
        "\n",
        "check_even = lambda x: \"Even\" if x % 2 == 0 else \"Odd\"\n",
        "print(check_even(10))  # Output: Even\n",
        "print(check_even(7))   # Output: Odd"
      ],
      "metadata": {
        "colab": {
          "base_uri": "https://localhost:8080/"
        },
        "id": "7YkKeEyb6jMn",
        "outputId": "1bbfc295-0e2d-41f9-86e6-adc9584f9f63"
      },
      "execution_count": 6,
      "outputs": [
        {
          "output_type": "stream",
          "name": "stdout",
          "text": [
            "Even\n",
            "Odd\n"
          ]
        }
      ]
    },
    {
      "cell_type": "code",
      "source": [
        "score = 99\n",
        "\n",
        "grade = 'F' if score <= 35 else ('A' if score >= 90 else ('B' if score >= 80 else ('C' if score >= 70 else 'D')))\n",
        "print(grade)"
      ],
      "metadata": {
        "colab": {
          "base_uri": "https://localhost:8080/"
        },
        "id": "CSJH6w5Y7j2Q",
        "outputId": "1fbc37c4-5c51-4464-d492-bd60c5e3ae3a"
      },
      "execution_count": 7,
      "outputs": [
        {
          "output_type": "stream",
          "name": "stdout",
          "text": [
            "A\n"
          ]
        }
      ]
    },
    {
      "cell_type": "code",
      "source": [
        "# match subject:\n",
        "#     case pattern1:\n",
        "#         # Code block if pattern1 matches\n",
        "#     case pattern2:\n",
        "#         # Code block if pattern2 matches\n",
        "#     case _:\n",
        "#         # Default case (wildcard) if no other pattern matches\n",
        "\n",
        "def check_number(x):\n",
        "    match x:\n",
        "        case 10:\n",
        "            print(\"It's 10\")\n",
        "        case 20:\n",
        "            print(\"It's 20\")\n",
        "        case _:\n",
        "            print(\"It's neither 10 nor 20\")\n",
        "\n",
        "check_number(10)\n",
        "check_number(30)\n"
      ],
      "metadata": {
        "colab": {
          "base_uri": "https://localhost:8080/"
        },
        "id": "Y0A-Ehep0g-w",
        "outputId": "3d860465-bc06-4bed-e580-742af6f092d1"
      },
      "execution_count": 8,
      "outputs": [
        {
          "output_type": "stream",
          "name": "stdout",
          "text": [
            "It's 10\n",
            "It's neither 10 nor 20\n"
          ]
        }
      ]
    },
    {
      "cell_type": "code",
      "source": [
        "def num_check(x):\n",
        "    match x:\n",
        "        case 10 | 20 | 30:  # Matches 10, 20, or 30\n",
        "            print(f\"Matched: {x}\")\n",
        "        case _:\n",
        "            print(\"No match found\")\n",
        "\n",
        "num_check(10)\n",
        "num_check(20)\n",
        "num_check(25)"
      ],
      "metadata": {
        "colab": {
          "base_uri": "https://localhost:8080/"
        },
        "id": "vL9Tyxuh1xG0",
        "outputId": "4b40b789-9fc5-4f15-cc73-004dee4e748e"
      },
      "execution_count": 9,
      "outputs": [
        {
          "output_type": "stream",
          "name": "stdout",
          "text": [
            "Matched: 10\n",
            "Matched: 20\n",
            "No match found\n"
          ]
        }
      ]
    },
    {
      "cell_type": "code",
      "source": [
        "def num_check(x):\n",
        "    match x:\n",
        "        case 10 if x % 2 == 0:  # Match 10 only if it's even\n",
        "            print(\"Matched 10 and it's even!\")\n",
        "        case 10:\n",
        "            print(\"Matched 10, but it's not even.\")\n",
        "        case _:\n",
        "            print(\"No match found\")\n",
        "\n",
        "num_check(10)\n",
        "num_check(15)"
      ],
      "metadata": {
        "colab": {
          "base_uri": "https://localhost:8080/"
        },
        "id": "Zc-fW1v31Xbo",
        "outputId": "f8e9cfc1-b64b-4fb9-8960-758a3d9565c8"
      },
      "execution_count": 10,
      "outputs": [
        {
          "output_type": "stream",
          "name": "stdout",
          "text": [
            "Matched 10 and it's even!\n",
            "No match found\n"
          ]
        }
      ]
    },
    {
      "cell_type": "code",
      "source": [
        "def process(data):\n",
        "    match data:\n",
        "        case [x, y]:\n",
        "          \t# A list with two elements\n",
        "            print(f\"Two-element list: {x}, {y}\")\n",
        "        case [x, y, z]:\n",
        "          \t# A list with three elements\n",
        "            print(f\"Three-element list: {x}, {y}, {z}\")\n",
        "        case _:\n",
        "            print(\"Unknown data format\")\n",
        "\n",
        "process([1, 2])\n",
        "process([1, 2, 3])\n",
        "process([1, 2, 3, 4])"
      ],
      "metadata": {
        "colab": {
          "base_uri": "https://localhost:8080/"
        },
        "id": "9tR-NvK-2RmW",
        "outputId": "e2a1cac9-de88-4bb6-a774-b571015a2480"
      },
      "execution_count": 11,
      "outputs": [
        {
          "output_type": "stream",
          "name": "stdout",
          "text": [
            "Two-element list: 1, 2\n",
            "Three-element list: 1, 2, 3\n",
            "Unknown data format\n"
          ]
        }
      ]
    },
    {
      "cell_type": "code",
      "source": [
        "def person(person):\n",
        "    match person:\n",
        "\n",
        "      \t# Dictionary with name and age keys\n",
        "        case {\"name\": name, \"age\": age}:\n",
        "            print(f\"Name: {name}, Age: {age}\")\n",
        "\n",
        "        # Dictionary with only name key\n",
        "        case {\"name\": name}:\n",
        "            print(f\"Name: {name}\")\n",
        "        case _:\n",
        "            print(\"Unknown format\")\n",
        "\n",
        "person({\"name\": \"Alice\", \"age\": 25})\n",
        "person({\"name\": \"Bob\"})\n",
        "person({\"city\": \"New York\"})"
      ],
      "metadata": {
        "colab": {
          "base_uri": "https://localhost:8080/"
        },
        "id": "K5kKlAzu2cTk",
        "outputId": "f4b188a2-aac8-4955-ddbb-31789f5d3668"
      },
      "execution_count": 12,
      "outputs": [
        {
          "output_type": "stream",
          "name": "stdout",
          "text": [
            "Name: Alice, Age: 25\n",
            "Name: Bob\n",
            "Unknown format\n"
          ]
        }
      ]
    },
    {
      "cell_type": "code",
      "source": [
        "class Shape:\n",
        "    pass\n",
        "\n",
        "class Circle(Shape):\n",
        "    __match_args__ = (\"radius\",)   # 👈 Required for pattern matching\n",
        "    def __init__(self, radius):\n",
        "        self.radius = radius\n",
        "\n",
        "class Rectangle(Shape):\n",
        "    __match_args__ = (\"width\", \"height\")   # 👈 Required for pattern matching\n",
        "    def __init__(self, width, height):\n",
        "        self.width = width\n",
        "        self.height = height\n",
        "\n",
        "def check_shape(obj):\n",
        "    match obj:\n",
        "        case Circle(radius):\n",
        "            print(f\"Circle radius {radius}.\")\n",
        "        case Rectangle(width, height):\n",
        "            print(f\"Rectangle width {width} and height {height}.\")\n",
        "        case _:\n",
        "            print(\"This is an unknown shape.\")\n",
        "\n",
        "# Create objects\n",
        "circle = Circle(10)\n",
        "rectangle = Rectangle(4, 6)\n",
        "\n",
        "# Test\n",
        "check_shape(circle)\n",
        "check_shape(rectangle)"
      ],
      "metadata": {
        "colab": {
          "base_uri": "https://localhost:8080/"
        },
        "id": "PrsCP1Jv229p",
        "outputId": "8b1ce82d-6096-477a-b474-89eda73871d7"
      },
      "execution_count": 13,
      "outputs": [
        {
          "output_type": "stream",
          "name": "stdout",
          "text": [
            "Circle radius 10.\n",
            "Rectangle width 4 and height 6.\n"
          ]
        }
      ]
    },
    {
      "cell_type": "code",
      "source": [
        "# Python treats int(), str(), and list() inside a case as type checks (equivalent to isinstance(value, int), etc.).\n",
        "\n",
        "# So, Python is checking whether value is an instance of the class int, str, or list.\n",
        "\n",
        "def test(value):\n",
        "    match value:\n",
        "        case int():\n",
        "            print(\"It is an integer.\")\n",
        "        case str():\n",
        "            print(\"It is a string.\")\n",
        "        case list():\n",
        "            print(\"It is a list.\")\n",
        "        case _:\n",
        "            print(\"Unknown type\")\n",
        "\n",
        "test(42)        # It is an integer.\n",
        "test(\"hello\")   # It is a string.\n",
        "test([1,2,3])   # It is a list."
      ],
      "metadata": {
        "id": "6HuKaEG73WKO",
        "colab": {
          "base_uri": "https://localhost:8080/"
        },
        "outputId": "ae98088c-2c66-4511-ae0d-c463ec228f85"
      },
      "execution_count": 14,
      "outputs": [
        {
          "output_type": "stream",
          "name": "stdout",
          "text": [
            "It is an integer.\n",
            "It is a string.\n",
            "It is a list.\n"
          ]
        }
      ]
    }
  ]
}