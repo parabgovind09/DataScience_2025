{
  "nbformat": 4,
  "nbformat_minor": 0,
  "metadata": {
    "colab": {
      "provenance": []
    },
    "kernelspec": {
      "name": "python3",
      "display_name": "Python 3"
    },
    "language_info": {
      "name": "python"
    }
  },
  "cells": [
    {
      "cell_type": "markdown",
      "source": [
        "**Loops** in Python are a fundamental concept that allows you to execute a block of code repeatedly based on a condition or over a sequence.\n",
        "There are two main types of loops in Python: for loops and while loops."
      ],
      "metadata": {
        "id": "aNVchR6KBKZh"
      }
    },
    {
      "cell_type": "code",
      "execution_count": 1,
      "metadata": {
        "colab": {
          "base_uri": "https://localhost:8080/"
        },
        "id": "eUyiKG9Z9WZf",
        "outputId": "2459cc77-0f3a-4553-b00d-c2a45af5f841"
      },
      "outputs": [
        {
          "output_type": "stream",
          "name": "stdout",
          "text": [
            "G\n",
            "o\n",
            "o\n",
            "d\n",
            "1\n",
            "Govind\n",
            "2\n",
            "2.8\n",
            "1\n",
            "2\n",
            "2.8\n",
            "Kite\n",
            "1\n",
            "2.5\n",
            "Fly\n",
            "a\n",
            "b\n",
            "c\n",
            "a\n",
            "b\n",
            "c\n",
            "1\n",
            "2\n",
            "3\n",
            "a 1\n",
            "b 2\n",
            "c 3\n"
          ]
        }
      ],
      "source": [
        "# A for loop is used to iterate over a sequence (such as a list, tuple, dictionary, set, or string) or any other iterable object.\n",
        "# In Python, there is “for in” loop which is similar to foreach loop in other languages.\n",
        "# It can be used to iterate over a range and iterators.\n",
        "\n",
        "string1 = \"Good\"\n",
        "for i in string1:\n",
        "  print(i)\n",
        "\n",
        "# A list is an ordered collection, and you can iterate over its elements in the order they appear.\n",
        "list1 = [1,\"Govind\",2,2.8]\n",
        "for i in list1:\n",
        "  print(i)\n",
        "\n",
        "# A tuple is similar to a list but is immutable (its elements cannot be changed). You can iterate over a tuple just like a list.\n",
        "tuple1 = (1,2,2.8,\"Kite\")\n",
        "for i in tuple1:\n",
        "  print(i)\n",
        "\n",
        "# A set is an unordered collection of unique elements. When you iterate over a set, the order of elements is not guaranteed.\n",
        "set1 = {1,\"Fly\",2.5}\n",
        "for i in set1:\n",
        "  print(i)\n",
        "\n",
        "# Dictionaries store key-value pairs. When you iterate over a dictionary, you can choose to loop over the keys, values, or both.\n",
        "dict1 = {'a':1,'b':2,'c':3}\n",
        "for i in dict1:\n",
        "  print(i)\n",
        "\n",
        "dict1 = {'a':1,'b':2,'c':3}\n",
        "for i in dict1.keys():\n",
        "  print(i)\n",
        "\n",
        "dict1 = {'a':1,'b':2,'c':3}\n",
        "for i in dict1.values():\n",
        "  print(i)\n",
        "\n",
        "dict1 = {'a':1,'b':2,'c':3}\n",
        "for i,j in dict1.items():\n",
        "  print(i,j)"
      ]
    },
    {
      "cell_type": "code",
      "source": [
        "# The range() function can be called with one, two, or three arguments:\n",
        "\n",
        "# range(stop)\n",
        "# range(start, stop)\n",
        "# range(start, stop, step)\n",
        "\n",
        "# When you pass a single argument to range(), it generates numbers starting from 0 up to (but not including) the stop value.\n",
        "for i in range(5):\n",
        "    print(i)\n",
        "\n",
        "# With two arguments, range() generates numbers starting from the start value and stops just before the stop value.\n",
        "for i in range(2,7):\n",
        "  print(i)\n",
        "\n",
        "# With three arguments, range() allows you to specify a step value, which determines the difference between each number in the sequence. Does not include the stop value.\n",
        "for i in range(0,10,2):\n",
        "  print(i)\n",
        "\n",
        "# You can use a negative step value to generate a sequence in reverse order. Start value here should be be greater than stop value.\n",
        "for i in range(10,0,-2):\n",
        "  print(i)\n",
        "\n",
        "# If the start value is greater than or equal to the stop value and the step is positive (or vice versa for negative step), the range will be empty, and the loop won't execute."
      ],
      "metadata": {
        "colab": {
          "base_uri": "https://localhost:8080/"
        },
        "id": "bJQdK-tQCkXR",
        "outputId": "1cf1e51e-8b84-458e-c2aa-1d9627278bcb"
      },
      "execution_count": 2,
      "outputs": [
        {
          "output_type": "stream",
          "name": "stdout",
          "text": [
            "0\n",
            "1\n",
            "2\n",
            "3\n",
            "4\n",
            "2\n",
            "3\n",
            "4\n",
            "5\n",
            "6\n",
            "0\n",
            "2\n",
            "4\n",
            "6\n",
            "8\n",
            "10\n",
            "8\n",
            "6\n",
            "4\n",
            "2\n"
          ]
        }
      ]
    },
    {
      "cell_type": "code",
      "source": [
        "# range() is often used in list comprehensions to generate sequences or to create a list from its output.\n",
        "\n",
        "cube = [i*i*i for i in range(1,6)]\n",
        "print(cube)\n",
        "type(cube)\n",
        "\n",
        "list2 = list(range(5))\n",
        "print(list2)"
      ],
      "metadata": {
        "colab": {
          "base_uri": "https://localhost:8080/"
        },
        "id": "scwggNMxFd2D",
        "outputId": "8c086fbd-41c3-4191-c5e5-50f2615e81b9"
      },
      "execution_count": 3,
      "outputs": [
        {
          "output_type": "stream",
          "name": "stdout",
          "text": [
            "[1, 8, 27, 64, 125]\n",
            "[0, 1, 2, 3, 4]\n"
          ]
        }
      ]
    },
    {
      "cell_type": "code",
      "source": [
        "# You can also nest for loops to iterate over multi-dimensional sequences, such as lists of lists.\n",
        "\n",
        "matrix = [[1, 2, 3], [4, 5, 6], [7, 8, 9]]\n",
        "for row in matrix:\n",
        "    for element in row:\n",
        "        print(element, end=\" \")\n",
        "    print()"
      ],
      "metadata": {
        "colab": {
          "base_uri": "https://localhost:8080/"
        },
        "id": "GmRhfjjVKtz1",
        "outputId": "4c48a115-2370-40e9-deb4-d6898d871eac"
      },
      "execution_count": 4,
      "outputs": [
        {
          "output_type": "stream",
          "name": "stdout",
          "text": [
            "1 2 3 \n",
            "4 5 6 \n",
            "7 8 9 \n"
          ]
        }
      ]
    },
    {
      "cell_type": "code",
      "source": [
        "# else with for\n",
        "\n",
        "for i in range(1, 4):\n",
        "    print(i)\n",
        "else:\n",
        "    print(\"Loop completed\")"
      ],
      "metadata": {
        "colab": {
          "base_uri": "https://localhost:8080/"
        },
        "id": "HcmXpZDtT78j",
        "outputId": "fb16d21d-040e-448b-a8b4-8670a9a8abb5"
      },
      "execution_count": 5,
      "outputs": [
        {
          "output_type": "stream",
          "name": "stdout",
          "text": [
            "1\n",
            "2\n",
            "3\n",
            "Loop completed\n"
          ]
        }
      ]
    },
    {
      "cell_type": "code",
      "source": [
        "# While Loop :- A while loop repeatedly executes a block of code as long as a given condition is true.\n",
        "\n",
        "count = 1\n",
        "while count <=3:\n",
        "  print(\"Iteration = \",count)\n",
        "  count = count+1;"
      ],
      "metadata": {
        "colab": {
          "base_uri": "https://localhost:8080/"
        },
        "id": "zJrozod0NREK",
        "outputId": "b2cf6794-8227-473f-f9b5-1bf50e2624e3"
      },
      "execution_count": 6,
      "outputs": [
        {
          "output_type": "stream",
          "name": "stdout",
          "text": [
            "Iteration =  1\n",
            "Iteration =  2\n",
            "Iteration =  3\n"
          ]
        }
      ]
    },
    {
      "cell_type": "code",
      "source": [
        "# If the condition never becomes false, the while loop will continue indefinitely, creating an infinite loop.\n",
        "# To avoid this, ensure that the loop has a way to terminate."
      ],
      "metadata": {
        "id": "n1ahpMMAOLUH"
      },
      "execution_count": 7,
      "outputs": []
    },
    {
      "cell_type": "code",
      "source": [
        "# Using else statement with While Loop in Python\n",
        "# The else clause is only executed when your while condition becomes false.\n",
        "# If you break out of the loop, or if an exception is raised, it won’t be executed.\n",
        "\n",
        "count = 1\n",
        "while count <=3:\n",
        "  print(\"Iteration = \",count)\n",
        "  count = count+1;\n",
        "else:\n",
        "  print(\"Loop Terminated\")"
      ],
      "metadata": {
        "colab": {
          "base_uri": "https://localhost:8080/"
        },
        "id": "TKh59NfnOWE_",
        "outputId": "db0b509f-80e6-46a2-adcb-2afab876821f"
      },
      "execution_count": 8,
      "outputs": [
        {
          "output_type": "stream",
          "name": "stdout",
          "text": [
            "Iteration =  1\n",
            "Iteration =  2\n",
            "Iteration =  3\n",
            "Loop Terminated\n"
          ]
        }
      ]
    },
    {
      "cell_type": "code",
      "source": [
        "# while True:\n",
        "#     print(\"This will run forever!\")\n",
        "\n",
        "#Warning: This is an infinite loop. Use Ctrl + C to stop execution."
      ],
      "metadata": {
        "id": "IgnqXW6rSWRy"
      },
      "execution_count": 9,
      "outputs": []
    },
    {
      "cell_type": "code",
      "source": [
        "password = \"\"\n",
        "while password != \"govind\":\n",
        "    password = input(\"Enter the password: \")\n",
        "print(\"Access granted!\")\n"
      ],
      "metadata": {
        "colab": {
          "base_uri": "https://localhost:8080/"
        },
        "id": "xRH00z5XPRiG",
        "outputId": "db9f185f-8cd1-4cd2-ae06-f7d3b48ee3cb"
      },
      "execution_count": 10,
      "outputs": [
        {
          "output_type": "stream",
          "name": "stdout",
          "text": [
            "Enter the password: govind\n",
            "Access granted!\n"
          ]
        }
      ]
    },
    {
      "cell_type": "code",
      "source": [
        "#nested for and while loops\n",
        "for i in range(1,5):\n",
        "  for j in range(i):\n",
        "    print(i,end=\" \")\n",
        "  print()\n",
        "\n",
        "print()\n",
        "a=1\n",
        "b=1\n",
        "while(a!=10):\n",
        "  while(b!=10):\n",
        "    print(a*b,end=\" \")\n",
        "    b=b+1\n",
        "  a=a+1\n",
        "  b=1\n",
        "  print()\n",
        "  print()"
      ],
      "metadata": {
        "colab": {
          "base_uri": "https://localhost:8080/"
        },
        "id": "h_tRAPDsVRoT",
        "outputId": "c153a543-158d-450f-c3ee-716224fc0b1e"
      },
      "execution_count": 11,
      "outputs": [
        {
          "output_type": "stream",
          "name": "stdout",
          "text": [
            "1 \n",
            "2 2 \n",
            "3 3 3 \n",
            "4 4 4 4 \n",
            "\n",
            "1 2 3 4 5 6 7 8 9 \n",
            "\n",
            "2 4 6 8 10 12 14 16 18 \n",
            "\n",
            "3 6 9 12 15 18 21 24 27 \n",
            "\n",
            "4 8 12 16 20 24 28 32 36 \n",
            "\n",
            "5 10 15 20 25 30 35 40 45 \n",
            "\n",
            "6 12 18 24 30 36 42 48 54 \n",
            "\n",
            "7 14 21 28 35 42 49 56 63 \n",
            "\n",
            "8 16 24 32 40 48 56 64 72 \n",
            "\n",
            "9 18 27 36 45 54 63 72 81 \n",
            "\n"
          ]
        }
      ]
    },
    {
      "cell_type": "code",
      "source": [
        "for i in range(5):\n",
        "  pass"
      ],
      "metadata": {
        "id": "woEFhRiMYVx2"
      },
      "execution_count": 12,
      "outputs": []
    },
    {
      "cell_type": "code",
      "source": [
        "for i in range(5):\n",
        "  if i == 3:\n",
        "    continue\n",
        "  print(i)"
      ],
      "metadata": {
        "colab": {
          "base_uri": "https://localhost:8080/"
        },
        "id": "xDdmJkKlYaAn",
        "outputId": "61416895-ba54-4214-9e52-3cc7ddd3cbe1"
      },
      "execution_count": 13,
      "outputs": [
        {
          "output_type": "stream",
          "name": "stdout",
          "text": [
            "0\n",
            "1\n",
            "2\n",
            "4\n"
          ]
        }
      ]
    },
    {
      "cell_type": "code",
      "source": [
        "for i in range(5):\n",
        "  if i == 3:\n",
        "    break;\n",
        "  print(i)"
      ],
      "metadata": {
        "colab": {
          "base_uri": "https://localhost:8080/"
        },
        "id": "o6UchQ_sYgUS",
        "outputId": "045371f8-e29f-40f8-d5c6-1d6b9927fdb0"
      },
      "execution_count": 14,
      "outputs": [
        {
          "output_type": "stream",
          "name": "stdout",
          "text": [
            "0\n",
            "1\n",
            "2\n"
          ]
        }
      ]
    }
  ]
}