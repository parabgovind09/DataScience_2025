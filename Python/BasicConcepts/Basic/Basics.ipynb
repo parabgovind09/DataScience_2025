{
  "nbformat": 4,
  "nbformat_minor": 0,
  "metadata": {
    "colab": {
      "provenance": []
    },
    "kernelspec": {
      "name": "python3",
      "display_name": "Python 3"
    },
    "language_info": {
      "name": "python"
    }
  },
  "cells": [
    {
      "cell_type": "code",
      "execution_count": 1,
      "metadata": {
        "colab": {
          "base_uri": "https://localhost:8080/"
        },
        "id": "Wxsm1RbzUGIh",
        "outputId": "786f9878-54da-4825-f01a-3aa33c9642fe"
      },
      "outputs": [
        {
          "output_type": "stream",
          "name": "stdout",
          "text": [
            "Hello, Alice!\n",
            "Hello, Bob!\n",
            "Hello, Charlie!\n"
          ]
        }
      ],
      "source": [
        "# *args – Non-Keyword Variable-Length Arguments\n",
        "# *args allows a function to accept any number of positional arguments (i.e., arguments without keywords).\n",
        "\n",
        "def greet(*args):\n",
        "    for name in args:\n",
        "        print(f\"Hello, {name}!\")\n",
        "\n",
        "greet(\"Alice\", \"Bob\", \"Charlie\")"
      ]
    },
    {
      "cell_type": "code",
      "source": [
        "# **kwargs – Keyword Variable-Length Arguments\n",
        "# **kwargs allows a function to accept any number of keyword arguments (i.e., named arguments).\n",
        "\n",
        "# Inside the function, kwargs is a dictionary where the keys are argument names and the values are argument values.\n",
        "\n",
        "def print_info(**kwargs):\n",
        "    for key, value in kwargs.items():\n",
        "        print(f\"{key}: {value}\")\n",
        "\n",
        "print_info(name=\"Alice\", age=30, city=\"New York\")"
      ],
      "metadata": {
        "colab": {
          "base_uri": "https://localhost:8080/"
        },
        "id": "5Dr4jlmK3u7l",
        "outputId": "dfd18239-48e2-43a8-826c-7d8e30b11267"
      },
      "execution_count": 2,
      "outputs": [
        {
          "output_type": "stream",
          "name": "stdout",
          "text": [
            "name: Alice\n",
            "age: 30\n",
            "city: New York\n"
          ]
        }
      ]
    },
    {
      "cell_type": "code",
      "source": [
        "def demo_func(*args, **kwargs):\n",
        "    print(\"Args:\", args)\n",
        "    print(\"Kwargs:\", kwargs)\n",
        "\n",
        "demo_func(1, 2, 3, name=\"Alice\", job=\"Engineer\")"
      ],
      "metadata": {
        "colab": {
          "base_uri": "https://localhost:8080/"
        },
        "id": "PQbTKPuW5R26",
        "outputId": "7e134706-6d76-40d6-bbfe-2b0484e6b99b"
      },
      "execution_count": 3,
      "outputs": [
        {
          "output_type": "stream",
          "name": "stdout",
          "text": [
            "Args: (1, 2, 3)\n",
            "Kwargs: {'name': 'Alice', 'job': 'Engineer'}\n"
          ]
        }
      ]
    },
    {
      "cell_type": "code",
      "source": [
        "# In Python, iterators are used to iterate over a sequence of elements, such as lists, tuples, strings, etc.\n",
        "# They are a fundamental part of how loops and comprehensions work.\n",
        "\n",
        "# An iterator is an object that implements two methods:\n",
        "\n",
        "# __iter__() – returns the iterator object itself.\n",
        "\n",
        "# __next__() – returns the next item in the sequence. Raises StopIteration when there are no more items.\n",
        "\n",
        "numbers = [10, 20, 30]\n",
        "it = iter(numbers)   # Get iterator from list\n",
        "\n",
        "print(next(it))  # 10\n",
        "print(next(it))  # 20\n",
        "print(next(it))  # 30\n",
        "# print(next(it))  # Raises StopIteration"
      ],
      "metadata": {
        "colab": {
          "base_uri": "https://localhost:8080/"
        },
        "id": "Z2cFUp5V6RnF",
        "outputId": "bc732444-ca16-4dfc-cecc-c691ae385e64"
      },
      "execution_count": 4,
      "outputs": [
        {
          "output_type": "stream",
          "name": "stdout",
          "text": [
            "10\n",
            "20\n",
            "30\n"
          ]
        }
      ]
    },
    {
      "cell_type": "code",
      "source": [
        "it = iter([1, 2, 3])\n",
        "while True:\n",
        "    try:\n",
        "        item = next(it)\n",
        "        print(item)\n",
        "    except StopIteration:\n",
        "        break"
      ],
      "metadata": {
        "colab": {
          "base_uri": "https://localhost:8080/"
        },
        "id": "EzPsHlDR8kp_",
        "outputId": "38543632-fd5c-4b54-e683-61fa4d70dbae"
      },
      "execution_count": 5,
      "outputs": [
        {
          "output_type": "stream",
          "name": "stdout",
          "text": [
            "1\n",
            "2\n",
            "3\n"
          ]
        }
      ]
    },
    {
      "cell_type": "code",
      "source": [
        "class MyIterator:\n",
        "  def __init__(self,num):\n",
        "    self.num = num\n",
        "\n",
        "  def __iter__(self):\n",
        "    return self\n",
        "\n",
        "  def __next__(self):\n",
        "    if self.num <=0:\n",
        "      raise StopIteration\n",
        "    current = self.num\n",
        "    self.num = self.num - 1\n",
        "    return current\n",
        "\n",
        "c = MyIterator(5)\n",
        "for i in c:\n",
        "  print(i)\n"
      ],
      "metadata": {
        "colab": {
          "base_uri": "https://localhost:8080/"
        },
        "id": "pV0YD5h685DP",
        "outputId": "ae452ff3-6ad5-4a68-be30-044ecdd3fe94"
      },
      "execution_count": 6,
      "outputs": [
        {
          "output_type": "stream",
          "name": "stdout",
          "text": [
            "5\n",
            "4\n",
            "3\n",
            "2\n",
            "1\n"
          ]
        }
      ]
    },
    {
      "cell_type": "code",
      "source": [
        "# An iterator is an object that allows you to traverse through a sequence of elements, one at a time.\n",
        "\n",
        "# Generators in Python are a special type of iterator that\n",
        "# allow you to iterate over a sequence of values lazily, meaning values are produced on the fly and only when needed,\n",
        "# which saves memory and improves performance for large data sets.\n",
        "\n",
        "# A generator is a simpler way to write an iterator using the yield keyword instead of manually defining __iter__() and __next__()."
      ],
      "metadata": {
        "id": "KlN-2a3YBlRg"
      },
      "execution_count": 7,
      "outputs": []
    },
    {
      "cell_type": "code",
      "source": [
        "# Creating a Generator Function\n",
        "def count_up_to(max):\n",
        "    count = 1\n",
        "    while count <= max:\n",
        "        yield count\n",
        "        count += 1\n",
        "\n",
        "\n",
        "\n",
        "# 📌 Using the Generator\n",
        "counter = count_up_to(5)\n",
        "\n",
        "for num in counter:\n",
        "    print(num)"
      ],
      "metadata": {
        "colab": {
          "base_uri": "https://localhost:8080/"
        },
        "id": "VrKujxhS_tL0",
        "outputId": "3e6a97e8-d1a8-4fb1-d7db-7b5fedc22ee5"
      },
      "execution_count": 8,
      "outputs": [
        {
          "output_type": "stream",
          "name": "stdout",
          "text": [
            "1\n",
            "2\n",
            "3\n",
            "4\n",
            "5\n"
          ]
        }
      ]
    },
    {
      "cell_type": "code",
      "source": [
        "# | `return`             | `yield`              |\n",
        "# | -------------------- | -------------------- |\n",
        "# | Exits the function   | Pauses the function  |\n",
        "# | Sends back one value | Can send many values |\n",
        "# | Function terminates  | State is saved       |\n",
        "# | Used in normal funcs | Used in generators   |\n"
      ],
      "metadata": {
        "id": "dyaUTSzeD6hn"
      },
      "execution_count": 9,
      "outputs": []
    },
    {
      "cell_type": "code",
      "source": [
        "# A decorator is a function that takes another function as input and adds extra functionality without modifying the original function.\n",
        "\n",
        "# It's a powerful tool used for code reuse, logging, access control, timing, and more.\n",
        "\n",
        "def decorated(func):\n",
        "  def modified():\n",
        "    print(\"Before calling the original function\")\n",
        "    func()\n",
        "    print(\"After calling the original function\")\n",
        "  return modified\n",
        "\n",
        "\n",
        "@decorated\n",
        "def original():\n",
        "  print(\"I'm original Function\")\n",
        "\n",
        "original()"
      ],
      "metadata": {
        "id": "ga4BvxIQEkb2",
        "colab": {
          "base_uri": "https://localhost:8080/"
        },
        "outputId": "43b5a0dd-2917-4a0a-e692-2bfdebecd31a"
      },
      "execution_count": 10,
      "outputs": [
        {
          "output_type": "stream",
          "name": "stdout",
          "text": [
            "Before calling the original function\n",
            "I'm original Function\n",
            "After calling the original function\n"
          ]
        }
      ]
    },
    {
      "cell_type": "code",
      "source": [
        "def decoratorFunc(func):\n",
        "  def modified(*args,**kwargs):\n",
        "    return func(*args,**kwargs)\n",
        "  return modified\n",
        "\n",
        "@decoratorFunc\n",
        "def add(a,b):\n",
        "  return a+b\n",
        "\n",
        "print(add(10,20))"
      ],
      "metadata": {
        "colab": {
          "base_uri": "https://localhost:8080/"
        },
        "id": "d1nP_d8pCp8N",
        "outputId": "4d9f9778-984f-4818-d7dd-15124f68d41f"
      },
      "execution_count": 11,
      "outputs": [
        {
          "output_type": "stream",
          "name": "stdout",
          "text": [
            "30\n"
          ]
        }
      ]
    },
    {
      "cell_type": "code",
      "source": [
        "# A closure is a function defined inside another function, which remembers the variables from the outer function, even after the outer function has finished executing.\n",
        "\n",
        "# ✅ In short: \"Function inside function + remembers outer variables\" = Closure\n",
        "\n",
        "# Structure of a Closure\n",
        "# There must be a nested function (a function inside another function).\n",
        "\n",
        "# The inner function must refer to a variable from the outer function.\n",
        "\n",
        "# The outer function must return the inner function.\n",
        "\n",
        "def outer_func(msg):\n",
        "    def inner_func():\n",
        "        print(f\"Message: {msg}\")\n",
        "    return inner_func\n",
        "\n",
        "c = outer_func(\"Govind\")\n",
        "c()"
      ],
      "metadata": {
        "colab": {
          "base_uri": "https://localhost:8080/"
        },
        "id": "iscp8X7tEx0D",
        "outputId": "34e303c9-1a1a-4061-cfdf-7d7e8d698e16"
      },
      "execution_count": 12,
      "outputs": [
        {
          "output_type": "stream",
          "name": "stdout",
          "text": [
            "Message: Govind\n"
          ]
        }
      ]
    },
    {
      "cell_type": "code",
      "source": [
        "def calculator(x,y):\n",
        "  def add(z):\n",
        "    print(x+y+z)\n",
        "  def mul():\n",
        "    print(x*y)\n",
        "  return add,mul\n",
        "\n",
        "a,m = calculator(4,3)\n",
        "m()\n",
        "a(4)"
      ],
      "metadata": {
        "colab": {
          "base_uri": "https://localhost:8080/"
        },
        "id": "jdJmmmlAIwaM",
        "outputId": "fdeaaac2-6621-4fa0-92e0-aa499a2e7e97"
      },
      "execution_count": 13,
      "outputs": [
        {
          "output_type": "stream",
          "name": "stdout",
          "text": [
            "12\n",
            "11\n"
          ]
        }
      ]
    },
    {
      "cell_type": "code",
      "source": [
        "def make_counter():\n",
        "    count = 0\n",
        "    def counter():\n",
        "        nonlocal count\n",
        "        count += 1\n",
        "        return count\n",
        "    return counter\n",
        "\n",
        "c1 = make_counter()\n",
        "print(c1())  # 1\n",
        "print(c1())  # 2\n",
        "\n",
        "c2 = make_counter()\n",
        "print(c2())  # 1 (separate state)"
      ],
      "metadata": {
        "colab": {
          "base_uri": "https://localhost:8080/"
        },
        "id": "ql8SblIbNVxc",
        "outputId": "1f26c515-7ee4-48ec-bf8f-fa8eb270c8e4"
      },
      "execution_count": 14,
      "outputs": [
        {
          "output_type": "stream",
          "name": "stdout",
          "text": [
            "1\n",
            "2\n",
            "1\n"
          ]
        }
      ]
    },
    {
      "cell_type": "code",
      "source": [],
      "metadata": {
        "id": "5S13X90gOoSB"
      },
      "execution_count": 14,
      "outputs": []
    }
  ]
}