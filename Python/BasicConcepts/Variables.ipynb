{
  "nbformat": 4,
  "nbformat_minor": 0,
  "metadata": {
    "colab": {
      "provenance": []
    },
    "kernelspec": {
      "name": "python3",
      "display_name": "Python 3"
    },
    "language_info": {
      "name": "python"
    }
  },
  "cells": [
    {
      "cell_type": "markdown",
      "source": [
        "**Python Variable** is containers that store values. Python is not “statically typed”. We do not need to declare variables before using them or declare their type. A variable is created the moment we first assign a value to it. A Python variable is a name given to a memory location. An Example of a Variable in Python is a representational name that serves as a pointer to an object. Once an object is assigned to a variable, it can be referred to by that name. The value of a variable can change throughout the program, hence the term \"variable.\"\n",
        "\n",
        "A Variables in Python is only a name given to a memory location, all the operations done on the variable effects that memory location.\n",
        "\n",
        "Rules for Python variables\n",
        "1. A Python variable name must start with a letter or the underscore character.\n",
        "2. A Python variable name cannot start with a number.\n",
        "3. A Python variable name can only contain alpha-numeric characters and underscores (A-z, 0-9, and _ ).\n",
        "4. Variable in Python names are case-sensitive (name, Name, and NAME are three different variables).\n",
        "5. The reserved words(keywords) in Python cannot be used to name the variable in Python.\n",
        "\n",
        "Python handles memory allocation and deallocation automatically through a process called garbage collection. When a variable is no longer referenced by any part of the program, Python will free up the memory associated with it."
      ],
      "metadata": {
        "id": "RHc0BAl73d2E"
      }
    },
    {
      "cell_type": "code",
      "source": [
        "x = 5\n",
        "salary = 1456.8\n",
        "name = \"Govind\"\n",
        "is_student = True\n",
        "print(\"integer = \",x,\" float = \",salary,\" string = \", name,\" boolean = \",is_student)"
      ],
      "metadata": {
        "colab": {
          "base_uri": "https://localhost:8080/"
        },
        "id": "YgAf8O-J5InE",
        "outputId": "320fd8c3-2955-4755-9628-e84c03f00294"
      },
      "execution_count": 1,
      "outputs": [
        {
          "output_type": "stream",
          "name": "stdout",
          "text": [
            "integer =  5  float =  1456.8  string =  Govind  boolean =  True\n"
          ]
        }
      ]
    },
    {
      "cell_type": "code",
      "source": [
        "# Python is a dynamically typed language, meaning you don’t need to declare the type of a variable when you create it.\n",
        "a = 10      # a is an integer\n",
        "a = \"Hello\" # a is now a string\n",
        "print(a) # a changes from an integer to a string when a new value is assigned."
      ],
      "metadata": {
        "colab": {
          "base_uri": "https://localhost:8080/"
        },
        "id": "lHBh9lty5MeJ",
        "outputId": "6fd14bb8-755e-475d-cb58-951992586e18"
      },
      "execution_count": 2,
      "outputs": [
        {
          "output_type": "stream",
          "name": "stdout",
          "text": [
            "Hello\n"
          ]
        }
      ]
    },
    {
      "cell_type": "code",
      "source": [
        "# Multiple assignment\n",
        "x, y, z = 1, 2, 3.2\n",
        "a = b = c = 10\n",
        "print(x,y,z,a,b,c)"
      ],
      "metadata": {
        "colab": {
          "base_uri": "https://localhost:8080/"
        },
        "id": "Nf7IMkwr5jOw",
        "outputId": "775b5480-eace-4ee8-f85c-a5e890de1ebb"
      },
      "execution_count": 3,
      "outputs": [
        {
          "output_type": "stream",
          "name": "stdout",
          "text": [
            "1 2 3.2 10 10 10\n"
          ]
        }
      ]
    },
    {
      "cell_type": "code",
      "source": [
        "# Swapping Values Between Variables\n",
        "x , y = y , x\n",
        "print(x,y)"
      ],
      "metadata": {
        "colab": {
          "base_uri": "https://localhost:8080/"
        },
        "id": "j0quA9yv6TH6",
        "outputId": "55bc5ca9-ff69-49a0-8e7e-24bbb3b7b1dd"
      },
      "execution_count": 4,
      "outputs": [
        {
          "output_type": "stream",
          "name": "stdout",
          "text": [
            "2 1\n"
          ]
        }
      ]
    },
    {
      "cell_type": "code",
      "source": [
        "# Python doesn’t have built-in constant types. However, by convention, variables that should not change are named using uppercase letters\n",
        "PI = 3.14159\n",
        "print(PI)\n",
        "# This doesn’t enforce immutability but signals to other developers that the variable should be treated as a constant."
      ],
      "metadata": {
        "colab": {
          "base_uri": "https://localhost:8080/"
        },
        "id": "HMSCyi9R6gMv",
        "outputId": "80264442-eda7-4dae-9fd8-86d419806f29"
      },
      "execution_count": 5,
      "outputs": [
        {
          "output_type": "stream",
          "name": "stdout",
          "text": [
            "3.14159\n"
          ]
        }
      ]
    },
    {
      "cell_type": "code",
      "source": [
        "# Type casting we will see in detail later\n",
        "x = \"123\"\n",
        "y = int(x) # y is now an integer with value 123\n",
        "print(y)"
      ],
      "metadata": {
        "colab": {
          "base_uri": "https://localhost:8080/"
        },
        "id": "O44miUaP67g8",
        "outputId": "3917bbc4-06ed-4c7c-a51b-dcb4e7bfa645"
      },
      "execution_count": 6,
      "outputs": [
        {
          "output_type": "stream",
          "name": "stdout",
          "text": [
            "123\n"
          ]
        }
      ]
    },
    {
      "cell_type": "code",
      "source": [
        "a = 10\n",
        "b = 20\n",
        "print(a+b)\n",
        "\n",
        "c = \"Govind\"\n",
        "d = \"Parab\"\n",
        "print(c+d)\n",
        "# print(a+c) This will give type error"
      ],
      "metadata": {
        "colab": {
          "base_uri": "https://localhost:8080/"
        },
        "id": "-WEURU4t8kr-",
        "outputId": "2ed6c890-970c-466d-bdcf-dccf1f119c98"
      },
      "execution_count": 7,
      "outputs": [
        {
          "output_type": "stream",
          "name": "stdout",
          "text": [
            "30\n",
            "GovindParab\n"
          ]
        }
      ]
    },
    {
      "cell_type": "code",
      "source": [
        "# Global and Local Python Variables\n",
        "# Variables defined outside of a function are global and can be accessed from anywhere in the code.\n",
        "# Variables defined inside a function are local and can only be accessed within that function.\n",
        "\n",
        "# Variable shadowing occurs when a local variable has the same name as a global variable. In such cases, the local variable \"shadows\" the global variable within its scope.\n",
        "\n",
        "\n",
        "# This function uses local variable s\n",
        "def func():\n",
        "    s = \"Hello World!\"\n",
        "    print(s)\n",
        "\n",
        "func()\n",
        "\n",
        "# This function has a variable with\n",
        "# name same as r\n",
        "def func2():\n",
        "    print(r)\n",
        "\n",
        "# Global scope\n",
        "r = \"radius\"\n",
        "func2()"
      ],
      "metadata": {
        "colab": {
          "base_uri": "https://localhost:8080/"
        },
        "id": "Jgs_uvib9dfr",
        "outputId": "4e03854c-4b8e-4467-d1c6-9580f9975ea1"
      },
      "execution_count": 8,
      "outputs": [
        {
          "output_type": "stream",
          "name": "stdout",
          "text": [
            "Hello World!\n",
            "radius\n"
          ]
        }
      ]
    },
    {
      "cell_type": "code",
      "source": [
        "#local variable\n",
        "a = 10\n",
        "def my_func1():\n",
        "  a = 5 #local variable to this function\n",
        "  print(\"inside1 function a = \",a)\n",
        "\n",
        "  def my_func2():\n",
        "    a = 2 #local variable to this function\n",
        "    print(\"inside2 function a = \",a)\n",
        "\n",
        "  my_func2()\n",
        "\n",
        "my_func1()\n",
        "my_func1()\n",
        "\n",
        "print(\"outside function a = \",a)"
      ],
      "metadata": {
        "id": "8cr7gmFd-8hV",
        "colab": {
          "base_uri": "https://localhost:8080/"
        },
        "outputId": "f95a10c9-7e36-41db-beae-5bdb10f1a4e0"
      },
      "execution_count": 9,
      "outputs": [
        {
          "output_type": "stream",
          "name": "stdout",
          "text": [
            "inside1 function a =  5\n",
            "inside2 function a =  2\n",
            "inside1 function a =  5\n",
            "inside2 function a =  2\n",
            "outside function a =  10\n"
          ]
        }
      ]
    },
    {
      "cell_type": "code",
      "source": [
        "#global variable\n",
        "a = 10\n",
        "def my_func1():\n",
        "  a = 5 #local variable to this function\n",
        "  print(\"inside1 function a = \",a)\n",
        "  # global b # this is not a recommended to do\n",
        "  # b = 30\n",
        "\n",
        "  def my_func2():\n",
        "    global a\n",
        "    a = 2 #accessing the global variable\n",
        "    print(\"inside2 function a = \",a)\n",
        "\n",
        "  my_func2()\n",
        "\n",
        "my_func1()\n",
        "my_func1()\n",
        "\n",
        "print(\"outside function a = \",a)\n",
        "# print(\"outside function b = \",b)"
      ],
      "metadata": {
        "colab": {
          "base_uri": "https://localhost:8080/"
        },
        "id": "CS5ybPAOkITT",
        "outputId": "c6243b23-080b-4294-c7d1-d516d4fe836a"
      },
      "execution_count": 10,
      "outputs": [
        {
          "output_type": "stream",
          "name": "stdout",
          "text": [
            "inside1 function a =  5\n",
            "inside2 function a =  2\n",
            "inside1 function a =  5\n",
            "inside2 function a =  2\n",
            "outside function a =  2\n"
          ]
        }
      ]
    },
    {
      "cell_type": "code",
      "source": [
        "#nonlocal variable\n",
        "outer_a = 20 #global var\n",
        "def my_func1():\n",
        "  inner1_a = 10 #local var\n",
        "  print(\"inside1 function a = \",inner1_a)\n",
        "\n",
        "  def my_func2():\n",
        "    inner2_a = 5 #local var\n",
        "    print(\"inside2 function a = \",inner2_a)\n",
        "\n",
        "    def my_func3():\n",
        "      inner3_a = 2 #local var\n",
        "      print(\"inside3 function a = \",inner3_a)\n",
        "\n",
        "      #suppose we want to change the value of inner2_a to 100\n",
        "      #but we know that inner2_a is not a global var so we can't access it from anywhere except my_func2()\n",
        "      #here if we try to do the following then it create a new var in this function local scope and it won't change the value of my_func2() inner2_a var value\n",
        "      #inner2_a = 100\n",
        "      #print(\"inside3 function inner2_a = \",inner2_a)\n",
        "      #this is not what we wanted we want to change the value of inner2_a in outer function i.e my_func2()\n",
        "      #so to achieve this we can use nonlocal keyword which specifies that var is not local to current function and is neither global\n",
        "      #this will cause python to search it in outer scope rather than in global or local scope\n",
        "      nonlocal inner2_a\n",
        "      inner2_a = 100\n",
        "      print(\"inside3 function inner2_a = \",inner2_a)\n",
        "\n",
        "    print(\"before calling myfunc3() inside2 function a = \",inner2_a)\n",
        "    my_func3()\n",
        "    print(\"after calling myfunc3() inside2 function a = \",inner2_a)\n",
        "\n",
        "  my_func2()\n",
        "\n",
        "my_func1()\n",
        "my_func1()\n",
        "\n",
        "print(\"outside function a = \",outer_a)"
      ],
      "metadata": {
        "colab": {
          "base_uri": "https://localhost:8080/"
        },
        "id": "-xksWJHZlXxx",
        "outputId": "e641b4e0-d57d-4684-ce28-c9c5d47bae1a"
      },
      "execution_count": 11,
      "outputs": [
        {
          "output_type": "stream",
          "name": "stdout",
          "text": [
            "inside1 function a =  10\n",
            "inside2 function a =  5\n",
            "before calling myfunc3() inside2 function a =  5\n",
            "inside3 function a =  2\n",
            "inside3 function inner2_a =  100\n",
            "after calling myfunc3() inside2 function a =  100\n",
            "inside1 function a =  10\n",
            "inside2 function a =  5\n",
            "before calling myfunc3() inside2 function a =  5\n",
            "inside3 function a =  2\n",
            "inside3 function inner2_a =  100\n",
            "after calling myfunc3() inside2 function a =  100\n",
            "outside function a =  20\n"
          ]
        }
      ]
    },
    {
      "cell_type": "code",
      "source": [
        "class Student:\n",
        "    # Class Variable\n",
        "    stream = 'msc'\n",
        "    # The init method or constructor\n",
        "    def __init__(self, roll):\n",
        "        # Instance Variable\n",
        "        self.roll = roll\n",
        "\n",
        "# Objects of Student class\n",
        "a = Student(101)\n",
        "b = Student(102)\n",
        "\n",
        "print(a.stream)  # prints \"msc\"\n",
        "print(b.stream)  # prints \"msc\"\n",
        "print(a.roll)    # prints 101\n",
        "\n",
        "# Class variables can be accessed using class name also\n",
        "print(Student.stream)  # prints \"msc\""
      ],
      "metadata": {
        "colab": {
          "base_uri": "https://localhost:8080/"
        },
        "id": "N8mUr6Tzm8Tb",
        "outputId": "8138a8c8-3d16-4c34-839d-3aadb0eeed9c"
      },
      "execution_count": 12,
      "outputs": [
        {
          "output_type": "stream",
          "name": "stdout",
          "text": [
            "msc\n",
            "msc\n",
            "101\n",
            "msc\n"
          ]
        }
      ]
    },
    {
      "cell_type": "code",
      "source": [
        "outer_a = 20\n",
        "\n",
        "def my_func1():\n",
        "    inner1_a = 10\n",
        "    print(\"inside1 - before change, inner1_a =\", inner1_a)\n",
        "\n",
        "    def my_func2():\n",
        "        def my_func3():\n",
        "            nonlocal inner1_a  # Refers to inner1_a in my_func1\n",
        "            inner1_a = 999\n",
        "            print(\"inside3 - changed inner1_a to\", inner1_a)\n",
        "\n",
        "        my_func3()\n",
        "\n",
        "    my_func2()\n",
        "    print(\"inside1 - after change, inner1_a =\", inner1_a)\n",
        "\n",
        "my_func1()\n",
        "\n",
        "\n",
        "# Python will look up the nearest enclosing non-global function to find inner1_a.\n",
        "# It will skip the local scope of my_func3(), then look in my_func2() (doesn't exist there), then in my_func1() — and there it finds inner1_a, so it works.\n",
        "\n",
        "# inner1_a is defined in my_func1().\n",
        "\n",
        "# my_func2() is defined inside my_func1().\n",
        "\n",
        "# Therefore, my_func2() can see and access inner1_a (read-only unless nonlocal is used)."
      ],
      "metadata": {
        "colab": {
          "base_uri": "https://localhost:8080/"
        },
        "id": "5W0HcZ6tFYmx",
        "outputId": "8f9758ff-e7e5-41f9-8156-ac8fae71d934"
      },
      "execution_count": 13,
      "outputs": [
        {
          "output_type": "stream",
          "name": "stdout",
          "text": [
            "inside1 - before change, inner1_a = 10\n",
            "inside3 - changed inner1_a to 999\n",
            "inside1 - after change, inner1_a = 999\n"
          ]
        }
      ]
    }
  ]
}