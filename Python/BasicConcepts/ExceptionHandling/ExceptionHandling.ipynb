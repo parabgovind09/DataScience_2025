{
  "nbformat": 4,
  "nbformat_minor": 0,
  "metadata": {
    "colab": {
      "provenance": []
    },
    "kernelspec": {
      "name": "python3",
      "display_name": "Python 3"
    },
    "language_info": {
      "name": "python"
    }
  },
  "cells": [
    {
      "cell_type": "code",
      "execution_count": 1,
      "metadata": {
        "id": "vkf_v17aalfN"
      },
      "outputs": [],
      "source": [
        "# A syntax error in Python (or any programming language) is an error that occurs when the code does not follow the syntax rules of the language.\n",
        "\n",
        "# Exception handling in Python refers to managing runtime errors that may occur during the execution of a program.\n",
        "# In Python, exceptions are raised when errors or unexpected situations arise during program execution, such as division by zero, trying to access a file that does not exist, or attempting to perform an operation on incompatible data types.\n",
        "\n",
        "# Python provides two very important features to handle any unexpected error in your Python programs and to add debugging capabilities in them − Exception Handling and Assertions"
      ]
    },
    {
      "cell_type": "code",
      "source": [
        "# In Python, assert is a debugging aid that tests if a condition is True.\n",
        "# If the condition is False, it raises an AssertionError and optionally shows a message. Assertions are mainly used for internal self-checks in code.\n",
        "\n",
        "# Note - Use assertions only for self-checks (internal logic validation) during development, and avoid including them in production environments.\n",
        "\n",
        "# Syntax\n",
        "# assert condition, \"optional error message\"\n",
        "\n",
        "def divide(a, b):\n",
        "    assert b != 0, \"Denominator must not be zero\"\n",
        "    return a / b\n",
        "\n",
        "print(divide(10, 2))   # Works\n",
        "# print(divide(10, 0))   # Fails"
      ],
      "metadata": {
        "colab": {
          "base_uri": "https://localhost:8080/"
        },
        "id": "p5tM5MQ52Ztb",
        "outputId": "024fc876-1e92-4785-a570-b9098f48c126"
      },
      "execution_count": 2,
      "outputs": [
        {
          "output_type": "stream",
          "name": "stdout",
          "text": [
            "5.0\n"
          ]
        }
      ]
    },
    {
      "cell_type": "code",
      "source": [
        "# Here is a list of Standard Exceptions available in Python −\n",
        "\n",
        "# Exception\n",
        "# Base class for all exceptions\n",
        "\n",
        "# StopIteration\n",
        "# Raised when the next() method of an iterator does not point to any object.\n",
        "\n",
        "# SystemExit\n",
        "# Raised by the sys.exit() function.\n",
        "\n",
        "# StandardError\n",
        "# Base class for all built-in exceptions except StopIteration and SystemExit.\n",
        "\n",
        "# ArithmeticError\n",
        "# Base class for all errors that occur for numeric calculation.\n",
        "\n",
        "# OverflowError\n",
        "# Raised when a calculation exceeds maximum limit for a numeric type.\n",
        "\n",
        "# FloatingPointError\n",
        "# Raised when a floating point calculation fails.\n",
        "\n",
        "# ZeroDivisionError\n",
        "# Raised when division or modulo by zero takes place for all numeric types.\n",
        "\n",
        "# AssertionError\n",
        "# Raised in case of failure of the Assert statement.\n",
        "\n",
        "# AttributeError\n",
        "# Raised in case of failure of attribute reference or assignment.\n",
        "\n",
        "# EOFError\n",
        "# Raised when there is no input from either the raw_input() or input() function and the end of file is reached.\n",
        "\n",
        "# ImportError\n",
        "# Raised when an import statement fails.\n",
        "\n",
        "# KeyboardInterrupt\n",
        "# Raised when the user interrupts program execution, usually by pressing Ctrl+c.\n",
        "\n",
        "# LookupError\n",
        "# Base class for all lookup errors.\n",
        "\n",
        "# IndexError\n",
        "# Raised when an index is not found in a sequence.\n",
        "\n",
        "# KeyError\n",
        "# Raised when the specified key is not found in the dictionary.\n",
        "\n",
        "# NameError\n",
        "# Raised when an identifier is not found in the local or global namespace.\n",
        "\n",
        "# UnboundLocalError\n",
        "# Raised when trying to access a local variable in a function or method but no value has been assigned to it.\n",
        "\n",
        "# EnvironmentError\n",
        "# Base class for all exceptions that occur outside the Python environment.\n",
        "\n",
        "# IOError\n",
        "# Raised when an input/ output operation fails, such as the print statement or the open() function when trying to open a file that does not exist.\n",
        "\n",
        "# IOError\n",
        "# Raised for operating system-related errors.\n",
        "\n",
        "# SyntaxError\n",
        "# Raised when there is an error in Python syntax.\n",
        "\n",
        "# IndentationError\n",
        "# Raised when indentation is not specified properly.\n",
        "\n",
        "# SystemError\n",
        "# Raised when the interpreter finds an internal problem, but when this error is encountered the Python interpreter does not exit.\n",
        "\n",
        "# SystemExit\n",
        "# Raised when Python interpreter is quit by using the sys.exit() function. If not handled in the code, causes the interpreter to exit.\n",
        "\n",
        "# TypeError\n",
        "# Raised when an operation or function is attempted that is invalid for the specified data type.\n",
        "\n",
        "# ValueError\n",
        "# Raised when the built-in function for a data type has the valid type of arguments, but the arguments have invalid values specified.\n",
        "\n",
        "# RuntimeError\n",
        "# Raised when a generated error does not fall into any category.\n",
        "\n",
        "# NotImplementedError\n",
        "# Raised when an abstract method that needs to be implemented in an inherited class is not actually implemented."
      ],
      "metadata": {
        "id": "jOU2018G2tLG"
      },
      "execution_count": 3,
      "outputs": []
    },
    {
      "cell_type": "code",
      "source": [
        "# An exception in Python is an error that occurs during the execution of a program.\n",
        "# When an exception occurs, the normal flow of the program is interrupted, and Python generates an error message.\n",
        "\n",
        "# Exception handling in Python is a mechanism that allows us to catch and manage runtime errors using try, except, else, and finally blocks.\n",
        "# It helps the program to continue running even if an error occurs."
      ],
      "metadata": {
        "id": "91jki8IP6-KJ"
      },
      "execution_count": 4,
      "outputs": []
    },
    {
      "cell_type": "code",
      "source": [
        "# The try-except block in Python is used to catch and handle exceptions.\n",
        "# The code that might cause an exception is placed inside the try block, and the code to handle the exception is placed inside the except block.\n",
        "\n",
        "def division():\n",
        "  try:\n",
        "   number = int(input(\"Enter a number: \"))\n",
        "   result = 10 / number\n",
        "   print(f\"Result: {result}\")\n",
        "  except ZeroDivisionError as e:\n",
        "   print(\"Error: Cannot divide by zero.\",e)\n",
        "  except ValueError as e:\n",
        "   print(\"Error: Invalid input. Please enter a valid number.\",e)\n",
        "\n",
        "division()"
      ],
      "metadata": {
        "colab": {
          "base_uri": "https://localhost:8080/"
        },
        "id": "xJMfA9CO8qyp",
        "outputId": "d0a6c7fb-989f-4897-bcae-abd962198a2d"
      },
      "execution_count": 5,
      "outputs": [
        {
          "output_type": "stream",
          "name": "stdout",
          "text": [
            "Enter a number: 5\n",
            "Result: 2.0\n"
          ]
        }
      ]
    },
    {
      "cell_type": "code",
      "source": [
        "# Using Else Clause with Try-Except Block\n",
        "# In Python, the else clause can be used in conjunction with the try-except block to specify code that should run only if no exceptions occur in the try block.\n",
        "# This provides a way to differentiate between the main code that may raise exceptions and additional code that should only execute under normal conditions.\n",
        "# The else block is executed if the try block does not raise any exception.\n",
        "\n",
        "try:\n",
        "   numerator = int(input(\"Enter the numerator: \"))\n",
        "   denominator = int(input(\"Enter the denominator: \"))\n",
        "   result = numerator / denominator\n",
        "except ValueError:\n",
        "   print(\"Error: Invalid input. Please enter valid integers.\")\n",
        "except ZeroDivisionError:\n",
        "   print(\"Error: Cannot divide by zero.\")\n",
        "else:\n",
        "   print(f\"Result of division: {result}\")"
      ],
      "metadata": {
        "colab": {
          "base_uri": "https://localhost:8080/"
        },
        "id": "kFPxOW3M9EJz",
        "outputId": "a2720448-9e2c-47ab-92c8-866f2053ebb0"
      },
      "execution_count": 6,
      "outputs": [
        {
          "output_type": "stream",
          "name": "stdout",
          "text": [
            "Enter the numerator: \n",
            "Error: Invalid input. Please enter valid integers.\n"
          ]
        }
      ]
    },
    {
      "cell_type": "code",
      "source": [
        "# The finally clause provides a mechanism to guarantee that specific code will be executed, regardless of whether an exception is raised or not.\n",
        "# This is useful for performing cleanup actions such as closing files or network connections, releasing locks, or freeing up resources.\n",
        "# The finally block is always executed, whether an exception occurs or not. Useful for cleanup operations.\n",
        "\n",
        "try:\n",
        "   fh = open(\"testfile\", \"w\")\n",
        "   fh.write(\"This is my test file for exception handling!!\")\n",
        "finally:\n",
        "   print (\"Error: can\\'t find file or read data\")\n",
        "   fh.close()\n",
        "\n",
        "# more cleaner way\n",
        "\n",
        "try:\n",
        "   fh = open(\"testfile\", \"w\")\n",
        "   try:\n",
        "      fh.write(\"This is my test file for exception handling!!\")\n",
        "   finally:\n",
        "      print (\"Going to close the file\")\n",
        "      fh.close()\n",
        "except IOError:\n",
        "   print (\"Error: can\\'t find file or read data\")"
      ],
      "metadata": {
        "colab": {
          "base_uri": "https://localhost:8080/"
        },
        "id": "ihflmZECCcBl",
        "outputId": "0ef71a32-1151-4364-f887-be5828a156be"
      },
      "execution_count": 7,
      "outputs": [
        {
          "output_type": "stream",
          "name": "stdout",
          "text": [
            "Error: can't find file or read data\n",
            "Going to close the file\n"
          ]
        }
      ]
    },
    {
      "cell_type": "code",
      "source": [
        "# Generic Exception Handling (Catching All)\n",
        "# Catch any type of exception using except Exception.\n",
        "try:\n",
        "    print(1 / 0)\n",
        "except Exception as e:\n",
        "    print(\"Something went wrong:\", e)"
      ],
      "metadata": {
        "colab": {
          "base_uri": "https://localhost:8080/"
        },
        "id": "-gX_wAzaDIqC",
        "outputId": "6db29a93-5665-430e-aaaf-240cf560476e"
      },
      "execution_count": 8,
      "outputs": [
        {
          "output_type": "stream",
          "name": "stdout",
          "text": [
            "Something went wrong: division by zero\n"
          ]
        }
      ]
    },
    {
      "cell_type": "code",
      "source": [
        "# Catching Multiple Exceptions in One Block\n",
        "# You can catch multiple exceptions in a single block using a tuple.\n",
        "try:\n",
        "    a = int(\"abc\")\n",
        "except (ValueError, TypeError) as e:\n",
        "    print(\"An error occurred:\", e)"
      ],
      "metadata": {
        "colab": {
          "base_uri": "https://localhost:8080/"
        },
        "id": "RHrip2o3C_lc",
        "outputId": "be2e9743-6a88-43e9-f05a-96b99d05c2f3"
      },
      "execution_count": 9,
      "outputs": [
        {
          "output_type": "stream",
          "name": "stdout",
          "text": [
            "An error occurred: invalid literal for int() with base 10: 'abc'\n"
          ]
        }
      ]
    },
    {
      "cell_type": "code",
      "source": [
        "# Raising exceptions in Python is a crucial concept in exception handling.\n",
        "# It allows a programmer to intentionally trigger an error when a certain condition is met, which is helpful in validating input, enforcing constraints, or signaling errors in logic.\n",
        "\n",
        "# In Python, raising an exception is done using the raise keyword.\n",
        "\n",
        "def divide(a, b):\n",
        "   if b == 0:\n",
        "      raise ZeroDivisionError(\"Cannot divide by zero\")\n",
        "   return a / b\n",
        "\n",
        "try:\n",
        "   result = divide(10, 0)\n",
        "except ZeroDivisionError as e:\n",
        "   print(f\"Error: {e}\")"
      ],
      "metadata": {
        "colab": {
          "base_uri": "https://localhost:8080/"
        },
        "id": "2pHdxIGmDCv5",
        "outputId": "fdde22f7-0c8b-48e6-bf22-8ac95454317b"
      },
      "execution_count": 10,
      "outputs": [
        {
          "output_type": "stream",
          "name": "stdout",
          "text": [
            "Error: Cannot divide by zero\n"
          ]
        }
      ]
    },
    {
      "cell_type": "code",
      "source": [
        "# Using raise without an argument\n",
        "# Inside an except block, raise without arguments re-raises the last caught exception:\n",
        "try:\n",
        "    x = 1 / 0\n",
        "except ZeroDivisionError:\n",
        "    print(\"Caught ZeroDivisionError, re-raising...\")\n",
        "    raise  # Re-raises the original exception"
      ],
      "metadata": {
        "colab": {
          "base_uri": "https://localhost:8080/",
          "height": 228
        },
        "id": "XM5emBjhW9ih",
        "outputId": "4cb837f5-208f-478b-f26d-5bf7caf7176f"
      },
      "execution_count": 11,
      "outputs": [
        {
          "output_type": "stream",
          "name": "stdout",
          "text": [
            "Caught ZeroDivisionError, re-raising...\n"
          ]
        },
        {
          "output_type": "error",
          "ename": "ZeroDivisionError",
          "evalue": "division by zero",
          "traceback": [
            "\u001b[0;31m---------------------------------------------------------------------------\u001b[0m",
            "\u001b[0;31mZeroDivisionError\u001b[0m                         Traceback (most recent call last)",
            "\u001b[0;32m<ipython-input-11-5e065fdcb6e4>\u001b[0m in \u001b[0;36m<cell line: 0>\u001b[0;34m()\u001b[0m\n\u001b[1;32m      2\u001b[0m \u001b[0;31m# Inside an except block, raise without arguments re-raises the last caught exception:\u001b[0m\u001b[0;34m\u001b[0m\u001b[0;34m\u001b[0m\u001b[0m\n\u001b[1;32m      3\u001b[0m \u001b[0;32mtry\u001b[0m\u001b[0;34m:\u001b[0m\u001b[0;34m\u001b[0m\u001b[0;34m\u001b[0m\u001b[0m\n\u001b[0;32m----> 4\u001b[0;31m     \u001b[0mx\u001b[0m \u001b[0;34m=\u001b[0m \u001b[0;36m1\u001b[0m \u001b[0;34m/\u001b[0m \u001b[0;36m0\u001b[0m\u001b[0;34m\u001b[0m\u001b[0;34m\u001b[0m\u001b[0m\n\u001b[0m\u001b[1;32m      5\u001b[0m \u001b[0;32mexcept\u001b[0m \u001b[0mZeroDivisionError\u001b[0m\u001b[0;34m:\u001b[0m\u001b[0;34m\u001b[0m\u001b[0;34m\u001b[0m\u001b[0m\n\u001b[1;32m      6\u001b[0m     \u001b[0mprint\u001b[0m\u001b[0;34m(\u001b[0m\u001b[0;34m\"Caught ZeroDivisionError, re-raising...\"\u001b[0m\u001b[0;34m)\u001b[0m\u001b[0;34m\u001b[0m\u001b[0;34m\u001b[0m\u001b[0m\n",
            "\u001b[0;31mZeroDivisionError\u001b[0m: division by zero"
          ]
        }
      ]
    },
    {
      "cell_type": "code",
      "source": [
        "# Custom Exceptions\n",
        "# You can define and raise your own exceptions by subclassing the Exception class.\n",
        "class InvalidScoreError(Exception):\n",
        "    pass\n",
        "\n",
        "def check_score(score):\n",
        "    if score < 0 or score > 100:\n",
        "        raise InvalidScoreError(\"Score must be between 0 and 100.\")\n",
        "    print(f\"Score is: {score}\")\n",
        "\n",
        "check_score(90)\n",
        "check_score(120)  # Raises InvalidScoreError"
      ],
      "metadata": {
        "colab": {
          "base_uri": "https://localhost:8080/",
          "height": 315
        },
        "id": "SloJceuIYDe_",
        "outputId": "b826e551-1d22-4f10-b5c4-fa4bfa7ed5e5"
      },
      "execution_count": 12,
      "outputs": [
        {
          "output_type": "stream",
          "name": "stdout",
          "text": [
            "Score is: 90\n"
          ]
        },
        {
          "output_type": "error",
          "ename": "InvalidScoreError",
          "evalue": "Score must be between 0 and 100.",
          "traceback": [
            "\u001b[0;31m---------------------------------------------------------------------------\u001b[0m",
            "\u001b[0;31mInvalidScoreError\u001b[0m                         Traceback (most recent call last)",
            "\u001b[0;32m<ipython-input-12-aa01c551ab8a>\u001b[0m in \u001b[0;36m<cell line: 0>\u001b[0;34m()\u001b[0m\n\u001b[1;32m     10\u001b[0m \u001b[0;34m\u001b[0m\u001b[0m\n\u001b[1;32m     11\u001b[0m \u001b[0mcheck_score\u001b[0m\u001b[0;34m(\u001b[0m\u001b[0;36m90\u001b[0m\u001b[0;34m)\u001b[0m\u001b[0;34m\u001b[0m\u001b[0;34m\u001b[0m\u001b[0m\n\u001b[0;32m---> 12\u001b[0;31m \u001b[0mcheck_score\u001b[0m\u001b[0;34m(\u001b[0m\u001b[0;36m120\u001b[0m\u001b[0;34m)\u001b[0m  \u001b[0;31m# Raises InvalidScoreError\u001b[0m\u001b[0;34m\u001b[0m\u001b[0;34m\u001b[0m\u001b[0m\n\u001b[0m",
            "\u001b[0;32m<ipython-input-12-aa01c551ab8a>\u001b[0m in \u001b[0;36mcheck_score\u001b[0;34m(score)\u001b[0m\n\u001b[1;32m      6\u001b[0m \u001b[0;32mdef\u001b[0m \u001b[0mcheck_score\u001b[0m\u001b[0;34m(\u001b[0m\u001b[0mscore\u001b[0m\u001b[0;34m)\u001b[0m\u001b[0;34m:\u001b[0m\u001b[0;34m\u001b[0m\u001b[0;34m\u001b[0m\u001b[0m\n\u001b[1;32m      7\u001b[0m     \u001b[0;32mif\u001b[0m \u001b[0mscore\u001b[0m \u001b[0;34m<\u001b[0m \u001b[0;36m0\u001b[0m \u001b[0;32mor\u001b[0m \u001b[0mscore\u001b[0m \u001b[0;34m>\u001b[0m \u001b[0;36m100\u001b[0m\u001b[0;34m:\u001b[0m\u001b[0;34m\u001b[0m\u001b[0;34m\u001b[0m\u001b[0m\n\u001b[0;32m----> 8\u001b[0;31m         \u001b[0;32mraise\u001b[0m \u001b[0mInvalidScoreError\u001b[0m\u001b[0;34m(\u001b[0m\u001b[0;34m\"Score must be between 0 and 100.\"\u001b[0m\u001b[0;34m)\u001b[0m\u001b[0;34m\u001b[0m\u001b[0;34m\u001b[0m\u001b[0m\n\u001b[0m\u001b[1;32m      9\u001b[0m     \u001b[0mprint\u001b[0m\u001b[0;34m(\u001b[0m\u001b[0;34mf\"Score is: {score}\"\u001b[0m\u001b[0;34m)\u001b[0m\u001b[0;34m\u001b[0m\u001b[0;34m\u001b[0m\u001b[0m\n\u001b[1;32m     10\u001b[0m \u001b[0;34m\u001b[0m\u001b[0m\n",
            "\u001b[0;31mInvalidScoreError\u001b[0m: Score must be between 0 and 100."
          ]
        }
      ]
    },
    {
      "cell_type": "code",
      "source": [
        "# Raise With from Keyword\n",
        "# Used to chain exceptions and maintain the original traceback.\n",
        "try:\n",
        "    int(\"abc\")\n",
        "except ValueError as e:\n",
        "    raise RuntimeError(\"Failed to convert string to int\") from e\n",
        "# This shows a RuntimeError, but also tells you it was originally due to a ValueError."
      ],
      "metadata": {
        "colab": {
          "base_uri": "https://localhost:8080/",
          "height": 367
        },
        "id": "jyA86hypX6he",
        "outputId": "ff205fef-575d-42d0-9c07-d1442c774c0d"
      },
      "execution_count": 13,
      "outputs": [
        {
          "output_type": "error",
          "ename": "RuntimeError",
          "evalue": "Failed to convert string to int",
          "traceback": [
            "\u001b[0;31m---------------------------------------------------------------------------\u001b[0m",
            "\u001b[0;31mValueError\u001b[0m                                Traceback (most recent call last)",
            "\u001b[0;32m<ipython-input-13-f30f0b5cb21c>\u001b[0m in \u001b[0;36m<cell line: 0>\u001b[0;34m()\u001b[0m\n\u001b[1;32m      3\u001b[0m \u001b[0;32mtry\u001b[0m\u001b[0;34m:\u001b[0m\u001b[0;34m\u001b[0m\u001b[0;34m\u001b[0m\u001b[0m\n\u001b[0;32m----> 4\u001b[0;31m     \u001b[0mint\u001b[0m\u001b[0;34m(\u001b[0m\u001b[0;34m\"abc\"\u001b[0m\u001b[0;34m)\u001b[0m\u001b[0;34m\u001b[0m\u001b[0;34m\u001b[0m\u001b[0m\n\u001b[0m\u001b[1;32m      5\u001b[0m \u001b[0;32mexcept\u001b[0m \u001b[0mValueError\u001b[0m \u001b[0;32mas\u001b[0m \u001b[0me\u001b[0m\u001b[0;34m:\u001b[0m\u001b[0;34m\u001b[0m\u001b[0;34m\u001b[0m\u001b[0m\n",
            "\u001b[0;31mValueError\u001b[0m: invalid literal for int() with base 10: 'abc'",
            "\nThe above exception was the direct cause of the following exception:\n",
            "\u001b[0;31mRuntimeError\u001b[0m                              Traceback (most recent call last)",
            "\u001b[0;32m<ipython-input-13-f30f0b5cb21c>\u001b[0m in \u001b[0;36m<cell line: 0>\u001b[0;34m()\u001b[0m\n\u001b[1;32m      4\u001b[0m     \u001b[0mint\u001b[0m\u001b[0;34m(\u001b[0m\u001b[0;34m\"abc\"\u001b[0m\u001b[0;34m)\u001b[0m\u001b[0;34m\u001b[0m\u001b[0;34m\u001b[0m\u001b[0m\n\u001b[1;32m      5\u001b[0m \u001b[0;32mexcept\u001b[0m \u001b[0mValueError\u001b[0m \u001b[0;32mas\u001b[0m \u001b[0me\u001b[0m\u001b[0;34m:\u001b[0m\u001b[0;34m\u001b[0m\u001b[0;34m\u001b[0m\u001b[0m\n\u001b[0;32m----> 6\u001b[0;31m     \u001b[0;32mraise\u001b[0m \u001b[0mRuntimeError\u001b[0m\u001b[0;34m(\u001b[0m\u001b[0;34m\"Failed to convert string to int\"\u001b[0m\u001b[0;34m)\u001b[0m \u001b[0;32mfrom\u001b[0m \u001b[0me\u001b[0m\u001b[0;34m\u001b[0m\u001b[0;34m\u001b[0m\u001b[0m\n\u001b[0m\u001b[1;32m      7\u001b[0m \u001b[0;31m# This shows a RuntimeError, but also tells you it was originally due to a ValueError.\u001b[0m\u001b[0;34m\u001b[0m\u001b[0;34m\u001b[0m\u001b[0m\n",
            "\u001b[0;31mRuntimeError\u001b[0m: Failed to convert string to int"
          ]
        }
      ]
    },
    {
      "cell_type": "code",
      "source": [
        "class BankAccount:\n",
        "    def __init__(self, balance):\n",
        "        self.balance = balance\n",
        "\n",
        "    def withdraw(self, amount):\n",
        "        if amount > self.balance:\n",
        "            raise ValueError(\"Insufficient balance.\")\n",
        "        self.balance -= amount\n",
        "        return self.balance\n",
        "\n",
        "acc = BankAccount(100)\n",
        "print(acc.withdraw(50))   # 50\n",
        "print(acc.withdraw(100))  # Raises ValueError"
      ],
      "metadata": {
        "colab": {
          "base_uri": "https://localhost:8080/",
          "height": 315
        },
        "id": "IixikdmzY-mK",
        "outputId": "a415f097-211c-40cf-a543-405242068da3"
      },
      "execution_count": 14,
      "outputs": [
        {
          "output_type": "stream",
          "name": "stdout",
          "text": [
            "50\n"
          ]
        },
        {
          "output_type": "error",
          "ename": "ValueError",
          "evalue": "Insufficient balance.",
          "traceback": [
            "\u001b[0;31m---------------------------------------------------------------------------\u001b[0m",
            "\u001b[0;31mValueError\u001b[0m                                Traceback (most recent call last)",
            "\u001b[0;32m<ipython-input-14-3f06a23f1a17>\u001b[0m in \u001b[0;36m<cell line: 0>\u001b[0;34m()\u001b[0m\n\u001b[1;32m     11\u001b[0m \u001b[0macc\u001b[0m \u001b[0;34m=\u001b[0m \u001b[0mBankAccount\u001b[0m\u001b[0;34m(\u001b[0m\u001b[0;36m100\u001b[0m\u001b[0;34m)\u001b[0m\u001b[0;34m\u001b[0m\u001b[0;34m\u001b[0m\u001b[0m\n\u001b[1;32m     12\u001b[0m \u001b[0mprint\u001b[0m\u001b[0;34m(\u001b[0m\u001b[0macc\u001b[0m\u001b[0;34m.\u001b[0m\u001b[0mwithdraw\u001b[0m\u001b[0;34m(\u001b[0m\u001b[0;36m50\u001b[0m\u001b[0;34m)\u001b[0m\u001b[0;34m)\u001b[0m   \u001b[0;31m# 50\u001b[0m\u001b[0;34m\u001b[0m\u001b[0;34m\u001b[0m\u001b[0m\n\u001b[0;32m---> 13\u001b[0;31m \u001b[0mprint\u001b[0m\u001b[0;34m(\u001b[0m\u001b[0macc\u001b[0m\u001b[0;34m.\u001b[0m\u001b[0mwithdraw\u001b[0m\u001b[0;34m(\u001b[0m\u001b[0;36m100\u001b[0m\u001b[0;34m)\u001b[0m\u001b[0;34m)\u001b[0m  \u001b[0;31m# Raises ValueError\u001b[0m\u001b[0;34m\u001b[0m\u001b[0;34m\u001b[0m\u001b[0m\n\u001b[0m",
            "\u001b[0;32m<ipython-input-14-3f06a23f1a17>\u001b[0m in \u001b[0;36mwithdraw\u001b[0;34m(self, amount)\u001b[0m\n\u001b[1;32m      5\u001b[0m     \u001b[0;32mdef\u001b[0m \u001b[0mwithdraw\u001b[0m\u001b[0;34m(\u001b[0m\u001b[0mself\u001b[0m\u001b[0;34m,\u001b[0m \u001b[0mamount\u001b[0m\u001b[0;34m)\u001b[0m\u001b[0;34m:\u001b[0m\u001b[0;34m\u001b[0m\u001b[0;34m\u001b[0m\u001b[0m\n\u001b[1;32m      6\u001b[0m         \u001b[0;32mif\u001b[0m \u001b[0mamount\u001b[0m \u001b[0;34m>\u001b[0m \u001b[0mself\u001b[0m\u001b[0;34m.\u001b[0m\u001b[0mbalance\u001b[0m\u001b[0;34m:\u001b[0m\u001b[0;34m\u001b[0m\u001b[0;34m\u001b[0m\u001b[0m\n\u001b[0;32m----> 7\u001b[0;31m             \u001b[0;32mraise\u001b[0m \u001b[0mValueError\u001b[0m\u001b[0;34m(\u001b[0m\u001b[0;34m\"Insufficient balance.\"\u001b[0m\u001b[0;34m)\u001b[0m\u001b[0;34m\u001b[0m\u001b[0;34m\u001b[0m\u001b[0m\n\u001b[0m\u001b[1;32m      8\u001b[0m         \u001b[0mself\u001b[0m\u001b[0;34m.\u001b[0m\u001b[0mbalance\u001b[0m \u001b[0;34m-=\u001b[0m \u001b[0mamount\u001b[0m\u001b[0;34m\u001b[0m\u001b[0;34m\u001b[0m\u001b[0m\n\u001b[1;32m      9\u001b[0m         \u001b[0;32mreturn\u001b[0m \u001b[0mself\u001b[0m\u001b[0;34m.\u001b[0m\u001b[0mbalance\u001b[0m\u001b[0;34m\u001b[0m\u001b[0;34m\u001b[0m\u001b[0m\n",
            "\u001b[0;31mValueError\u001b[0m: Insufficient balance."
          ]
        }
      ]
    },
    {
      "cell_type": "code",
      "source": [
        "# Exception chaining occurs when one exception is raised while handling another exception.\n",
        "# Python allows you to explicitly or implicitly chain exceptions using the from keyword.\n",
        "\n",
        "try:\n",
        "    x = int(\"abc\")\n",
        "except ValueError:\n",
        "    print(\"Handling ValueError...\")\n",
        "    x = 10 / 0  # Raises ZeroDivisionError implicitly chained"
      ],
      "metadata": {
        "colab": {
          "base_uri": "https://localhost:8080/",
          "height": 367
        },
        "id": "kE1USk9KZnrj",
        "outputId": "f73b4e32-5573-4420-945c-ea5bea1fa12a"
      },
      "execution_count": 15,
      "outputs": [
        {
          "output_type": "stream",
          "name": "stdout",
          "text": [
            "Handling ValueError...\n"
          ]
        },
        {
          "output_type": "error",
          "ename": "ZeroDivisionError",
          "evalue": "division by zero",
          "traceback": [
            "\u001b[0;31m---------------------------------------------------------------------------\u001b[0m",
            "\u001b[0;31mValueError\u001b[0m                                Traceback (most recent call last)",
            "\u001b[0;32m<ipython-input-15-2ed37eabc28f>\u001b[0m in \u001b[0;36m<cell line: 0>\u001b[0;34m()\u001b[0m\n\u001b[1;32m      4\u001b[0m \u001b[0;32mtry\u001b[0m\u001b[0;34m:\u001b[0m\u001b[0;34m\u001b[0m\u001b[0;34m\u001b[0m\u001b[0m\n\u001b[0;32m----> 5\u001b[0;31m     \u001b[0mx\u001b[0m \u001b[0;34m=\u001b[0m \u001b[0mint\u001b[0m\u001b[0;34m(\u001b[0m\u001b[0;34m\"abc\"\u001b[0m\u001b[0;34m)\u001b[0m\u001b[0;34m\u001b[0m\u001b[0;34m\u001b[0m\u001b[0m\n\u001b[0m\u001b[1;32m      6\u001b[0m \u001b[0;32mexcept\u001b[0m \u001b[0mValueError\u001b[0m\u001b[0;34m:\u001b[0m\u001b[0;34m\u001b[0m\u001b[0;34m\u001b[0m\u001b[0m\n",
            "\u001b[0;31mValueError\u001b[0m: invalid literal for int() with base 10: 'abc'",
            "\nDuring handling of the above exception, another exception occurred:\n",
            "\u001b[0;31mZeroDivisionError\u001b[0m                         Traceback (most recent call last)",
            "\u001b[0;32m<ipython-input-15-2ed37eabc28f>\u001b[0m in \u001b[0;36m<cell line: 0>\u001b[0;34m()\u001b[0m\n\u001b[1;32m      6\u001b[0m \u001b[0;32mexcept\u001b[0m \u001b[0mValueError\u001b[0m\u001b[0;34m:\u001b[0m\u001b[0;34m\u001b[0m\u001b[0;34m\u001b[0m\u001b[0m\n\u001b[1;32m      7\u001b[0m     \u001b[0mprint\u001b[0m\u001b[0;34m(\u001b[0m\u001b[0;34m\"Handling ValueError...\"\u001b[0m\u001b[0;34m)\u001b[0m\u001b[0;34m\u001b[0m\u001b[0;34m\u001b[0m\u001b[0m\n\u001b[0;32m----> 8\u001b[0;31m     \u001b[0mx\u001b[0m \u001b[0;34m=\u001b[0m \u001b[0;36m10\u001b[0m \u001b[0;34m/\u001b[0m \u001b[0;36m0\u001b[0m  \u001b[0;31m# Raises ZeroDivisionError implicitly chained\u001b[0m\u001b[0;34m\u001b[0m\u001b[0;34m\u001b[0m\u001b[0m\n\u001b[0m",
            "\u001b[0;31mZeroDivisionError\u001b[0m: division by zero"
          ]
        }
      ]
    },
    {
      "cell_type": "code",
      "source": [
        "try:\n",
        "    x = int(\"abc\")\n",
        "except ValueError as ve:\n",
        "    raise TypeError(\"Failed to convert string to int\") from ve\n"
      ],
      "metadata": {
        "colab": {
          "base_uri": "https://localhost:8080/",
          "height": 349
        },
        "id": "_qbNhnS6aSSA",
        "outputId": "db248d20-8393-4c03-9f46-1f62834bce32"
      },
      "execution_count": 16,
      "outputs": [
        {
          "output_type": "error",
          "ename": "TypeError",
          "evalue": "Failed to convert string to int",
          "traceback": [
            "\u001b[0;31m---------------------------------------------------------------------------\u001b[0m",
            "\u001b[0;31mValueError\u001b[0m                                Traceback (most recent call last)",
            "\u001b[0;32m<ipython-input-16-68277928dcf9>\u001b[0m in \u001b[0;36m<cell line: 0>\u001b[0;34m()\u001b[0m\n\u001b[1;32m      1\u001b[0m \u001b[0;32mtry\u001b[0m\u001b[0;34m:\u001b[0m\u001b[0;34m\u001b[0m\u001b[0;34m\u001b[0m\u001b[0m\n\u001b[0;32m----> 2\u001b[0;31m     \u001b[0mx\u001b[0m \u001b[0;34m=\u001b[0m \u001b[0mint\u001b[0m\u001b[0;34m(\u001b[0m\u001b[0;34m\"abc\"\u001b[0m\u001b[0;34m)\u001b[0m\u001b[0;34m\u001b[0m\u001b[0;34m\u001b[0m\u001b[0m\n\u001b[0m\u001b[1;32m      3\u001b[0m \u001b[0;32mexcept\u001b[0m \u001b[0mValueError\u001b[0m \u001b[0;32mas\u001b[0m \u001b[0mve\u001b[0m\u001b[0;34m:\u001b[0m\u001b[0;34m\u001b[0m\u001b[0;34m\u001b[0m\u001b[0m\n",
            "\u001b[0;31mValueError\u001b[0m: invalid literal for int() with base 10: 'abc'",
            "\nThe above exception was the direct cause of the following exception:\n",
            "\u001b[0;31mTypeError\u001b[0m                                 Traceback (most recent call last)",
            "\u001b[0;32m<ipython-input-16-68277928dcf9>\u001b[0m in \u001b[0;36m<cell line: 0>\u001b[0;34m()\u001b[0m\n\u001b[1;32m      2\u001b[0m     \u001b[0mx\u001b[0m \u001b[0;34m=\u001b[0m \u001b[0mint\u001b[0m\u001b[0;34m(\u001b[0m\u001b[0;34m\"abc\"\u001b[0m\u001b[0;34m)\u001b[0m\u001b[0;34m\u001b[0m\u001b[0;34m\u001b[0m\u001b[0m\n\u001b[1;32m      3\u001b[0m \u001b[0;32mexcept\u001b[0m \u001b[0mValueError\u001b[0m \u001b[0;32mas\u001b[0m \u001b[0mve\u001b[0m\u001b[0;34m:\u001b[0m\u001b[0;34m\u001b[0m\u001b[0;34m\u001b[0m\u001b[0m\n\u001b[0;32m----> 4\u001b[0;31m     \u001b[0;32mraise\u001b[0m \u001b[0mTypeError\u001b[0m\u001b[0;34m(\u001b[0m\u001b[0;34m\"Failed to convert string to int\"\u001b[0m\u001b[0;34m)\u001b[0m \u001b[0;32mfrom\u001b[0m \u001b[0mve\u001b[0m\u001b[0;34m\u001b[0m\u001b[0;34m\u001b[0m\u001b[0m\n\u001b[0m",
            "\u001b[0;31mTypeError\u001b[0m: Failed to convert string to int"
          ]
        }
      ]
    },
    {
      "cell_type": "code",
      "source": [
        "try:\n",
        "    x = int(\"abc\")\n",
        "except ValueError:\n",
        "    raise TypeError(\"Conversion failed\") from None\n"
      ],
      "metadata": {
        "colab": {
          "base_uri": "https://localhost:8080/",
          "height": 176
        },
        "id": "8PHkw_vvaWV1",
        "outputId": "fa0c8050-c585-4df8-c934-410739ddca6b"
      },
      "execution_count": 17,
      "outputs": [
        {
          "output_type": "error",
          "ename": "TypeError",
          "evalue": "Conversion failed",
          "traceback": [
            "\u001b[0;31m---------------------------------------------------------------------------\u001b[0m",
            "\u001b[0;31mTypeError\u001b[0m                                 Traceback (most recent call last)",
            "\u001b[0;32m<ipython-input-17-36dea6f6dc0d>\u001b[0m in \u001b[0;36m<cell line: 0>\u001b[0;34m()\u001b[0m\n\u001b[1;32m      2\u001b[0m     \u001b[0mx\u001b[0m \u001b[0;34m=\u001b[0m \u001b[0mint\u001b[0m\u001b[0;34m(\u001b[0m\u001b[0;34m\"abc\"\u001b[0m\u001b[0;34m)\u001b[0m\u001b[0;34m\u001b[0m\u001b[0;34m\u001b[0m\u001b[0m\n\u001b[1;32m      3\u001b[0m \u001b[0;32mexcept\u001b[0m \u001b[0mValueError\u001b[0m\u001b[0;34m:\u001b[0m\u001b[0;34m\u001b[0m\u001b[0;34m\u001b[0m\u001b[0m\n\u001b[0;32m----> 4\u001b[0;31m     \u001b[0;32mraise\u001b[0m \u001b[0mTypeError\u001b[0m\u001b[0;34m(\u001b[0m\u001b[0;34m\"Conversion failed\"\u001b[0m\u001b[0;34m)\u001b[0m \u001b[0;32mfrom\u001b[0m \u001b[0;32mNone\u001b[0m\u001b[0;34m\u001b[0m\u001b[0;34m\u001b[0m\u001b[0m\n\u001b[0m",
            "\u001b[0;31mTypeError\u001b[0m: Conversion failed"
          ]
        }
      ]
    }
  ]
}