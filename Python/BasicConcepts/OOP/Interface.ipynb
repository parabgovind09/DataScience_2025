{
  "nbformat": 4,
  "nbformat_minor": 0,
  "metadata": {
    "colab": {
      "provenance": []
    },
    "kernelspec": {
      "name": "python3",
      "display_name": "Python 3"
    },
    "language_info": {
      "name": "python"
    }
  },
  "cells": [
    {
      "cell_type": "code",
      "source": [
        "# In languages like Java and Go, there is keyword called interface which is used to define an interface.\n",
        "# Python doesn't have it or any similar keyword. It uses abstract base classes (in short ABC module) and @abstractmethod decorator to create interfaces.\n",
        "\n",
        "# An abstract class and interface appear similar in Python.\n",
        "# The only difference in two is that the abstract class may have some non-abstract methods,\n",
        "# while all methods in interface must be abstract, and the implementing class must override all the abstract methods."
      ],
      "metadata": {
        "id": "fY3H7mf665Aq"
      },
      "execution_count": 1,
      "outputs": []
    },
    {
      "cell_type": "code",
      "source": [
        "# Rules for implementing Python Interfaces\n",
        "# We need to consider the following points while creating and implementing interfaces in Python −\n",
        "\n",
        "# Methods defined inside an interface must be abstract.\n",
        "# Creating object of an interface is not allowed.\n",
        "# A class implementing an interface needs to define all the methods of that interface.\n",
        "# In case, a class is not implementing all the methods defined inside the interface, the class must be declared abstract."
      ],
      "metadata": {
        "id": "HgNQR0k37c4d"
      },
      "execution_count": 2,
      "outputs": []
    },
    {
      "cell_type": "code",
      "source": [
        "# Ways to implement Interfaces in Python\n",
        "# We can create and implement interfaces in two ways −\n",
        "\n",
        "# Formal Interface\n",
        "# Informal Interface"
      ],
      "metadata": {
        "id": "MfMkJ7c67gwc"
      },
      "execution_count": 3,
      "outputs": []
    },
    {
      "cell_type": "code",
      "execution_count": 4,
      "metadata": {
        "colab": {
          "base_uri": "https://localhost:8080/",
          "height": 36
        },
        "id": "aNhFJAif61Th",
        "outputId": "3cce1411-2351-4aeb-8d85-6af42010fed3"
      },
      "outputs": [
        {
          "output_type": "execute_result",
          "data": {
            "text/plain": [
              "'Meow!'"
            ],
            "application/vnd.google.colaboratory.intrinsic+json": {
              "type": "string"
            }
          },
          "metadata": {},
          "execution_count": 4
        }
      ],
      "source": [
        "# 1. Informal Interface\n",
        "# An informal interface is typically a base class that defines method signatures but does not enforce their implementation.\n",
        "# It relies on documentation and convention rather than enforcement.\n",
        "\n",
        "class Animal:\n",
        "    def speak(self):\n",
        "        pass  # Expect subclasses to override this\n",
        "\n",
        "class Dog(Animal):\n",
        "    def speak(self):\n",
        "        return \"Woof!\"\n",
        "\n",
        "class Cat(Animal):\n",
        "    def speak(self):\n",
        "        return \"Meow!\"\n",
        "\n",
        "c = Cat()\n",
        "c.speak()\n",
        "\n",
        "# Pros: Simple and flexible.\n",
        "# Cons: No enforcement. You can create a subclass that forgets to implement speak()."
      ]
    },
    {
      "cell_type": "code",
      "source": [
        "# 2. Formal Interface (Using abc module)\n",
        "# A formal interface uses the abc (Abstract Base Classes) module to enforce that derived classes implement certain methods.\n",
        "\n",
        "from abc import ABC, abstractmethod\n",
        "\n",
        "class Animal(ABC):\n",
        "    @abstractmethod\n",
        "    def speak(self):\n",
        "        pass\n",
        "\n",
        "class Dog(Animal):\n",
        "    def speak(self):\n",
        "        return \"Woof!\"\n",
        "\n",
        "# This will raise an error if `speak()` is not implemented:\n",
        "# class Cat(Animal):\n",
        "#     pass\n",
        "\n",
        "\n",
        "\n",
        "# Pros: Enforces implementation of required methods.\n",
        "# Cons: Slightly more complex and requires the abc module."
      ],
      "metadata": {
        "id": "1iomuR4S74Ky"
      },
      "execution_count": 5,
      "outputs": []
    }
  ]
}