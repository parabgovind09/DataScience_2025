{
  "nbformat": 4,
  "nbformat_minor": 0,
  "metadata": {
    "colab": {
      "provenance": []
    },
    "kernelspec": {
      "name": "python3",
      "display_name": "Python 3"
    },
    "language_info": {
      "name": "python"
    }
  },
  "cells": [
    {
      "cell_type": "code",
      "execution_count": 1,
      "metadata": {
        "id": "jqvRleKxnvrM"
      },
      "outputs": [],
      "source": [
        "# A constructor is a special method used to initialize objects. In Python, it is defined using the __init__() method.\n",
        "\n",
        "# It gets called automatically when you create (instantiate) an object of a class."
      ]
    },
    {
      "cell_type": "code",
      "source": [
        "class Calculator:\n",
        "  def __init__(self):\n",
        "    print(\"Constructor called\")\n",
        "\n",
        "c = Calculator()"
      ],
      "metadata": {
        "colab": {
          "base_uri": "https://localhost:8080/"
        },
        "id": "Xq4hbjuzpYXV",
        "outputId": "8d9fe33b-661d-4c34-c923-c8a275b25079"
      },
      "execution_count": 2,
      "outputs": [
        {
          "output_type": "stream",
          "name": "stdout",
          "text": [
            "Constructor called\n"
          ]
        }
      ]
    },
    {
      "cell_type": "code",
      "source": [
        "class Details:\n",
        "  def __init__(self,name,age):\n",
        "    self.name = name;\n",
        "    self.age = age\n",
        "    print(\"Name = \",self.name,\" Age = \",self.age)\n",
        "\n",
        "d = Details(\"Vrushali\",25)\n",
        "# ✅ self refers to the current object — it allows each object to maintain its own data."
      ],
      "metadata": {
        "colab": {
          "base_uri": "https://localhost:8080/"
        },
        "id": "NB11GAqrpwzL",
        "outputId": "ef640957-5644-4341-fcbc-dd18400cbcdd"
      },
      "execution_count": 3,
      "outputs": [
        {
          "output_type": "stream",
          "name": "stdout",
          "text": [
            "Name =  Vrushali  Age =  25\n"
          ]
        }
      ]
    },
    {
      "cell_type": "code",
      "source": [
        "# Constructor initializes instance variables.\n",
        "\n",
        "# Every object has its own copy of instance variables.\n",
        "class Car:\n",
        "    def __init__(self, brand, price):\n",
        "        self.brand = brand\n",
        "        self.price = price\n",
        "\n",
        "c1 = Car(\"Toyota\", 20000)\n",
        "c2 = Car(\"BMW\", 45000)\n",
        "\n",
        "print(c1.brand)\n",
        "print(c2.brand)"
      ],
      "metadata": {
        "colab": {
          "base_uri": "https://localhost:8080/"
        },
        "id": "o8sCm_8fqUzJ",
        "outputId": "5c96b840-26dd-4b45-9ae2-d2cbbe903ba8"
      },
      "execution_count": 4,
      "outputs": [
        {
          "output_type": "stream",
          "name": "stdout",
          "text": [
            "Toyota\n",
            "BMW\n"
          ]
        }
      ]
    },
    {
      "cell_type": "code",
      "source": [
        "# Constructor Overriding (In Inheritance)\n",
        "# When a child class has its own constructor, it overrides the parent's constructor.\n",
        "\n",
        "class Parent:\n",
        "  def __init__(self):\n",
        "    print(\"Parent Class Constructor\")\n",
        "\n",
        "class Child(Parent):\n",
        "  def __init__(self):\n",
        "    print(\"Child Class Constructor\")\n",
        "\n",
        "c = Child()"
      ],
      "metadata": {
        "colab": {
          "base_uri": "https://localhost:8080/"
        },
        "id": "VAEMxnsRq6Sy",
        "outputId": "3cd5ee10-76b7-4391-a44e-3b75d0f0e1c3"
      },
      "execution_count": 5,
      "outputs": [
        {
          "output_type": "stream",
          "name": "stdout",
          "text": [
            "Child Class Constructor\n"
          ]
        }
      ]
    },
    {
      "cell_type": "code",
      "source": [
        "# Using super() to call Parent Constructor\n",
        "\n",
        "class Parent:\n",
        "  def __init__(self):\n",
        "    print(\"Parent Class Constructor\")\n",
        "\n",
        "class Child(Parent):\n",
        "  def __init__(self):\n",
        "    super().__init__() # calling Parent class constructor\n",
        "    print(\"Child Class Constructor\")\n",
        "\n",
        "c = Child()"
      ],
      "metadata": {
        "colab": {
          "base_uri": "https://localhost:8080/"
        },
        "id": "j4aVddeZrXJI",
        "outputId": "b15cd48b-15f7-4228-b758-c299a0bbbf48"
      },
      "execution_count": 6,
      "outputs": [
        {
          "output_type": "stream",
          "name": "stdout",
          "text": [
            "Parent Class Constructor\n",
            "Child Class Constructor\n"
          ]
        }
      ]
    },
    {
      "cell_type": "code",
      "source": [
        "# __new__ is a special method that is responsible for creating a new instance of a class.\n",
        "\n",
        "# It is called before __init__.\n",
        "\n",
        "# It is a static method by default and takes the class as its first argument (cls).\n",
        "\n",
        "# It returns a new instance of the class.\n",
        "\n",
        "# If __init__ initializes the object, __new__ actually creates it.\n",
        "\n",
        "# __new__ is called → creates the object.\n",
        "\n",
        "# __init__ is called → initializes the object.\n",
        "\n",
        "# Syntax\n",
        "# class ClassName:\n",
        "\n",
        "#     def __new__(cls, *args, **kwargs):\n",
        "\n",
        "#         # Custom instance creation logic\n",
        "\n",
        "#         instance = super(ClassName, cls).__new__(cls, *args, **kwargs)\n",
        "\n",
        "#         return instance\n",
        "\n",
        "\n",
        "class MyClass:\n",
        "    def __new__(cls, *args, **kwargs):\n",
        "        print(\"Creating instance...\")\n",
        "        instance = super().__new__(cls)\n",
        "        return instance\n",
        "\n",
        "    def __init__(self, value):\n",
        "        print(\"Initializing instance...\")\n",
        "        self.value = value\n"
      ],
      "metadata": {
        "id": "YZInHoOWsPag"
      },
      "execution_count": 7,
      "outputs": []
    },
    {
      "cell_type": "code",
      "source": [
        "class MyClass:\n",
        "    def __new__(cls):\n",
        "        print(\"In __new__\")\n",
        "        return super().__new__(cls)\n",
        "\n",
        "    def __init__(self):\n",
        "        print(\"In __init__\")\n",
        "\n",
        "obj = MyClass()\n"
      ],
      "metadata": {
        "colab": {
          "base_uri": "https://localhost:8080/"
        },
        "id": "Gb87rQ52xVOW",
        "outputId": "d6922fac-8792-44f0-8a90-bad0d7cb5683"
      },
      "execution_count": 8,
      "outputs": [
        {
          "output_type": "stream",
          "name": "stdout",
          "text": [
            "In __new__\n",
            "In __init__\n"
          ]
        }
      ]
    },
    {
      "cell_type": "code",
      "source": [
        "# useful when:\n",
        "\n",
        "# You’re working with immutable types (like int, str, tuple)\n",
        "\n",
        "# Implementing singleton patterns\n",
        "\n",
        "# Controlling object creation or modifying return type\n",
        "\n",
        "class MyStr(str):\n",
        "    def __new__(cls, value):\n",
        "        print(\"Creating string object...\")\n",
        "        return super().__new__(cls, value.upper())\n",
        "\n",
        "s = MyStr(\"hello\")\n",
        "print(s)  # HELLO"
      ],
      "metadata": {
        "colab": {
          "base_uri": "https://localhost:8080/"
        },
        "id": "eWIQZOuDxnos",
        "outputId": "ce071a89-f185-409f-8131-3d69d823e266"
      },
      "execution_count": 9,
      "outputs": [
        {
          "output_type": "stream",
          "name": "stdout",
          "text": [
            "Creating string object...\n",
            "HELLO\n"
          ]
        }
      ]
    },
    {
      "cell_type": "code",
      "source": [
        "class Singleton:\n",
        "    _instance = None\n",
        "\n",
        "    def __new__(cls):\n",
        "        if cls._instance is None:\n",
        "            print(\"Creating new instance\")\n",
        "            cls._instance = super().__new__(cls)\n",
        "        return cls._instance\n",
        "\n",
        "a = Singleton()\n",
        "b = Singleton()\n",
        "print(a is b)  # True"
      ],
      "metadata": {
        "colab": {
          "base_uri": "https://localhost:8080/"
        },
        "id": "VEFT1ocWx4G8",
        "outputId": "e2edcaec-5a93-41d4-9cf0-3b9fab06636d"
      },
      "execution_count": 10,
      "outputs": [
        {
          "output_type": "stream",
          "name": "stdout",
          "text": [
            "Creating new instance\n",
            "True\n"
          ]
        }
      ]
    }
  ]
}