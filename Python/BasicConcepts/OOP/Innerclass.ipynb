{
  "nbformat": 4,
  "nbformat_minor": 0,
  "metadata": {
    "colab": {
      "provenance": []
    },
    "kernelspec": {
      "name": "python3",
      "display_name": "Python 3"
    },
    "language_info": {
      "name": "python"
    }
  },
  "cells": [
    {
      "cell_type": "code",
      "execution_count": 1,
      "metadata": {
        "id": "ZKdfxVbM4Y83"
      },
      "outputs": [],
      "source": [
        "# A class defined inside another class is known as an inner class in Python. Sometimes inner class is also called nested class.\n",
        "# If the inner class is instantiated, the object of inner class can also be used by the parent class.\n",
        "# Object of inner class becomes one of the attributes of the outer class.\n",
        "# It has no special access to the outer class’s instance attributes or methods unless explicitly passed.\n",
        "# Python does not support implicit inheritance between outer and inner classes.\n",
        "# The inner class has a local scope. It acts as one of the attributes of the outer class."
      ]
    },
    {
      "cell_type": "code",
      "source": [
        "class Student:\n",
        "  def __init__(self,name):\n",
        "    self.name = name\n",
        "    self.sub = self.Subjects(self.name,\"Maths\",\"Marathi\")\n",
        "\n",
        "  def show(self):\n",
        "    self.sub.display()\n",
        "\n",
        "  class Subjects:\n",
        "    def __init__(self,name,sub1,sub2):\n",
        "      self.name = name\n",
        "      self.sub1 = sub1\n",
        "      self.sub2 = sub2\n",
        "\n",
        "    def display(self):\n",
        "      print(\"Name = \",self.name,\" Subjects = \",self.sub1,\" \",self.sub2)\n",
        "\n",
        "s1 = Student(\"Govind\")\n",
        "s1.show()\n",
        "\n",
        "\n",
        "sub = Student(\"Govind\").Subjects(\"Govind\",\"Java\",\"Python\").display()"
      ],
      "metadata": {
        "colab": {
          "base_uri": "https://localhost:8080/"
        },
        "id": "hHnUL87SSsi-",
        "outputId": "034014c1-98c8-44b7-d9fa-77f0671a346c"
      },
      "execution_count": 2,
      "outputs": [
        {
          "output_type": "stream",
          "name": "stdout",
          "text": [
            "Name =  Govind  Subjects =  Maths   Marathi\n",
            "Name =  Govind  Subjects =  Java   Python\n"
          ]
        }
      ]
    },
    {
      "cell_type": "code",
      "source": [
        "# Types of Inner Class\n",
        "# In Python, inner classes are of two types −\n",
        "\n",
        "# Multiple Inner Class\n",
        "# Multilevel Inner Class\n",
        "\n",
        "\n",
        "\n",
        "# Multiple Inner Class\n",
        "# In multiple inner class, a single outer class contains more than one inner class.\n",
        "# Each inner class works independently but it can interact with the members of outer class.\n",
        "\n",
        "class Organization:\n",
        "   def __init__(self):\n",
        "      self.inner1 = self.Department1()\n",
        "      self.inner2 = self.Department2()\n",
        "\n",
        "   def showName(self):\n",
        "      print(\"Organization Name: Onita\")\n",
        "\n",
        "   class Department1:\n",
        "      def displayDepartment1(self):\n",
        "         print(\"In Department 1\")\n",
        "\n",
        "   class Department2:\n",
        "      def displayDepartment2(self):\n",
        "         print(\"In Department 2\")\n",
        "\n",
        "# instance of OuterClass\n",
        "outer = Organization()\n",
        "outer.showName()\n",
        "outer.inner1.displayDepartment1()\n",
        "outer.inner2.displayDepartment2()"
      ],
      "metadata": {
        "colab": {
          "base_uri": "https://localhost:8080/"
        },
        "id": "fZyvHrTaUdrE",
        "outputId": "3af2aa19-501b-4fea-8875-802af20d130d"
      },
      "execution_count": 3,
      "outputs": [
        {
          "output_type": "stream",
          "name": "stdout",
          "text": [
            "Organization Name: Onita\n",
            "In Department 1\n",
            "In Department 2\n"
          ]
        }
      ]
    },
    {
      "cell_type": "code",
      "source": [
        "# Multilevel Inner Class\n",
        "# It refers to an inner class that itself contains another inner class. It creates multiple levels of nested classes.\n",
        "\n",
        "class Organization:\n",
        "   def __init__(self):\n",
        "      self.inner = self.Department()\n",
        "\n",
        "   def showName(self):\n",
        "      print(\"Organization Name: Onita\")\n",
        "\n",
        "   class Department:\n",
        "      def __init__(self):\n",
        "         self.innerTeam = self.Team1()\n",
        "\n",
        "      def displayDep(self):\n",
        "         print(\"In Department\")\n",
        "\n",
        "      class Team1:\n",
        "         def displayTeam(self):\n",
        "            print(\"Team 1 of the department\")\n",
        "\n",
        "# instance of outer class\n",
        "outer = Organization()\n",
        "# call the method of outer class\n",
        "outer.showName()\n",
        "\n",
        "# Inner Class instance\n",
        "inner = outer.inner\n",
        "inner.displayDep()\n",
        "\n",
        "# Access Team1 instance\n",
        "innerTeam = inner.innerTeam\n",
        "# Calling display method\n",
        "innerTeam.displayTeam()"
      ],
      "metadata": {
        "colab": {
          "base_uri": "https://localhost:8080/"
        },
        "id": "9awSAzIbWbHK",
        "outputId": "f480e463-c306-4f84-bf48-e234cf38c411"
      },
      "execution_count": 4,
      "outputs": [
        {
          "output_type": "stream",
          "name": "stdout",
          "text": [
            "Organization Name: Onita\n",
            "In Department\n",
            "Team 1 of the department\n"
          ]
        }
      ]
    }
  ]
}