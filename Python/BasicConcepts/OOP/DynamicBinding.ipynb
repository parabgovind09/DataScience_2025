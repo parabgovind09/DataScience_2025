{
  "nbformat": 4,
  "nbformat_minor": 0,
  "metadata": {
    "colab": {
      "provenance": []
    },
    "kernelspec": {
      "name": "python3",
      "display_name": "Python 3"
    },
    "language_info": {
      "name": "python"
    }
  },
  "cells": [
    {
      "cell_type": "code",
      "execution_count": 1,
      "metadata": {
        "id": "G5duYToi0h62"
      },
      "outputs": [],
      "source": [
        "# Dynamic binding (also called late binding) means:\n",
        "\n",
        "# The method that gets called is determined at runtime, not at compile-time.\n",
        "\n",
        "# In Python, which method is executed depends on the actual object (not the reference type).\n",
        "\n",
        "# It enables polymorphism — different classes can define the same method, and Python will call the correct one at runtime based on the object.\n",
        "\n",
        "\n",
        "\n",
        "# Dynamic binding is the process where method calls are resolved at runtime based on the actual object's type, not the reference type.\n",
        "# It enables method overriding and is fundamental to runtime polymorphism.\n",
        "# In Java, dynamic binding applies to overridden methods.\n",
        "# In Python, since it is dynamically typed, all method calls are dynamically bound by default, allowing greater flexibility and polymorphic behavior."
      ]
    },
    {
      "cell_type": "code",
      "source": [
        "class Vehicle:\n",
        "    def start(self):\n",
        "        print(\"Vehicle is starting\")\n",
        "\n",
        "class Car(Vehicle):\n",
        "    def start(self):\n",
        "        print(\"Car is starting\")\n",
        "\n",
        "class Bike(Vehicle):\n",
        "    def start(self):\n",
        "        print(\"Bike is starting\")\n",
        "\n",
        "def launch(vehicle):\n",
        "    vehicle.start()   # Dynamically bound at runtime\n",
        "\n",
        "# Actual object determines the method called\n",
        "launch(Car())   # Output: Car is starting\n",
        "launch(Bike())  # Output: Bike is starting\n",
        "\n",
        "\n",
        "# At runtime, Python checks the actual type of the object vehicle is referring to (e.g., Car, Bike, etc.) and then binds the call to the appropriate start() method."
      ],
      "metadata": {
        "colab": {
          "base_uri": "https://localhost:8080/"
        },
        "id": "9B3v01nz2mby",
        "outputId": "c825339d-3cee-4536-9d02-b5ec7b6b9ae9"
      },
      "execution_count": 2,
      "outputs": [
        {
          "output_type": "stream",
          "name": "stdout",
          "text": [
            "Car is starting\n",
            "Bike is starting\n"
          ]
        }
      ]
    },
    {
      "cell_type": "code",
      "source": [
        "class shape:\n",
        "   def draw(self):\n",
        "      print (\"draw method\")\n",
        "      return\n",
        "\n",
        "class circle(shape):\n",
        "   def draw(self):\n",
        "      print (\"Draw a circle\")\n",
        "      return\n",
        "\n",
        "class rectangle(shape):\n",
        "   def draw(self):\n",
        "      print (\"Draw a rectangle\")\n",
        "      return\n",
        "\n",
        "shapes = [circle(), rectangle()]\n",
        "for shp in shapes:\n",
        "   shp.draw()"
      ],
      "metadata": {
        "colab": {
          "base_uri": "https://localhost:8080/"
        },
        "id": "lYEiAu-c26tB",
        "outputId": "6d49f8f0-92cf-4af1-d158-b4e286a429e6"
      },
      "execution_count": 3,
      "outputs": [
        {
          "output_type": "stream",
          "name": "stdout",
          "text": [
            "Draw a circle\n",
            "Draw a rectangle\n"
          ]
        }
      ]
    }
  ]
}