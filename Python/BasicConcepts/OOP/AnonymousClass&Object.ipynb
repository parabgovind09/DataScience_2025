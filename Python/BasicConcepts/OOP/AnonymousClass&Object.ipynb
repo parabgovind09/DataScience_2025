{
  "nbformat": 4,
  "nbformat_minor": 0,
  "metadata": {
    "colab": {
      "provenance": []
    },
    "kernelspec": {
      "name": "python3",
      "display_name": "Python 3"
    },
    "language_info": {
      "name": "python"
    }
  },
  "cells": [
    {
      "cell_type": "code",
      "execution_count": 1,
      "metadata": {
        "colab": {
          "base_uri": "https://localhost:8080/"
        },
        "id": "0IOwOqp2X9Pz",
        "outputId": "4bbd48c8-655e-47cc-b3f2-66cddcb0de22"
      },
      "outputs": [
        {
          "output_type": "stream",
          "name": "stdout",
          "text": [
            "x = 10\n",
            "Hello!\n"
          ]
        }
      ],
      "source": [
        "### ✅ Anonymous Class and Anonymous Object in Python – Explained Clearly\n",
        "\n",
        "## 1. 🔍 **Anonymous Class in Python**\n",
        "\n",
        "### ❓ Does Python support anonymous classes?\n",
        "\n",
        "# > **No**, Python **does not support true anonymous classes** like Java (e.g., `new Interface() { ... }`).\n",
        "\n",
        "# However, there are **workarounds** to achieve similar results using:\n",
        "\n",
        "# * `types.SimpleNamespace`\n",
        "# * `lambda`\n",
        "# * `type()` (dynamic class creation)\n",
        "# * functions returning class-like behavior\n",
        "\n",
        "### 🧪 Example 1: Using `type()` to create an anonymous class\n",
        "\n",
        "MyClass = type('MyClass', (object,), {'x': 10, 'display': lambda self: print(\"x =\", self.x)})\n",
        "\n",
        "obj = MyClass()\n",
        "obj.display()\n",
        "\n",
        "# ✔️ This dynamically creates a class named `MyClass` and instantiates it — but this is mostly **metaprogramming**, not common in everyday use.\n",
        "\n",
        "\n",
        "## 2. ✅ **Anonymous Object in Python**\n",
        "\n",
        "# > An **anonymous object** is an object that is **created and used immediately** without assigning it to a variable.\n",
        "\n",
        "\n",
        "### 🧪 Example:\n",
        "\n",
        "class Greet:\n",
        "    def say_hello(self):\n",
        "        print(\"Hello!\")\n",
        "\n",
        "# Anonymous object usage\n",
        "Greet().say_hello()   # Creates object and calls method immediately\n",
        "\n",
        "# ✔️ This is a common Python pattern when you want to use the object **only once**.\n",
        "\n",
        "\n",
        "## 📝 Summary\n",
        "\n",
        "# | Concept          | In Python                                                  |\n",
        "# | ---------------- | ---------------------------------------------------------- |\n",
        "# | Anonymous Class  | ❌ Not directly supported, but can be mimicked via `type()` |\n",
        "# | Anonymous Object | ✅ Fully supported and commonly used                        |"
      ]
    },
    {
      "cell_type": "code",
      "source": [],
      "metadata": {
        "id": "tMGoYGMEZQci"
      },
      "execution_count": 1,
      "outputs": []
    }
  ]
}