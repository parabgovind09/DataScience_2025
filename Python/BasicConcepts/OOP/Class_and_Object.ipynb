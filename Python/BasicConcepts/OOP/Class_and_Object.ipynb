{
  "nbformat": 4,
  "nbformat_minor": 0,
  "metadata": {
    "colab": {
      "provenance": []
    },
    "kernelspec": {
      "name": "python3",
      "display_name": "Python 3"
    },
    "language_info": {
      "name": "python"
    }
  },
  "cells": [
    {
      "cell_type": "code",
      "source": [
        "class Dog:\n",
        "    sound = \"bark\"\n",
        "\n",
        "# Create an object from the class\n",
        "dog1 = Dog()\n",
        "\n",
        "# Access the class attribute\n",
        "print(dog1.sound)"
      ],
      "metadata": {
        "colab": {
          "base_uri": "https://localhost:8080/"
        },
        "id": "GEzseEB9Uggh",
        "outputId": "c317203d-699f-4331-ec03-c048b9f85e1f"
      },
      "execution_count": 1,
      "outputs": [
        {
          "output_type": "stream",
          "name": "stdout",
          "text": [
            "bark\n"
          ]
        }
      ]
    },
    {
      "cell_type": "code",
      "source": [
        "class Dog:\n",
        "    def __init__(self, name, age):\n",
        "        self.name = name\n",
        "        self.age = age\n",
        "\n",
        "    def __str__(self):\n",
        "        return f\"{self.name} is {self.age} years old.\"  # Correct: Returning a string\n",
        "\n",
        "dog1 = Dog(\"Buddy\", 3)\n",
        "dog2 = Dog(\"Charlie\", 5)\n",
        "\n",
        "print(dog1)\n",
        "print(dog2)\n"
      ],
      "metadata": {
        "colab": {
          "base_uri": "https://localhost:8080/"
        },
        "id": "1kVVzX1dVTgP",
        "outputId": "78ea678f-7087-43a4-aad1-ee4b578556a1"
      },
      "execution_count": 2,
      "outputs": [
        {
          "output_type": "stream",
          "name": "stdout",
          "text": [
            "Buddy is 3 years old.\n",
            "Charlie is 5 years old.\n"
          ]
        }
      ]
    },
    {
      "cell_type": "code",
      "source": [
        "class Dog:\n",
        "    # Class variable\n",
        "    species = \"Canine\"\n",
        "\n",
        "    def __init__(self, name, age):\n",
        "        # Instance variables\n",
        "        self.name = name\n",
        "        self.age = age\n",
        "\n",
        "# Create objects\n",
        "dog1 = Dog(\"Buddy\", 3)\n",
        "dog2 = Dog(\"Charlie\", 5)\n",
        "\n",
        "# Access class and instance variables\n",
        "print(dog1.species)  # (Class variable)\n",
        "print(dog1.name)     # (Instance variable)\n",
        "print(dog2.name)     # (Instance variable)\n",
        "\n",
        "# Modify instance variables\n",
        "dog1.name = \"Max\"\n",
        "print(dog1.name)     # (Updated instance variable)\n",
        "\n",
        "# Modify class variable\n",
        "Dog.species = \"Feline\"\n",
        "print(dog1.species)  # (Updated class variable)\n",
        "print(dog2.species)\n",
        "\n",
        "# for that instance\n",
        "dog1.species = \"Human\" #explicitly overridden in an object\n",
        "print(dog1.species)\n",
        "print(dog2.species)\n",
        "\n",
        "\n",
        "# Class variables can be accessed via the class name (Dog.species) or an object (dog1.species).\n",
        "# Instance variables are accessed via the object (dog1.name)."
      ],
      "metadata": {
        "colab": {
          "base_uri": "https://localhost:8080/"
        },
        "id": "XagCKrx9V4LK",
        "outputId": "4062ddb0-25f2-4964-fe49-93b3fcb78337"
      },
      "execution_count": 3,
      "outputs": [
        {
          "output_type": "stream",
          "name": "stdout",
          "text": [
            "Canine\n",
            "Buddy\n",
            "Charlie\n",
            "Max\n",
            "Feline\n",
            "Feline\n",
            "Human\n",
            "Feline\n"
          ]
        }
      ]
    },
    {
      "cell_type": "code",
      "source": [
        "# In Python, self is a fundamental concept when working with object-oriented programming (OOP).\n",
        "# It represents the instance of the class being used.\n",
        "# Whenever we create an object from a class, self refers to the current object instance.\n",
        "# It is essential for accessing attributes and methods within the class."
      ],
      "metadata": {
        "id": "Santq6oTaOy8"
      },
      "execution_count": 4,
      "outputs": []
    },
    {
      "cell_type": "code",
      "source": [
        "class Dog:\n",
        "    species = \"Canine\"  # Class attribute\n",
        "\n",
        "    def __init__(self, name, age):\n",
        "        self.name = name  # Instance attribute\n",
        "        self.age = age  # Instance attribute\n",
        "\n",
        "dog1 = Dog(\"Buddy\", 3)  # Create an instance of Dog\n",
        "dog2 = Dog(\"Charlie\", 5)  # Create another instance of Dog\n",
        "\n",
        "print(dog1.name, dog1.age, dog1.species)  # Access instance and class attributes\n",
        "print(dog2.name, dog2.age, dog2.species)  # Access instance and class attributes\n",
        "print(Dog.species)  # Access class attribute directly\n"
      ],
      "metadata": {
        "colab": {
          "base_uri": "https://localhost:8080/"
        },
        "id": "PWmu_WN9Z76r",
        "outputId": "ed1c5a10-1abc-4bdb-87ce-942a867ce608"
      },
      "execution_count": 5,
      "outputs": [
        {
          "output_type": "stream",
          "name": "stdout",
          "text": [
            "Buddy 3 Canine\n",
            "Charlie 5 Canine\n",
            "Canine\n"
          ]
        }
      ]
    },
    {
      "cell_type": "code",
      "execution_count": 6,
      "metadata": {
        "id": "8tczmqsVHl_3"
      },
      "outputs": [],
      "source": [
        "#refer visibility also\n",
        "\n",
        "# 1. What is a Class?\n",
        "\n",
        "# A class in Python is a blueprint or a template for creating objects.\n",
        "# It encapsulates data for the object and methods to manipulate that data.\n",
        "# A class can be thought of as a collection of related variables and functions.\n",
        "# When you define a class, you are defining a new data type.\n",
        "\n",
        "# 2. What is an Object?\n",
        "\n",
        "# An object is an instance of a class.\n",
        "# When a class is defined, no memory is allocated until an object of that class is created.\n",
        "# An object consists of attributes (also known as properties) and methods (functions defined within the class).\n",
        "\n",
        "# The class creates a user-defined data structure, which holds its own data members and member functions, which can be accessed and used by creating an instance of that class.\n",
        "# A class is like a blueprint for an object.\n",
        "\n",
        "# Some points on Python class:\n",
        "\n",
        "# Classes are created by keyword class.\n",
        "# Attributes are the variables that belong to a class.\n",
        "# Attributes are always public and can be accessed using the dot (.) operator. Eg.: My class.Myattribute\n",
        "\n",
        "\n",
        "# Self Parameter\n",
        "# When we call a method of this object as myobject.method(arg1, arg2), this is automatically converted by Python into MyClass.method(myobject, arg1, arg2) – this is all the special self is about.\n",
        "# The Self Parameter does not call it to be Self, You can use any other name instead of it.\n",
        "\n",
        "\n",
        "# __init__() method\n",
        "# The __init__ method is similar to constructors in C++ and Java.\n",
        "# Constructors are used to initializing the object’s state.\n",
        "# Like methods, a constructor also contains a collection of statements(i.e. instructions) that are executed at the time of Object creation.\n",
        "# It runs as soon as an object of a class is instantiated. The method is useful to do any initialization you want to do with your object.\n",
        "\n",
        "\n",
        "# __str__() method\n",
        "# Python has a particular method called __str__(). that is used to define how a class object should be represented as a string.\n",
        "# It is often used to give an object a human-readable textual representation, which is helpful for logging, debugging, or showing users object information.\n",
        "# When a class object is used to create a string using the built-in functions print() and str(), the __str__() function is automatically used.\n",
        "# You can alter how objects of a class are represented in strings by defining the __str__() method."
      ]
    },
    {
      "cell_type": "code",
      "source": [
        "# Instance Variables:\n",
        "# Definition: Instance variables are variables that are defined inside the __init__() method or any other method within the class, but they are always prefixed with self.\n",
        "# Scope: These variables are tied to a specific instance (object) of the class. Each object has its own separate copy of the instance variables.\n",
        "# Usage: Instance variables are used to store data that is unique to each instance of a class.\n",
        "\n",
        "\n",
        "# Class Variables:\n",
        "# Definition: Class variables are variables that are defined directly inside a class, but outside any instance methods. They are shared across all instances of the class.\n",
        "# Scope: These variables are tied to the class itself, not to any specific instance. All instances of the class share the same class variable.\n",
        "# Usage: Class variables are used to store data that should be shared across all instances of a class.\n",
        "\n",
        "\n",
        "\n",
        "# Key Differences:\n",
        "# Scope:\n",
        "\n",
        "# Instance Variables: Each instance of the class has its own separate copy.\n",
        "# Class Variables: Shared across all instances of the class.\n",
        "# Defined:\n",
        "\n",
        "# Instance Variables: Inside methods, using self.\n",
        "# Class Variables: Directly within the class, outside any method.\n",
        "# Lifetime:\n",
        "\n",
        "# Instance Variables: Exist as long as the instance exists.\n",
        "# Class Variables: Exist as long as the class exists."
      ],
      "metadata": {
        "id": "_RGkQZvbNA3A"
      },
      "execution_count": 7,
      "outputs": []
    },
    {
      "cell_type": "code",
      "source": [
        "class Book:\n",
        "\n",
        "    country = \"India\" # class variable\n",
        "\n",
        "    # The init method or constructor\n",
        "    def __init__(self, title, author, pages):\n",
        "        # Instance Variable\n",
        "        self.title = title\n",
        "        self.author = author\n",
        "        self.pages = pages\n",
        "\n",
        "    def __str__(self):\n",
        "        return f\"{self.title} by {self.author}, {self.pages} pages, {Book.country}\"\n",
        "\n",
        "# Creating an instance of the Book class\n",
        "my_book = Book(\"1984\", \"Govind Parab\", 999)\n",
        "\n",
        "# Using print to display the object\n",
        "print(my_book)  # Output: '1984' by George Orwell, 999 pages\n"
      ],
      "metadata": {
        "colab": {
          "base_uri": "https://localhost:8080/"
        },
        "id": "gvpfj-pTHydy",
        "outputId": "e29402ea-51c7-4bdd-fe4f-87fbb79fc797"
      },
      "execution_count": 8,
      "outputs": [
        {
          "output_type": "stream",
          "name": "stdout",
          "text": [
            "1984 by Govind Parab, 999 pages, India\n"
          ]
        }
      ]
    },
    {
      "cell_type": "code",
      "source": [
        "# 1. Instance Methods\n",
        "# Definition:\n",
        "# Instance methods are the most common type of methods.\n",
        "# They operate on the instance of the class (i.e., the object) and can access and modify instance attributes.\n",
        "# They take self as the first parameter, which refers to the object itself.\n",
        "\n",
        "# 2. Class Methods\n",
        "# Definition:\n",
        "# Class methods are methods that operate on the class itself rather than on instances.\n",
        "# They are defined using the @classmethod decorator and take cls as the first parameter, which refers to the class itself.\n",
        "\n",
        "\n",
        "\n",
        "class Person:\n",
        "\n",
        "    salary = 30000000 # class variable\n",
        "\n",
        "    def __init__(self, name, age):\n",
        "        self.name = name\n",
        "        self.age = age\n",
        "\n",
        "    def greet(self):\n",
        "        return f\"Hello, my name is {self.name} and I am {self.age} years old. My Salary is {Person.salary}.\"\n",
        "\n",
        "    @classmethod\n",
        "    def sal(cls):\n",
        "      return cls.salary\n",
        "\n",
        "# Creating an instance of Person\n",
        "person = Person(\"Alice\", 30)\n",
        "\n",
        "# Calling the instance method\n",
        "print(person.greet())  # Output: Hello, my name is Alice and I am 30 years old.\n",
        "\n",
        "# Calling the class method\n",
        "print(Person.sal())\n",
        "Person.salary = 1000000\n",
        "print(Person.sal())"
      ],
      "metadata": {
        "colab": {
          "base_uri": "https://localhost:8080/"
        },
        "id": "8OPUc2J-Lalm",
        "outputId": "7d2aef05-a93e-4d2d-cd24-35b02d34d4c5"
      },
      "execution_count": 9,
      "outputs": [
        {
          "output_type": "stream",
          "name": "stdout",
          "text": [
            "Hello, my name is Alice and I am 30 years old. My Salary is 30000000.\n",
            "30000000\n",
            "1000000\n"
          ]
        }
      ]
    },
    {
      "cell_type": "code",
      "source": [
        "class Car:\n",
        "    # Class variable (shared among all instances)\n",
        "    wheels = 4\n",
        "\n",
        "    def __init__(self, brand, model):\n",
        "        # Instance variables (unique for each object)\n",
        "        self.brand = brand\n",
        "        self.model = model\n",
        "\n",
        "    # Instance method (works with object attributes)\n",
        "    def show_details(self):\n",
        "        return f\"Car: {self.brand} {self.model}, Wheels: {self.wheels}\"\n",
        "\n",
        "    # Class method (works with class variables)\n",
        "    @classmethod\n",
        "    def change_wheels(cls, new_wheel_count):\n",
        "        cls.wheels = new_wheel_count  # Modifies class variable\n",
        "\n",
        "# Creating objects\n",
        "car1 = Car(\"Toyota\", \"Corolla\")\n",
        "car2 = Car(\"Honda\", \"Civic\")\n",
        "\n",
        "print(car1.show_details())  # Output: Car: Toyota Corolla, Wheels: 4\n",
        "print(car2.show_details())  # Output: Car: Honda Civic, Wheels: 4\n",
        "\n",
        "# Changing class variable using class method\n",
        "Car.change_wheels(6)\n",
        "\n",
        "print(car1.show_details())  # Output: Car: Toyota Corolla, Wheels: 6\n",
        "print(car2.show_details())  # Output: Car: Honda Civic, Wheels: 6\n",
        "\n",
        "# Modifying instance variable for only one object\n",
        "car1.brand = \"Ford\"\n",
        "print(car1.show_details())  # Output: Car: Ford Corolla, Wheels: 6\n",
        "print(car2.show_details())  # Output: Car: Honda Civic, Wheels: 6\n"
      ],
      "metadata": {
        "colab": {
          "base_uri": "https://localhost:8080/"
        },
        "id": "w1B3miN_Ktbi",
        "outputId": "0c8412a8-90e7-4acb-c668-4709d2349af8"
      },
      "execution_count": 10,
      "outputs": [
        {
          "output_type": "stream",
          "name": "stdout",
          "text": [
            "Car: Toyota Corolla, Wheels: 4\n",
            "Car: Honda Civic, Wheels: 4\n",
            "Car: Toyota Corolla, Wheels: 6\n",
            "Car: Honda Civic, Wheels: 6\n",
            "Car: Ford Corolla, Wheels: 6\n",
            "Car: Honda Civic, Wheels: 6\n"
          ]
        }
      ]
    },
    {
      "cell_type": "code",
      "source": [
        "# Car.wheels (or cls.wheels in class methods) → Always refers to the class variable.\n",
        "\n",
        "# self.wheels →\n",
        "\n",
        "# If there’s no instance attribute named wheels, it refers to the class variable (Car.wheels).\n",
        "\n",
        "# If an instance variable wheels is created (self.wheels = value), then it overrides the class variable only for that object.\n",
        "\n",
        "class Car:\n",
        "    wheels = 4  # Class variable (shared)\n",
        "\n",
        "    def __init__(self, brand, model):\n",
        "        self.brand = brand\n",
        "        self.model = model\n",
        "\n",
        "    def show_details(self):\n",
        "        return f\"Car: {self.brand} {self.model}, Wheels: {self.wheels}\"  # Using self.wheels\n",
        "\n",
        "# Creating objects\n",
        "car1 = Car(\"Toyota\", \"Corolla\")\n",
        "car2 = Car(\"Honda\", \"Civic\")\n",
        "\n",
        "print(car1.show_details())  # Output: Car: Toyota Corolla, Wheels: 4\n",
        "print(car2.show_details())  # Output: Car: Honda Civic, Wheels: 4\n",
        "\n",
        "# Changing the class variable\n",
        "Car.wheels = 6\n",
        "\n",
        "print(car1.show_details())  # Output: Car: Toyota Corolla, Wheels: 6\n",
        "print(car2.show_details())  # Output: Car: Honda Civic, Wheels: 6\n",
        "\n",
        "# Creating an instance variable that overrides the class variable\n",
        "car1.wheels = 8  # Now car1 has its own 'wheels' variable\n",
        "\n",
        "print(car1.show_details())  # Output: Car: Toyota Corolla, Wheels: 8 (instance variable)\n",
        "print(car2.show_details())  # Output: Car: Honda Civic, Wheels: 6 (class variable)"
      ],
      "metadata": {
        "colab": {
          "base_uri": "https://localhost:8080/"
        },
        "id": "YfNyNrI9LXlt",
        "outputId": "54152607-9f24-4b0b-e447-2839b7c5ad46"
      },
      "execution_count": 11,
      "outputs": [
        {
          "output_type": "stream",
          "name": "stdout",
          "text": [
            "Car: Toyota Corolla, Wheels: 4\n",
            "Car: Honda Civic, Wheels: 4\n",
            "Car: Toyota Corolla, Wheels: 6\n",
            "Car: Honda Civic, Wheels: 6\n",
            "Car: Toyota Corolla, Wheels: 8\n",
            "Car: Honda Civic, Wheels: 6\n"
          ]
        }
      ]
    },
    {
      "cell_type": "code",
      "source": [
        "# In Python, a static method is a method that belongs to a class rather than an instance of the class.\n",
        "# It is defined using the @staticmethod decorator and does not take the self or cls parameters, which are typically used for instance and class methods, respectively.\n",
        "\n",
        "# Key Characteristics of Static Methods:\n",
        "# No self or cls Parameters:\n",
        "\n",
        "# Static methods do not have access to the instance (self) or class (cls) attributes or methods.\n",
        "# They behave like regular functions but are scoped within the class's namespace.\n",
        "# Defined with @staticmethod Decorator:\n",
        "\n",
        "# The @staticmethod decorator is used to define a method as static. This tells Python that the method does not need access to the instance or class.\n",
        "# Usage:\n",
        "\n",
        "# Static methods are used for utility functions or operations that are related to the class but do not need to access or modify class or instance attributes.\n",
        "# They are often used for operations that do not rely on the state of the object or class, such as helper functions."
      ],
      "metadata": {
        "id": "ZvGD_E15RI3r"
      },
      "execution_count": 12,
      "outputs": []
    },
    {
      "cell_type": "code",
      "source": [
        "# Definition:\n",
        "\n",
        "# add and multiply are defined as static methods using the @staticmethod decorator.\n",
        "# They perform basic arithmetic operations but do not rely on the instance or class attributes.\n",
        "# Calling Static Methods:\n",
        "\n",
        "# Static methods are called using the class name (MathOperations.add(5, 3)), not on an instance of the class.\n",
        "# They do not need an instance to be called and do not modify class or instance state.\n",
        "# When to Use Static Methods:\n",
        "# Utility Functions:\n",
        "\n",
        "# Static methods are ideal for functions that perform operations related to the class but do not depend on class or instance state.\n",
        "\n",
        "class MathOperations:\n",
        "    @staticmethod\n",
        "    def add(x, y):\n",
        "        return x + y\n",
        "\n",
        "    @staticmethod\n",
        "    def multiply(x, y):\n",
        "        return x * y\n",
        "\n",
        "# Calling static methods\n",
        "print(MathOperations.add(5, 3))       # Output: 8\n",
        "print(MathOperations.multiply(4, 6))  # Output: 24\n"
      ],
      "metadata": {
        "colab": {
          "base_uri": "https://localhost:8080/"
        },
        "id": "le2BxOwrUM3i",
        "outputId": "ea75dbaf-f9c7-4fa7-bc2f-e798064b0a5a"
      },
      "execution_count": 13,
      "outputs": [
        {
          "output_type": "stream",
          "name": "stdout",
          "text": [
            "8\n",
            "24\n"
          ]
        }
      ]
    },
    {
      "cell_type": "code",
      "source": [
        "# The __add__ method in Python is a special method used to define the behavior of the addition operator (+) for instances of a class.\n",
        "# When you use the + operator between two objects of a class that has defined the __add__ method, Python internally calls this method to perform the addition operation.\n",
        "\n",
        "# The __add__ method allows you to customize how objects of a class are added together.\n",
        "# This is part of Python's support for operator overloading, which lets you define how operators like +, -, *, etc., work with your custom objects.\n",
        "\n",
        "# The __add__ method should be defined within a class and typically looks like this:\n",
        "\n",
        "# def __add__(self, other):\n",
        "#     # Define how to add self and other\n",
        "#     pass\n",
        "\n",
        "# self: Refers to the instance on the left side of the + operator.\n",
        "# other: Refers to the instance or value on the right side of the + operator.\n",
        "\n",
        "class Vector:\n",
        "    def __init__(self, x, y):\n",
        "        self.x = x\n",
        "        self.y = y\n",
        "\n",
        "    def __add__(self, other):\n",
        "        if isinstance(other, Vector):\n",
        "            return Vector(self.x + other.x, self.y + other.y)\n",
        "        return NotImplemented\n",
        "\n",
        "    def __str__(self):\n",
        "        return f\"Vector({self.x}, {self.y})\"\n",
        "\n",
        "# Creating instances of Vector\n",
        "v1 = Vector(2, 3)\n",
        "v2 = Vector(4, 5)\n",
        "\n",
        "# Using the + operator\n",
        "v3 = v1 + v2\n",
        "\n",
        "print(v1)  # Output: Vector(2, 3)\n",
        "print(v2)  # Output: Vector(4, 5)\n",
        "print(v3)  # Output: Vector(6, 8)\n"
      ],
      "metadata": {
        "colab": {
          "base_uri": "https://localhost:8080/"
        },
        "id": "GvUIase8URKu",
        "outputId": "ccfe0c72-4392-447f-933e-1f5149306307"
      },
      "execution_count": 14,
      "outputs": [
        {
          "output_type": "stream",
          "name": "stdout",
          "text": [
            "Vector(2, 3)\n",
            "Vector(4, 5)\n",
            "Vector(6, 8)\n"
          ]
        }
      ]
    }
  ]
}