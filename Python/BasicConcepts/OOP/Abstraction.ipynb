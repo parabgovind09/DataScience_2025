{
  "nbformat": 4,
  "nbformat_minor": 0,
  "metadata": {
    "colab": {
      "provenance": []
    },
    "kernelspec": {
      "name": "python3",
      "display_name": "Python 3"
    },
    "language_info": {
      "name": "python"
    }
  },
  "cells": [
    {
      "cell_type": "code",
      "execution_count": 1,
      "metadata": {
        "id": "GnIE9yCU9cau"
      },
      "outputs": [],
      "source": [
        "# Abstraction means:\n",
        "\n",
        "# Hiding the complex internal implementation and showing only the necessary features to the user.\n",
        "\n",
        "# Think of it like driving a car — you use the steering wheel and pedals without needing to understand the engine mechanics.\n",
        "\n",
        "# In programming, abstraction:\n",
        "\n",
        "# Simplifies code for the user.\n",
        "\n",
        "# Focuses on what an object does, not how it does it."
      ]
    },
    {
      "cell_type": "code",
      "source": [
        "# Python achieves abstraction using:\n",
        "\n",
        "# Abstract Base Classes (ABCs)\n",
        "\n",
        "# Abstract Methods\n",
        "\n",
        "# These are defined using the built-in module: abc (Abstract Base Class).\n",
        "\n",
        "\n",
        "# | Component         | Description                          |\n",
        "# | ----------------- | ------------------------------------ |\n",
        "# | `ABC` class       | Base for defining abstract classes   |\n",
        "# | `@abstractmethod` | Decorator to define abstract methods |\n"
      ],
      "metadata": {
        "id": "bBpVKpcaI0NC"
      },
      "execution_count": 2,
      "outputs": []
    },
    {
      "cell_type": "code",
      "source": [
        "# Abstract Class\n",
        "\n",
        "# An abstract class:\n",
        "\n",
        "# Is defined using the ABC (Abstract Base Class) module.\n",
        "\n",
        "# Can have:\n",
        "\n",
        "# Abstract methods (declared but not implemented).\n",
        "\n",
        "# Concrete (regular) methods (with implementation).\n",
        "\n",
        "# Cannot be instantiated directly.\n",
        "\n",
        "# Must be inherited by a subclass that implements all abstract methods."
      ],
      "metadata": {
        "id": "uTCFab91I02c"
      },
      "execution_count": 3,
      "outputs": []
    },
    {
      "cell_type": "code",
      "source": [
        "from abc import ABC, abstractmethod\n",
        "\n",
        "class Animal(ABC):  # Abstract class\n",
        "    @abstractmethod\n",
        "    def make_sound(self):  # Abstract method\n",
        "        pass\n",
        "\n",
        "class Dog(Animal):\n",
        "    def make_sound(self):\n",
        "        print(\"Bark!\")\n",
        "\n",
        "class Cat(Animal):\n",
        "    def make_sound(self):\n",
        "        print(\"Meow!\")\n",
        "\n",
        "# animal = Animal()  # ❌ TypeError: Can't instantiate abstract class\n",
        "dog = Dog()\n",
        "dog.make_sound()  # Bark!\n",
        "\n",
        "# Abstract classes are incomplete by design. They’re meant to be extended by concrete classes that provide full behavior."
      ],
      "metadata": {
        "colab": {
          "base_uri": "https://localhost:8080/"
        },
        "id": "2po-UO4wLaKq",
        "outputId": "447569b8-6f47-4d38-b4b2-2e5a59a2b5d9"
      },
      "execution_count": 4,
      "outputs": [
        {
          "output_type": "stream",
          "name": "stdout",
          "text": [
            "Bark!\n"
          ]
        }
      ]
    },
    {
      "cell_type": "code",
      "source": [
        "# Abstract Class with Concrete Methods\n",
        "# Abstract classes can have regular methods too.\n",
        "\n",
        "class Vehicle(ABC):\n",
        "    @abstractmethod\n",
        "    def start(self):\n",
        "        pass\n",
        "\n",
        "    def info(self):\n",
        "        print(\"This is a vehicle.\")\n",
        "\n",
        "class Car(Vehicle):\n",
        "    def start(self):\n",
        "        print(\"Car started.\")\n",
        "\n",
        "c = Car()\n",
        "c.start()\n",
        "c.info()"
      ],
      "metadata": {
        "colab": {
          "base_uri": "https://localhost:8080/"
        },
        "id": "oEG7GsDQMrIw",
        "outputId": "57bc82d7-bade-4482-b23f-e9407cf86362"
      },
      "execution_count": 5,
      "outputs": [
        {
          "output_type": "stream",
          "name": "stdout",
          "text": [
            "Car started.\n",
            "This is a vehicle.\n"
          ]
        }
      ]
    },
    {
      "cell_type": "code",
      "source": [
        "# Abstract Methods\n",
        "# Abstract methods are methods that are defined in an abstract class but do not have an implementation.\n",
        "# They serve as a blueprint for the subclasses, ensuring that they provide their own implementation.\n",
        "\n",
        "\n",
        "# Concrete Methods\n",
        "# Concrete methods are methods that have full implementations in an abstract class.\n",
        "# These methods can be inherited by subclasses and used directly without needing to be redefined."
      ],
      "metadata": {
        "id": "56OlJrRSNKjc"
      },
      "execution_count": 6,
      "outputs": []
    },
    {
      "cell_type": "code",
      "source": [
        "# Abstract classes in Python can have a constructor (__init__) just like regular classes.\n",
        "\n",
        "# You can use it to initialize common properties.\n",
        "\n",
        "# You can even mark __init__() as an abstract method if you want to force subclasses to implement their own constructor."
      ],
      "metadata": {
        "id": "T4PeH4N0OPo2"
      },
      "execution_count": 7,
      "outputs": []
    },
    {
      "cell_type": "code",
      "source": [
        "# Basic Example with Concrete __init__ in Abstract Class\n",
        "\n",
        "from abc import ABC, abstractmethod\n",
        "\n",
        "class Animal(ABC):\n",
        "    def __init__(self, name):  # Concrete constructor\n",
        "        self.name = name\n",
        "\n",
        "    @abstractmethod\n",
        "    def make_sound(self):\n",
        "        pass\n",
        "\n",
        "class Dog(Animal):\n",
        "    def make_sound(self):\n",
        "        print(f\"{self.name} says Bark!\")\n",
        "\n",
        "dog = Dog(\"Rocky\")\n",
        "dog.make_sound()"
      ],
      "metadata": {
        "colab": {
          "base_uri": "https://localhost:8080/"
        },
        "id": "PaVDxAZ8OpgP",
        "outputId": "394a8ce1-1ca9-4e6a-b72f-a84142f84a3d"
      },
      "execution_count": 8,
      "outputs": [
        {
          "output_type": "stream",
          "name": "stdout",
          "text": [
            "Rocky says Bark!\n"
          ]
        }
      ]
    },
    {
      "cell_type": "code",
      "source": [
        "# Forcing Subclasses to Implement __init__() (Optional)\n",
        "\n",
        "from abc import ABC, abstractmethod\n",
        "\n",
        "class Vehicle(ABC):\n",
        "    @abstractmethod\n",
        "    def __init__(self, brand):\n",
        "        self.brand = brand\n",
        "\n",
        "class Car(Vehicle):\n",
        "    def __init__(self, brand):\n",
        "        super().__init__(brand)\n",
        "        print(f\"Car brand is {self.brand}\")\n",
        "\n",
        "car = Car(\"Toyota\")"
      ],
      "metadata": {
        "colab": {
          "base_uri": "https://localhost:8080/"
        },
        "id": "nscArS2-Otev",
        "outputId": "14c25858-c458-4bc1-82a5-469f3a3550cc"
      },
      "execution_count": 9,
      "outputs": [
        {
          "output_type": "stream",
          "name": "stdout",
          "text": [
            "Car brand is Toyota\n"
          ]
        }
      ]
    },
    {
      "cell_type": "code",
      "source": [
        "class Animal(ABC):\n",
        "    @abstractmethod\n",
        "    def sound(self):\n",
        "        pass\n",
        "\n",
        "    @abstractmethod\n",
        "    def leg(self):\n",
        "        pass\n",
        "\n",
        "class Dog(Animal):\n",
        "    def sound(self):\n",
        "        print(\"Barks\")\n",
        "\n",
        "class Cat(Dog):\n",
        "    def leg(self):\n",
        "        print(\"4\")\n",
        "    def sound(self):\n",
        "        super().sound()\n",
        "        print(\"Meow\")\n",
        "\n",
        "\n",
        "c= Cat()\n",
        "c.leg()\n",
        "c.sound()\n",
        "\n",
        "print(type(c))"
      ],
      "metadata": {
        "colab": {
          "base_uri": "https://localhost:8080/"
        },
        "id": "vZkhuICUW-yv",
        "outputId": "9ef1b733-6335-4e55-a190-f67a6434cda4"
      },
      "execution_count": 10,
      "outputs": [
        {
          "output_type": "stream",
          "name": "stdout",
          "text": [
            "4\n",
            "Barks\n",
            "Meow\n",
            "<class '__main__.Cat'>\n"
          ]
        }
      ]
    },
    {
      "cell_type": "code",
      "source": [
        "class Animal(ABC):\n",
        "    @abstractmethod\n",
        "    def sound(self):\n",
        "        pass\n",
        "\n",
        "    @abstractmethod\n",
        "    def leg(self):\n",
        "        pass\n",
        "\n",
        "class Dog(Animal):\n",
        "    def sound(self):\n",
        "        print(\"Barks\")\n",
        "\n",
        "class Cat(Dog):\n",
        "    def leg(self):\n",
        "        print(\"4\")\n",
        "\n",
        "\n",
        "c= Cat()\n",
        "c.leg()\n",
        "c.sound()\n",
        "\n",
        "print(type(c))"
      ],
      "metadata": {
        "colab": {
          "base_uri": "https://localhost:8080/"
        },
        "id": "AwtmUTn5esEC",
        "outputId": "7d88ee62-a5fa-40cc-f849-9951da0d1200"
      },
      "execution_count": 11,
      "outputs": [
        {
          "output_type": "stream",
          "name": "stdout",
          "text": [
            "4\n",
            "Barks\n",
            "<class '__main__.Cat'>\n"
          ]
        }
      ]
    },
    {
      "cell_type": "code",
      "source": [
        "class Animal(ABC):\n",
        "    @abstractmethod\n",
        "    def sound(self):\n",
        "        pass\n",
        "\n",
        "    @abstractmethod\n",
        "    def leg(self):\n",
        "        pass\n",
        "\n",
        "class Dog(Animal):\n",
        "    def sound(self):\n",
        "        print(\"Barks\")\n",
        "\n",
        "class Cat(Dog):\n",
        "    def leg(self):\n",
        "        print(\"4\")\n",
        "    def sound(self):\n",
        "        Dog.sound(self)\n",
        "        print(\"Meow\")\n",
        "\n",
        "\n",
        "c= Cat()\n",
        "c.leg()\n",
        "c.sound()\n",
        "\n",
        "print(type(c))"
      ],
      "metadata": {
        "colab": {
          "base_uri": "https://localhost:8080/"
        },
        "id": "BUQpPGqveMi8",
        "outputId": "f1d11bef-b8d5-4f5c-8336-9571bd00d7d6"
      },
      "execution_count": 12,
      "outputs": [
        {
          "output_type": "stream",
          "name": "stdout",
          "text": [
            "4\n",
            "Barks\n",
            "Meow\n",
            "<class '__main__.Cat'>\n"
          ]
        }
      ]
    },
    {
      "cell_type": "code",
      "source": [
        "class Animal(ABC):\n",
        "    @abstractmethod\n",
        "    def sound(self):\n",
        "        pass\n",
        "\n",
        "    @abstractmethod\n",
        "    def leg(self):\n",
        "        pass\n",
        "\n",
        "    @abstractmethod\n",
        "    def color(self):\n",
        "        pass\n",
        "\n",
        "class Dog(Animal):\n",
        "    def sound(self):\n",
        "        print(\"Barks\")\n",
        "\n",
        "class Cat(Dog):\n",
        "    def leg(self):\n",
        "        print(\"4\")\n",
        "    def sound(self):\n",
        "        print(\"meow\")\n",
        "\n",
        "\n",
        "class Bat(Cat):\n",
        "    def color(self):\n",
        "        print(\"black\")\n",
        "    def sound(slef):\n",
        "        super().sound()\n",
        "        print(\"Bat bat\")\n",
        "\n",
        "\n",
        "c= Bat()\n",
        "c.color()\n",
        "c.sound()\n",
        "c.leg()\n",
        "\n",
        "print(type(c))"
      ],
      "metadata": {
        "colab": {
          "base_uri": "https://localhost:8080/"
        },
        "id": "2-wqu1wPf-v6",
        "outputId": "79f6f469-5e96-41d3-d7e4-f5cc949127c3"
      },
      "execution_count": 13,
      "outputs": [
        {
          "output_type": "stream",
          "name": "stdout",
          "text": [
            "black\n",
            "meow\n",
            "Bat bat\n",
            "4\n",
            "<class '__main__.Bat'>\n"
          ]
        }
      ]
    }
  ]
}