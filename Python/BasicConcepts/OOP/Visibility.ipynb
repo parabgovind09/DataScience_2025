{
  "nbformat": 4,
  "nbformat_minor": 0,
  "metadata": {
    "colab": {
      "provenance": []
    },
    "kernelspec": {
      "name": "python3",
      "display_name": "Python 3"
    },
    "language_info": {
      "name": "python"
    }
  },
  "cells": [
    {
      "cell_type": "code",
      "execution_count": 1,
      "metadata": {
        "id": "qYW61lqIy3p1"
      },
      "outputs": [],
      "source": [
        "# Visibility\n",
        "\n",
        "# In Python, visibility generally refers to the scope in which a variable, function, or method can be accessed.\n",
        "# Python doesn’t have formal access modifiers like some other languages (e.g., public, private, protected in Java), but it uses naming conventions to suggest visibility.\n",
        "\n",
        "# No underscores: Public (default visibility, accessible from anywhere).\n",
        "# Single underscore (_): Protected (conventionally for internal use).\n",
        "# Double underscores (__): Private (name mangled to restrict access from outside the class)."
      ]
    },
    {
      "cell_type": "code",
      "source": [
        "# Public: By default, all variables, functions, and methods are public in Python. This means they can be accessed from outside the class or module.\n",
        "class Student:\n",
        "  def details(self,roll,name):\n",
        "    self.roll= roll\n",
        "    self.name = name\n",
        "    print(\"Student ID = \",self.roll)\n",
        "    print(\"Student Name =\",self.name)\n",
        "\n",
        "s1 = Student()\n",
        "s1.details(101,\"Govind\") # Accessible outside the class"
      ],
      "metadata": {
        "colab": {
          "base_uri": "https://localhost:8080/"
        },
        "id": "tkv96h74-J__",
        "outputId": "d9d2d485-0932-4182-c910-3d228e289e98"
      },
      "execution_count": 2,
      "outputs": [
        {
          "output_type": "stream",
          "name": "stdout",
          "text": [
            "Student ID =  101\n",
            "Student Name = Govind\n"
          ]
        }
      ]
    },
    {
      "cell_type": "code",
      "source": [
        "# To make a variable, function, or method private (intended for internal use within a class), you can prefix its name with two underscores (__).\n",
        "# Python \"name mangles\" these names to make them harder to access from outside the class, but it is still possible to access them if needed.\n",
        "\n",
        "class MyClass:\n",
        "    def __init__(self, visibility):\n",
        "        self.__my_visibility = visibility  # Private variable\n",
        "\n",
        "    def __my_private_method(self):# Private method\n",
        "        return \"This is a \"+self.__my_visibility+\" method\"\n",
        "\n",
        "    def access_private_method(self):\n",
        "        return self.__my_private_method()\n",
        "\n",
        "obj = MyClass(\"Private\")\n",
        "print(obj.access_private_method())  # Accessible through a public method\n",
        "\n",
        "# Accessing by mangled name (not recomemded)\n",
        "print(obj._MyClass__my_visibility)# Accessing private members (not recommended):\n",
        "print(obj._MyClass__my_private_method())# Accessing private members (not recommended):\n",
        "\n",
        "# The following line would raise an AttributeError because __my_private_method is private\n",
        "# print(obj.__my_private_method())"
      ],
      "metadata": {
        "colab": {
          "base_uri": "https://localhost:8080/"
        },
        "id": "chp7O_Qp-Z9-",
        "outputId": "5583aef1-e50d-4df1-9e07-6375eadc5eb3"
      },
      "execution_count": 3,
      "outputs": [
        {
          "output_type": "stream",
          "name": "stdout",
          "text": [
            "This is a Private method\n",
            "Private\n",
            "This is a Private method\n"
          ]
        }
      ]
    },
    {
      "cell_type": "code",
      "source": [
        "# Protected members are intended to be accessible within the class and by subclasses, but not by other parts of the program.\n",
        "# Protected members are prefixed with a single underscore (_).\n",
        "# This is more of a convention; Python does not enforce protection.\n",
        "\n",
        "class MyClass:\n",
        "    def __init__(self, value):\n",
        "        self._my_value = value  # Protected variable\n",
        "\n",
        "    def _my_method(self):\n",
        "        return self._my_value  # Protected method\n",
        "\n",
        "class SubClass(MyClass):\n",
        "    def display_value(self):\n",
        "        return self._my_value  # Accessible in subclass\n",
        "\n",
        "    def access_protected_method(self):\n",
        "        return self._my_method()\n",
        "\n",
        "obj = SubClass(10)\n",
        "print(obj.access_protected_method())  # Accessible within the subclass\n",
        "print(obj.display_value()) # Accessible within the subclass\n",
        "\n",
        "\n",
        "# print(obj._my_value)  # Accessible, but not recommended\n",
        "# print(obj._my_method())  # Accessible, but not recommended\n",
        "\n",
        "# Note:- In Python, the use of protected members (prefixed with a single underscore _) is a convention rather than a strict rule.\n",
        "# The convention indicates that these members are intended for internal use within a class and its subclasses, but they are not meant to be accessed directly from outside the class or subclass.\n",
        "# Python does not enforce true protection. _protected_var can still be accessed directly, but it is a convention that you should not modify it directly."
      ],
      "metadata": {
        "colab": {
          "base_uri": "https://localhost:8080/"
        },
        "id": "KZGT3kUnASZ6",
        "outputId": "0f203232-176c-41b9-a561-1a5af231950b"
      },
      "execution_count": 4,
      "outputs": [
        {
          "output_type": "stream",
          "name": "stdout",
          "text": [
            "10\n",
            "10\n"
          ]
        }
      ]
    }
  ]
}