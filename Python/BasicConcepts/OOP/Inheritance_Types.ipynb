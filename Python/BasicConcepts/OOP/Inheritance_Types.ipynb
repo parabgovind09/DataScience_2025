{
  "nbformat": 4,
  "nbformat_minor": 0,
  "metadata": {
    "colab": {
      "provenance": []
    },
    "kernelspec": {
      "name": "python3",
      "display_name": "Python 3"
    },
    "language_info": {
      "name": "python"
    }
  },
  "cells": [
    {
      "cell_type": "code",
      "execution_count": 1,
      "metadata": {
        "id": "l0Lhy41EuPvx"
      },
      "outputs": [],
      "source": [
        "# Inheritance in Python is a fundamental concept in object-oriented programming that allows a class (known as a child or subclass) to inherit attributes and methods from another class (known as a parent or superclass).\n",
        "# This mechanism promotes code reusability and establishes a natural hierarchy between classes."
      ]
    },
    {
      "cell_type": "code",
      "source": [
        "# single\n",
        "# In single inheritance, a derived class inherits from a single base class. This is the simplest form of inheritance.\n",
        "\n",
        "class Parent:\n",
        "    def display(self):\n",
        "        print(\"This is the parent class.\")\n",
        "\n",
        "class Child(Parent):\n",
        "    def show(self):\n",
        "        print(\"This is the child class.\")\n",
        "\n",
        "child = Child()\n",
        "child.display()\n",
        "child.show()"
      ],
      "metadata": {
        "colab": {
          "base_uri": "https://localhost:8080/"
        },
        "id": "HFyhwBwRQ7XF",
        "outputId": "015b9531-9e21-4284-90aa-d42256c3705d"
      },
      "execution_count": 2,
      "outputs": [
        {
          "output_type": "stream",
          "name": "stdout",
          "text": [
            "This is the parent class.\n",
            "This is the child class.\n"
          ]
        }
      ]
    },
    {
      "cell_type": "code",
      "source": [
        "#multilevel\n",
        "# In multilevel inheritance, a derived class inherits from another derived class, creating a chain of inheritance.\n",
        "\n",
        "class Grandparent:\n",
        "    def grandparent_trait(self):\n",
        "        print(\"Grandparent's trait.\")\n",
        "\n",
        "class Parent(Grandparent):\n",
        "    def parent_trait(self):\n",
        "        print(\"Parent's trait.\")\n",
        "\n",
        "class Child(Parent):\n",
        "    def child_trait(self):\n",
        "        print(\"Child's trait.\")\n",
        "\n",
        "child = Child()\n",
        "child.grandparent_trait()\n",
        "child.parent_trait()\n",
        "child.child_trait()\n"
      ],
      "metadata": {
        "colab": {
          "base_uri": "https://localhost:8080/"
        },
        "id": "NVd2TvB5Q7ti",
        "outputId": "6702b1fa-4a4e-4f0d-9231-be9b33fe0c9e"
      },
      "execution_count": 3,
      "outputs": [
        {
          "output_type": "stream",
          "name": "stdout",
          "text": [
            "Grandparent's trait.\n",
            "Parent's trait.\n",
            "Child's trait.\n"
          ]
        }
      ]
    },
    {
      "cell_type": "code",
      "source": [
        "#multiple\n",
        "# In multiple inheritance, a derived class can inherit from more than one base class.\n",
        "# This means the derived class has access to the attributes and methods of multiple parent classes.\n",
        "# The Method Resolution Order (MRO) determines the order in which methods are inherited if there are conflicts.\n",
        "\n",
        "class Father:\n",
        "    def father_trait(self):\n",
        "        print(\"Father's trait.\")\n",
        "\n",
        "class Mother:\n",
        "    def mother_trait(self):\n",
        "        print(\"Mother's trait.\")\n",
        "\n",
        "class Child(Father, Mother):\n",
        "    def child_trait(self):\n",
        "        print(\"Child's trait.\")\n",
        "\n",
        "child = Child()\n",
        "child.father_trait()\n",
        "child.mother_trait()\n",
        "child.child_trait()"
      ],
      "metadata": {
        "colab": {
          "base_uri": "https://localhost:8080/"
        },
        "id": "fptxBoaNRmJr",
        "outputId": "f9619d2a-472c-4e92-a5e2-a7451f0d46f9"
      },
      "execution_count": 4,
      "outputs": [
        {
          "output_type": "stream",
          "name": "stdout",
          "text": [
            "Father's trait.\n",
            "Mother's trait.\n",
            "Child's trait.\n"
          ]
        }
      ]
    },
    {
      "cell_type": "code",
      "source": [
        "# Hierarchical Inheritance\n",
        "# In hierarchical inheritance, multiple derived classes inherit from a single base class.\n",
        "\n",
        "class Parent:\n",
        "    def display(self):\n",
        "        print(\"This is the parent class.\")\n",
        "\n",
        "class Child1(Parent):\n",
        "    def show1(self):\n",
        "        print(\"This is the first child class.\")\n",
        "\n",
        "class Child2(Parent):\n",
        "    def show2(self):\n",
        "        print(\"This is the second child class.\")\n",
        "\n",
        "child1 = Child1()\n",
        "child1.display()\n",
        "child1.show1()\n",
        "\n",
        "child2 = Child2()\n",
        "child2.display()\n",
        "child2.show2()\n"
      ],
      "metadata": {
        "colab": {
          "base_uri": "https://localhost:8080/"
        },
        "id": "elRhHnp2SFw4",
        "outputId": "198eba8a-2d37-416b-bb2a-ff0d9c28df16"
      },
      "execution_count": 5,
      "outputs": [
        {
          "output_type": "stream",
          "name": "stdout",
          "text": [
            "This is the parent class.\n",
            "This is the first child class.\n",
            "This is the parent class.\n",
            "This is the second child class.\n"
          ]
        }
      ]
    },
    {
      "cell_type": "code",
      "source": [
        "# Hybrid Inheritance\n",
        "# Hybrid inheritance is a combination of two or more types of inheritance.\n",
        "# It can involve multiple inheritance, multilevel inheritance, or both, forming a more complex hierarchy.\n",
        "\n",
        "class Base:\n",
        "    def base_method(self):\n",
        "        print(\"Base class method.\")\n",
        "\n",
        "class Derived1(Base):\n",
        "    def derived1_method(self):\n",
        "        print(\"Derived1 class method.\")\n",
        "\n",
        "class Derived2(Base):\n",
        "    def derived2_method(self):\n",
        "        print(\"Derived2 class method.\")\n",
        "\n",
        "class Child(Derived1, Derived2):\n",
        "    def child_method(self):\n",
        "        print(\"Child class method.\")\n",
        "\n",
        "child = Child()\n",
        "child.base_method()\n",
        "child.derived1_method()\n",
        "child.derived2_method()\n",
        "child.child_method()\n"
      ],
      "metadata": {
        "colab": {
          "base_uri": "https://localhost:8080/"
        },
        "id": "3RVnOPH6SWXw",
        "outputId": "ca78e2af-df1f-40b2-f28c-182530aec965"
      },
      "execution_count": 6,
      "outputs": [
        {
          "output_type": "stream",
          "name": "stdout",
          "text": [
            "Base class method.\n",
            "Derived1 class method.\n",
            "Derived2 class method.\n",
            "Child class method.\n"
          ]
        }
      ]
    },
    {
      "cell_type": "code",
      "source": [
        "# In cases where a class inherits from multiple base classes (like in multiple or hybrid inheritance).\n",
        "# Python uses a specific method resolution order (MRO) to determine which method to call when there are conflicts.\n",
        "# Python follows the C3 linearization algorithm to handle this.\n",
        "# inspect the MRO of a class using the __mro__ attribute or the mro() method.\n",
        "\n",
        "\n",
        "class A:\n",
        "    def method(self):\n",
        "        print(\"Method from class A\")\n",
        "\n",
        "class B(A):\n",
        "    def method(self):\n",
        "        print(\"Method from class B\")\n",
        "\n",
        "class C(A):\n",
        "    def method(self):\n",
        "        print(\"Method from class C\")\n",
        "\n",
        "class D(B, C):\n",
        "    pass\n",
        "\n",
        "d = D()\n",
        "d.method()\n",
        "print(D.__mro__)\n"
      ],
      "metadata": {
        "colab": {
          "base_uri": "https://localhost:8080/"
        },
        "id": "HsR_T_8BTqqQ",
        "outputId": "09516e46-86d9-4f76-a67c-5f42529f6feb"
      },
      "execution_count": 7,
      "outputs": [
        {
          "output_type": "stream",
          "name": "stdout",
          "text": [
            "Method from class B\n",
            "(<class '__main__.D'>, <class '__main__.B'>, <class '__main__.C'>, <class '__main__.A'>, <class 'object'>)\n"
          ]
        }
      ]
    }
  ]
}