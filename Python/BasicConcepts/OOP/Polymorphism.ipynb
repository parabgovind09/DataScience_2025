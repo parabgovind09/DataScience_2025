{
  "nbformat": 4,
  "nbformat_minor": 0,
  "metadata": {
    "colab": {
      "provenance": []
    },
    "kernelspec": {
      "name": "python3",
      "display_name": "Python 3"
    },
    "language_info": {
      "name": "python"
    }
  },
  "cells": [
    {
      "cell_type": "code",
      "execution_count": 1,
      "metadata": {
        "id": "Y9YCnLJBmF7h"
      },
      "outputs": [],
      "source": [
        "# The word polymorphism means having many forms.\n",
        "# In programming, polymorphism means the same function name (but different signatures) being used for different types.\n",
        "# The key difference is the data types and number of arguments used in function."
      ]
    },
    {
      "cell_type": "code",
      "source": [
        "# inbuilt polymorphic functions:\n",
        "tuple1 = (1,2,3)\n",
        "list1 = [12,3,45,6,78,9]\n",
        "print(len(tuple1),len(list1))"
      ],
      "metadata": {
        "colab": {
          "base_uri": "https://localhost:8080/"
        },
        "id": "e_ahukTfnS8W",
        "outputId": "07a4984f-d68d-44e9-86aa-5fcc6641e314"
      },
      "execution_count": 2,
      "outputs": [
        {
          "output_type": "stream",
          "name": "stdout",
          "text": [
            "3 6\n"
          ]
        }
      ]
    },
    {
      "cell_type": "code",
      "source": [
        "# user-defined polymorphic functions:\n",
        "def add(a,b,c=5):\n",
        "  return a+b+c\n",
        "\n",
        "print(add(5,6))\n",
        "print(add(5,6,45))"
      ],
      "metadata": {
        "colab": {
          "base_uri": "https://localhost:8080/"
        },
        "id": "_VNt2fPnn7Cx",
        "outputId": "52c02927-704d-446a-e354-40e7929d87d5"
      },
      "execution_count": 3,
      "outputs": [
        {
          "output_type": "stream",
          "name": "stdout",
          "text": [
            "16\n",
            "56\n"
          ]
        }
      ]
    },
    {
      "cell_type": "code",
      "source": [
        "# Polymorphism with class methods:\n",
        "\n",
        "\n",
        "class India():\n",
        "    def capital(self):\n",
        "        print(\"New Delhi is the capital of India.\")\n",
        "\n",
        "    def language(self):\n",
        "        print(\"Hindi is the most widely spoken language of India.\")\n",
        "\n",
        "    def type(self):\n",
        "        print(\"India is a developing country.\")\n",
        "\n",
        "class USA():\n",
        "    def capital(self):\n",
        "        print(\"Washington, D.C. is the capital of USA.\")\n",
        "\n",
        "    def language(self):\n",
        "        print(\"English is the primary language of USA.\")\n",
        "\n",
        "    def type(self):\n",
        "        print(\"USA is a developed country.\")\n",
        "\n",
        "# Polymorphism with a Function and objects:\n",
        "# def func(obj):\n",
        "#     obj.capital()\n",
        "#     obj.language()\n",
        "#     obj.type()\n",
        "\n",
        "obj_ind = India()\n",
        "obj_usa = USA()\n",
        "\n",
        "# func(obj_ind)\n",
        "# func(obj_usa)\n",
        "\n",
        "for i in (obj_ind,obj_usa):\n",
        "  i.capital()\n",
        "  i.language()\n",
        "  i.type()"
      ],
      "metadata": {
        "colab": {
          "base_uri": "https://localhost:8080/"
        },
        "id": "FRZQdE5QocSD",
        "outputId": "043c8e78-8f6e-4c41-888f-f70500e287ef"
      },
      "execution_count": 4,
      "outputs": [
        {
          "output_type": "stream",
          "name": "stdout",
          "text": [
            "New Delhi is the capital of India.\n",
            "Hindi is the most widely spoken language of India.\n",
            "India is a developing country.\n",
            "Washington, D.C. is the capital of USA.\n",
            "English is the primary language of USA.\n",
            "USA is a developed country.\n"
          ]
        }
      ]
    },
    {
      "cell_type": "code",
      "source": [
        "# Polymorphism with Inheritance:\n",
        "\n",
        "# In Python, Polymorphism lets us define methods in the child class that have the same name as the methods in the parent class.\n",
        "# In inheritance, the child class inherits the methods from the parent class.\n",
        "# However, it is possible to modify a method in a child class that it has inherited from the parent class.\n",
        "# This is particularly useful in cases where the method inherited from the parent class doesn’t quite fit the child class.\n",
        "# In such cases, we re-implement the method in the child class.\n",
        "# This process of re-implementing a method in the child class is known as Method Overriding.\n",
        "\n",
        "# Method Overriding\n",
        "# Method overriding is a way to provide a specific implementation of a method in a subclass that already exists in its superclass.\n",
        "# The subclass method overrides the superclass method.\n",
        "\n",
        "class Animal:\n",
        "    def speak(self):\n",
        "        return \"Some sound\"\n",
        "\n",
        "class Dog(Animal):\n",
        "    def speak(self):\n",
        "        return \"Woof!\"\n",
        "\n",
        "class Cat(Animal):\n",
        "    def speak(self):\n",
        "        return \"Meow!\"\n",
        "\n",
        "\n",
        "for animal in (Dog(), Cat()):\n",
        "    print(animal.speak())"
      ],
      "metadata": {
        "colab": {
          "base_uri": "https://localhost:8080/"
        },
        "id": "b7UbE1L0sCHu",
        "outputId": "2860a130-bb3d-4b47-b881-d8b67940455f"
      },
      "execution_count": 5,
      "outputs": [
        {
          "output_type": "stream",
          "name": "stdout",
          "text": [
            "Woof!\n",
            "Meow!\n"
          ]
        }
      ]
    },
    {
      "cell_type": "code",
      "source": [
        "# Duck Typing\n",
        "# Python follows a principle known as \"duck typing,\" which is based on the idea that if an object behaves like a certain type (i.e., it has the methods and properties of that type), it can be treated as that type.\n",
        "# This means that the actual class of the object is less important than the methods and properties it has.\n",
        "\n",
        "# make_animal_speak function works with any object that has a speak method, regardless of whether it's a Dog, Cat, or any other class.\n",
        "\n",
        "class Dog:\n",
        "    def speak(self):\n",
        "        return \"Woof!\"\n",
        "\n",
        "class Cat:\n",
        "    def speak(self):\n",
        "        return \"Meow!\"\n",
        "\n",
        "\n",
        "def make_animal_speak(animal):\n",
        "    print(animal.speak())\n",
        "\n",
        "dog = Dog()\n",
        "cat = Cat()\n",
        "\n",
        "make_animal_speak(dog)\n",
        "make_animal_speak(cat)"
      ],
      "metadata": {
        "colab": {
          "base_uri": "https://localhost:8080/"
        },
        "id": "eo9Zjgw7pr5s",
        "outputId": "f6d2d803-0b7d-4ea7-fa19-2d83b62c914a"
      },
      "execution_count": 6,
      "outputs": [
        {
          "output_type": "stream",
          "name": "stdout",
          "text": [
            "Woof!\n",
            "Meow!\n"
          ]
        }
      ]
    }
  ]
}