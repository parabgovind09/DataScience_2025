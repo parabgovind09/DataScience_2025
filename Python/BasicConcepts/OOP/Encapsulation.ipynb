{
  "nbformat": 4,
  "nbformat_minor": 0,
  "metadata": {
    "colab": {
      "provenance": []
    },
    "kernelspec": {
      "name": "python3",
      "display_name": "Python 3"
    },
    "language_info": {
      "name": "python"
    }
  },
  "cells": [
    {
      "cell_type": "code",
      "execution_count": 1,
      "metadata": {
        "id": "GQoTvnlA5NEw"
      },
      "outputs": [],
      "source": [
        "# Encapsulation is the bundling of data (variables) and the methods (functions) that operate on that data into a single unit — the class.\n",
        "\n",
        "# It also means restricting direct access to some of an object’s components, which is how data hiding is achieved in Python."
      ]
    },
    {
      "cell_type": "code",
      "source": [
        "# Protect data from direct access\n",
        "\n",
        "# Prevents accidental modification of data.\n",
        "\n",
        "# Allows controlled access via getters and setters."
      ],
      "metadata": {
        "id": "BRoPpDUz5siO"
      },
      "execution_count": 2,
      "outputs": []
    },
    {
      "cell_type": "code",
      "source": [
        "# Encapsulation = grouping variables + methods + data hiding.\n",
        "\n",
        "# Use __variable to make something private.\n",
        "\n",
        "# Control access with getter/setter methods.\n",
        "\n",
        "# Avoid directly changing private data outside the class."
      ],
      "metadata": {
        "id": "sm8fXt_-53Q_"
      },
      "execution_count": 3,
      "outputs": []
    },
    {
      "cell_type": "code",
      "source": [
        "# 🧪 Example: Without Encapsulation\n",
        "# class Employee:\n",
        "#     def __init__(self, name, salary):\n",
        "#         self.name = name\n",
        "#         self.salary = salary  # public\n",
        "\n",
        "# e1 = Employee(\"John\", 5000)\n",
        "# e1.salary = -1000  # No restriction!\n",
        "# print(e1.salary)\n",
        "# Problem: Salary can be directly modified to an invalid value.\n",
        "\n",
        "\n",
        "\n",
        "\n",
        "\n",
        "# ✅ Applying Encapsulation\n",
        "# Step 1: Use Private Variables with a double underscore __\n",
        "# class Employee:\n",
        "#     def __init__(self, name, salary):\n",
        "#         self.name = name\n",
        "#         self.__salary = salary  # private\n",
        "\n",
        "#     def show(self):\n",
        "#         print(f\"Name: {self.name}, Salary: {self.__salary}\")\n",
        "# Step 2: Use Getters and Setters\n",
        "\n",
        "#     def get_salary(self):\n",
        "#         return self.__salary\n",
        "\n",
        "#     def set_salary(self, value):\n",
        "#         if value >= 0:\n",
        "#             self.__salary = value\n",
        "#         else:\n",
        "#             print(\"Invalid salary value\")\n",
        "\n",
        "\n",
        "\n",
        "\n",
        "\n",
        "class Employee:\n",
        "    def __init__(self, name, salary):\n",
        "        self.name = name\n",
        "        self.__salary = salary\n",
        "\n",
        "    def get_salary(self):\n",
        "        return self.__salary\n",
        "\n",
        "    def set_salary(self, value):\n",
        "        if value >= 0:\n",
        "            self.__salary = value\n",
        "        else:\n",
        "            print(\"Invalid salary!\")\n",
        "\n",
        "    def show(self):\n",
        "        print(f\"Name: {self.name}, Salary: {self.__salary}\")\n",
        "\n",
        "e1 = Employee(\"Alice\", 6000)\n",
        "e1.show()\n",
        "e1.set_salary(7000)\n",
        "e1.show()\n",
        "e1.set_salary(-5000)  # Invalid\n",
        "\n",
        "\n",
        "\n",
        "# 👁 Access Modifiers in Python\n",
        "# Modifier\tSyntax\tAccess Level\n",
        "# Public\tself.var\tEverywhere\n",
        "# Protected\tself._var\tWithin class and subclasses\n",
        "# Private\tself.__var\tOnly within class\n",
        "\n",
        "# Python doesn't have true private variables, but it uses name mangling to make variables harder to access.\n",
        "\n",
        "# 🚫 Trying to access private:\n",
        "# print(e1.__salary)  # ❌ Error: AttributeError\n",
        "# print(e1._Employee__salary)  # ✅ Name mangling access (not recommended)"
      ],
      "metadata": {
        "colab": {
          "base_uri": "https://localhost:8080/"
        },
        "id": "FNt9xw7O6nMA",
        "outputId": "186f41c4-0087-4f2e-a3e5-72429af1d760"
      },
      "execution_count": 4,
      "outputs": [
        {
          "output_type": "stream",
          "name": "stdout",
          "text": [
            "Name: Alice, Salary: 6000\n",
            "Name: Alice, Salary: 7000\n",
            "Invalid salary!\n"
          ]
        }
      ]
    }
  ]
}