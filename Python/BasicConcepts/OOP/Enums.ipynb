{
  "nbformat": 4,
  "nbformat_minor": 0,
  "metadata": {
    "colab": {
      "provenance": []
    },
    "kernelspec": {
      "name": "python3",
      "display_name": "Python 3"
    },
    "language_info": {
      "name": "python"
    }
  },
  "cells": [
    {
      "cell_type": "code",
      "source": [
        "#Enums\n",
        "\n",
        "# In Python, enums are defined using the Enum class from the enum module.\n",
        "# Enums help make code cleaner, more readable, and less error-prone by avoiding the use of magic numbers or strings.\"\n",
        "\n",
        "# In Python, the term enumeration refers to the process of assigning fixed constant values to a set of strings so that each string can be identified by the value bound to it.\n",
        "# The Enum class included in enum module (which is a part of Python's standard library) is used as the parent class to define enumeration of a set of identifiers − conventionally written in upper case.\n",
        "\n",
        "from enum import Enum\n",
        "\n",
        "class Status(Enum):\n",
        "  ACTIVE = 1\n",
        "  PENDING = 2\n",
        "  COMPLETED = 3\n",
        "\n",
        "status = Status.ACTIVE\n",
        "\n",
        "print(type(Status))\n",
        "print(status)\n",
        "print(status.name)\n",
        "print(status.value)"
      ],
      "metadata": {
        "colab": {
          "base_uri": "https://localhost:8080/"
        },
        "id": "wLfDvIEr-YIP",
        "outputId": "b087e839-7cc1-47f8-b06e-b78da91d2590"
      },
      "execution_count": 1,
      "outputs": [
        {
          "output_type": "stream",
          "name": "stdout",
          "text": [
            "<class 'enum.EnumType'>\n",
            "Status.ACTIVE\n",
            "ACTIVE\n",
            "1\n"
          ]
        }
      ]
    },
    {
      "cell_type": "code",
      "source": [
        "class subjects(Enum):\n",
        "   ENGLISH = \"E\"\n",
        "   MATHS = \"M\"\n",
        "   GEOGRAPHY = \"G\"\n",
        "   SANSKRIT = \"S\"\n",
        "\n",
        "for sub in subjects:\n",
        "   print (sub.name, sub.value)"
      ],
      "metadata": {
        "colab": {
          "base_uri": "https://localhost:8080/"
        },
        "id": "msj_uObluoJ1",
        "outputId": "3c19cc65-ed0c-43ba-9e7d-9d7f4dced014"
      },
      "execution_count": 2,
      "outputs": [
        {
          "output_type": "stream",
          "name": "stdout",
          "text": [
            "ENGLISH E\n",
            "MATHS M\n",
            "GEOGRAPHY G\n",
            "SANSKRIT S\n"
          ]
        }
      ]
    },
    {
      "cell_type": "code",
      "source": [
        "# An enum class cannot have the same member appearing twice, however, more than one member may be assigned the same value.\n",
        "# To ensure that each member has a unique value bound to it, use the @unique decorator.\n",
        "\n",
        "from enum import Enum, unique\n",
        "\n",
        "@unique\n",
        "class subjects(Enum):\n",
        "   ENGLISH = 1\n",
        "   MATHS = 2\n",
        "   GEOGRAPHY = 3\n",
        "  #  SANSKRIT = 2 # value is not unique"
      ],
      "metadata": {
        "id": "pBPZ-aZ5xCr-"
      },
      "execution_count": 3,
      "outputs": []
    },
    {
      "cell_type": "code",
      "source": [
        "# Access Enum by Name or Value\n",
        "print(subjects['ENGLISH'])\n",
        "print(subjects['ENGLISH'].value)\n",
        "print(subjects(1))\n",
        "print(subjects(1).name)"
      ],
      "metadata": {
        "colab": {
          "base_uri": "https://localhost:8080/"
        },
        "id": "9YZV30qcx8ld",
        "outputId": "d7cfad8e-af5e-4ed8-c9ea-1c2c8ab50e60"
      },
      "execution_count": 4,
      "outputs": [
        {
          "output_type": "stream",
          "name": "stdout",
          "text": [
            "subjects.ENGLISH\n",
            "1\n",
            "subjects.ENGLISH\n",
            "ENGLISH\n"
          ]
        }
      ]
    }
  ]
}