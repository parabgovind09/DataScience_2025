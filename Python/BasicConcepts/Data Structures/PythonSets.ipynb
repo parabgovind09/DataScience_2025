{
  "nbformat": 4,
  "nbformat_minor": 0,
  "metadata": {
    "colab": {
      "provenance": []
    },
    "kernelspec": {
      "name": "python3",
      "display_name": "Python 3"
    },
    "language_info": {
      "name": "python"
    }
  },
  "cells": [
    {
      "cell_type": "code",
      "execution_count": 1,
      "metadata": {
        "id": "agJ76IE3C9Ee"
      },
      "outputs": [],
      "source": [
        "# A Set in Python is used to store a collection of items with the following properties.\n",
        "# A set is an unordered, mutable collection of unique elements in Python.\n",
        "# It is defined using curly braces {} or the set() constructor.\n",
        "# No duplicate elements. If try to insert the same item again, it overwrites previous one.\n",
        "# An unordered collection. When we access all items, they are accessed without any specific order and we cannot access items using indexes as we do in lists.\n",
        "# Internally use hashing that makes set efficient for search, insert and delete operations. It gives a major advantage over a list for problems with these operations.\n",
        "# Mutable, meaning we can add or remove elements after their creation, the individual elements within the set cannot be changed directly."
      ]
    },
    {
      "cell_type": "code",
      "source": [
        "# Creating a set\n",
        "my_set = {1, 2, 3, 4}\n",
        "print(my_set)\n",
        "\n",
        "# Using set() constructor\n",
        "another_set = set([1, 2, 2, 3, 4])\n",
        "print(another_set)"
      ],
      "metadata": {
        "colab": {
          "base_uri": "https://localhost:8080/"
        },
        "id": "FWAqLumYD2cP",
        "outputId": "83995e6f-8e67-4ae6-e1a1-92b79327264a"
      },
      "execution_count": 2,
      "outputs": [
        {
          "output_type": "stream",
          "name": "stdout",
          "text": [
            "{1, 2, 3, 4}\n",
            "{1, 2, 3, 4}\n"
          ]
        }
      ]
    },
    {
      "cell_type": "code",
      "source": [
        "my_set = {1, 2, 3}\n",
        "my_set.add(4)\n",
        "print(my_set)"
      ],
      "metadata": {
        "colab": {
          "base_uri": "https://localhost:8080/"
        },
        "id": "KFxuCtEbEIcg",
        "outputId": "8ab5db89-a896-4661-90d0-2eb01aa51d3d"
      },
      "execution_count": 3,
      "outputs": [
        {
          "output_type": "stream",
          "name": "stdout",
          "text": [
            "{1, 2, 3, 4}\n"
          ]
        }
      ]
    },
    {
      "cell_type": "code",
      "source": [
        "my_set = {1, 2}\n",
        "my_set.update([2, 4, 5])\n",
        "print(my_set)"
      ],
      "metadata": {
        "colab": {
          "base_uri": "https://localhost:8080/"
        },
        "id": "DmW5l8EdEO6d",
        "outputId": "f945b811-be2d-4e87-8618-cc9dc226a2a7"
      },
      "execution_count": 4,
      "outputs": [
        {
          "output_type": "stream",
          "name": "stdout",
          "text": [
            "{1, 2, 4, 5}\n"
          ]
        }
      ]
    },
    {
      "cell_type": "code",
      "source": [
        "# remove(x): Removes x from the set. Raises an error if x is not found.\n",
        "# discard(x): Removes x if present, but does not raise an error if x is missing.\n",
        "my_set = {1, 2, 3}\n",
        "my_set.remove(2)\n",
        "print(my_set)  # Output: {1, 3}\n",
        "my_set.discard(10)  # No error, even though 10 is not in the set"
      ],
      "metadata": {
        "colab": {
          "base_uri": "https://localhost:8080/"
        },
        "id": "olmhKXLfEr2X",
        "outputId": "663756b0-37b1-46d8-d0bf-1814e994e4da"
      },
      "execution_count": 5,
      "outputs": [
        {
          "output_type": "stream",
          "name": "stdout",
          "text": [
            "{1, 3}\n"
          ]
        }
      ]
    },
    {
      "cell_type": "code",
      "source": [
        "# pop(): Removes and returns a random element (since sets are unordered).\n",
        "\n",
        "my_set = {10, 20, 30}\n",
        "removed_item = my_set.pop()\n",
        "print(removed_item)  # Output: Random element from the set\n",
        "print(my_set)"
      ],
      "metadata": {
        "colab": {
          "base_uri": "https://localhost:8080/"
        },
        "id": "A8zou7ixE9ks",
        "outputId": "661827b1-6a65-4f0c-f050-75a2eef63c55"
      },
      "execution_count": 6,
      "outputs": [
        {
          "output_type": "stream",
          "name": "stdout",
          "text": [
            "10\n",
            "{20, 30}\n"
          ]
        }
      ]
    },
    {
      "cell_type": "code",
      "source": [
        "my_set = {1, 2, 3}\n",
        "my_set.clear()\n",
        "print(my_set)  # Output: set()"
      ],
      "metadata": {
        "colab": {
          "base_uri": "https://localhost:8080/"
        },
        "id": "fF1CYEmjFF3n",
        "outputId": "2cebcbc7-f897-4c39-f450-4df2ac4bdda9"
      },
      "execution_count": 7,
      "outputs": [
        {
          "output_type": "stream",
          "name": "stdout",
          "text": [
            "set()\n"
          ]
        }
      ]
    },
    {
      "cell_type": "code",
      "source": [
        "# Union\n",
        "# union(set2): Returns a new set with elements from both sets.\n",
        "a = {1, 2, 3}\n",
        "b = {3, 4, 5}\n",
        "print(a.union(b))\n",
        "print(a)\n",
        "\n",
        "\n",
        "print(a | b)"
      ],
      "metadata": {
        "colab": {
          "base_uri": "https://localhost:8080/"
        },
        "id": "HVVvzG40FIol",
        "outputId": "236f8efd-77db-47c7-ef1a-63f334a42182"
      },
      "execution_count": 8,
      "outputs": [
        {
          "output_type": "stream",
          "name": "stdout",
          "text": [
            "{1, 2, 3, 4, 5}\n",
            "{1, 2, 3}\n",
            "{1, 2, 3, 4, 5}\n"
          ]
        }
      ]
    },
    {
      "cell_type": "code",
      "source": [
        "# Intersection\n",
        "# intersection(set2): Returns a new set with common elements.\n",
        "print(a.intersection(b))  # Output: {3}\n",
        "\n",
        "\n",
        "print(a & b)  # Output: {3}"
      ],
      "metadata": {
        "colab": {
          "base_uri": "https://localhost:8080/"
        },
        "id": "qdUEr0eXFgi3",
        "outputId": "864d7c1b-1d40-4a86-f862-03937707096d"
      },
      "execution_count": 9,
      "outputs": [
        {
          "output_type": "stream",
          "name": "stdout",
          "text": [
            "{3}\n",
            "{3}\n"
          ]
        }
      ]
    },
    {
      "cell_type": "code",
      "source": [
        "print(a.difference(b))  # Output: {1, 2}\n",
        "\n",
        "print(a - b)  # Output: {1, 2}\n"
      ],
      "metadata": {
        "colab": {
          "base_uri": "https://localhost:8080/"
        },
        "id": "u4J3-fTGF1dW",
        "outputId": "588d2bec-22f7-4a79-b74a-c79df58a9c32"
      },
      "execution_count": 10,
      "outputs": [
        {
          "output_type": "stream",
          "name": "stdout",
          "text": [
            "{1, 2}\n",
            "{1, 2}\n"
          ]
        }
      ]
    },
    {
      "cell_type": "code",
      "source": [
        "# Symmetric Difference\n",
        "# symmetric_difference(set2): Returns a set with elements in either set1 or set2, but not both.\n",
        "print(a.symmetric_difference(b))  # Output: {1, 2, 4, 5}\n",
        "\n",
        "print(a ^ b)  # Output: {1, 2, 4, 5}"
      ],
      "metadata": {
        "colab": {
          "base_uri": "https://localhost:8080/"
        },
        "id": "pze89a_CGXec",
        "outputId": "99d5c09a-d3bb-4512-feca-e20ea547e01b"
      },
      "execution_count": 11,
      "outputs": [
        {
          "output_type": "stream",
          "name": "stdout",
          "text": [
            "{1, 2, 4, 5}\n",
            "{1, 2, 4, 5}\n"
          ]
        }
      ]
    },
    {
      "cell_type": "code",
      "source": [
        "x = {1, 2}\n",
        "y = {1, 2, 3, 4}\n",
        "print(x.issubset(y))  # Output: True\n",
        "\n",
        "\n",
        "print(x <= y)  # Output: True"
      ],
      "metadata": {
        "colab": {
          "base_uri": "https://localhost:8080/"
        },
        "id": "eoaVv-DYGjxE",
        "outputId": "55818a44-5f2e-435e-ae73-adc1ce3670e2"
      },
      "execution_count": 12,
      "outputs": [
        {
          "output_type": "stream",
          "name": "stdout",
          "text": [
            "True\n",
            "True\n"
          ]
        }
      ]
    },
    {
      "cell_type": "code",
      "source": [
        "print(y.issuperset(x))  # Output: True\n",
        "\n",
        "\n",
        "print(y >= x)  # Output: True\n"
      ],
      "metadata": {
        "colab": {
          "base_uri": "https://localhost:8080/"
        },
        "id": "f4jly9J0Gq9N",
        "outputId": "9e217611-4311-4552-da3c-db9583c132a2"
      },
      "execution_count": 13,
      "outputs": [
        {
          "output_type": "stream",
          "name": "stdout",
          "text": [
            "True\n",
            "True\n"
          ]
        }
      ]
    },
    {
      "cell_type": "code",
      "source": [
        "# isdisjoint(set2): Returns True if both sets have no common elements.\n",
        "a = {1, 2, 3}\n",
        "b = {4, 5, 6}\n",
        "print(a.isdisjoint(b))  # Output: True"
      ],
      "metadata": {
        "colab": {
          "base_uri": "https://localhost:8080/"
        },
        "id": "zV2tgzKLG2OH",
        "outputId": "ced73997-7c13-4517-f5b9-1059248ae6f5"
      },
      "execution_count": 14,
      "outputs": [
        {
          "output_type": "stream",
          "name": "stdout",
          "text": [
            "True\n"
          ]
        }
      ]
    },
    {
      "cell_type": "code",
      "source": [
        "# Frozen Sets\n",
        "# A frozenset is an immutable set. You can create one using frozenset(iterable).\n",
        "f_set = frozenset([1, 2, 3, 4])\n",
        "print(f_set)  # Output: frozenset({1, 2, 3, 4})\n",
        "# Cannot use methods like add(), remove(), or pop()."
      ],
      "metadata": {
        "colab": {
          "base_uri": "https://localhost:8080/"
        },
        "id": "DFCoegR1G9Gq",
        "outputId": "f69c98a9-58a4-444e-a056-ab00cf536ba4"
      },
      "execution_count": 15,
      "outputs": [
        {
          "output_type": "stream",
          "name": "stdout",
          "text": [
            "frozenset({1, 2, 3, 4})\n"
          ]
        }
      ]
    },
    {
      "cell_type": "code",
      "source": [
        "# ✔ Sets store unique values (duplicates are removed).\n",
        "# ✔ Unordered collection, so indexing and slicing are not possible.\n",
        "# ✔ Supports mathematical operations (union, intersection, difference, etc.).\n",
        "# ✔ Mutable (except for frozenset)."
      ],
      "metadata": {
        "id": "h1KIqu0iHGze"
      },
      "execution_count": 16,
      "outputs": []
    },
    {
      "cell_type": "code",
      "source": [
        "#max\n",
        "print(max(a))\n",
        "#min\n",
        "print(min(a))\n",
        "#sum\n",
        "print(sum(a))\n",
        "#len\n",
        "print(len(a))\n",
        "#is present\n",
        "print(2 in a)\n",
        "#is not present\n",
        "print(2 not in a)"
      ],
      "metadata": {
        "colab": {
          "base_uri": "https://localhost:8080/"
        },
        "id": "Aa4Sw3JcHMe_",
        "outputId": "1908ba8c-23e5-4816-b915-cfccf098194e"
      },
      "execution_count": 17,
      "outputs": [
        {
          "output_type": "stream",
          "name": "stdout",
          "text": [
            "3\n",
            "1\n",
            "6\n",
            "3\n",
            "True\n",
            "False\n"
          ]
        }
      ]
    },
    {
      "cell_type": "code",
      "source": [
        "#comphrehension\n",
        "set1 = set(x for x in range(20) if x%2==0)\n",
        "print(set1)"
      ],
      "metadata": {
        "colab": {
          "base_uri": "https://localhost:8080/"
        },
        "id": "uQ8T4N2WHbOe",
        "outputId": "90a9cc6c-1873-46fb-99da-ae0d34dc5767"
      },
      "execution_count": 18,
      "outputs": [
        {
          "output_type": "stream",
          "name": "stdout",
          "text": [
            "{0, 2, 4, 6, 8, 10, 12, 14, 16, 18}\n"
          ]
        }
      ]
    },
    {
      "cell_type": "code",
      "source": [
        "# Proper Subset (< Operator)\n",
        "# A set A is a proper subset of set B if:\n",
        "# ✔ All elements of A exist in B\n",
        "# ✔ A is NOT equal to B (A must have fewer elements)\n",
        "A = {1, 2, 3}\n",
        "B = {1, 2, 3, 4, 5}\n",
        "\n",
        "print(A < B)  # Output: True (A is a proper subset of B)\n",
        "print(A.issubset(B))  # Output: True (A is a subset of B)\n",
        "\n",
        "\n",
        "# ✅ {1, 2, 3} is fully inside {1, 2, 3, 4, 5}\n",
        "# ✅ A is smaller than B, so it is a proper subset."
      ],
      "metadata": {
        "colab": {
          "base_uri": "https://localhost:8080/"
        },
        "id": "SzVqLtjkH9S8",
        "outputId": "2c0ce444-ccab-4ec9-eb19-bd8fb9ee206b"
      },
      "execution_count": 19,
      "outputs": [
        {
          "output_type": "stream",
          "name": "stdout",
          "text": [
            "True\n",
            "True\n"
          ]
        }
      ]
    },
    {
      "cell_type": "code",
      "source": [
        "# Not a Proper Subset\n",
        "X = {1, 2, 3}\n",
        "Y = {1, 2, 3}\n",
        "\n",
        "print(X < Y)  # Output: False (Because X == Y)\n",
        "print(X.issubset(Y))  # Output: True (X is a subset but not a proper subset)\n",
        "# 🚨 If two sets are equal, they are NOT proper subsets!"
      ],
      "metadata": {
        "colab": {
          "base_uri": "https://localhost:8080/"
        },
        "id": "I4kUEUgrIonn",
        "outputId": "36fb43a0-08f7-4c84-dc42-5230958149b6"
      },
      "execution_count": 20,
      "outputs": [
        {
          "output_type": "stream",
          "name": "stdout",
          "text": [
            "False\n",
            "True\n"
          ]
        }
      ]
    },
    {
      "cell_type": "code",
      "source": [
        "# Proper Superset (> Operator)\n",
        "# A set A is a proper superset of set B if:\n",
        "# ✔ A contains all elements of B\n",
        "# ✔ A is NOT equal to B (A must have extra elements)\n",
        "A = {1, 2, 3, 4, 5}\n",
        "B = {1, 2, 3}\n",
        "\n",
        "print(A > B)  # Output: True (A is a proper superset of B)\n",
        "print(A.issuperset(B))  # Output: True (A is a superset of B)\n",
        "# ✅ {1, 2, 3, 4, 5} contains {1, 2, 3}\n",
        "# ✅ A has extra elements, so it is a proper superset.\n",
        "\n",
        "# Edge Case: Not a Proper Superset\n",
        "X = {1, 2, 3}\n",
        "Y = {1, 2, 3}\n",
        "\n",
        "print(X > Y)  # Output: False (Because X == Y)\n",
        "print(X.issuperset(Y))  # Output: True (X is a superset but not a proper superset)\n",
        "# 🚨 If two sets are equal, they are NOT proper supersets!"
      ],
      "metadata": {
        "colab": {
          "base_uri": "https://localhost:8080/"
        },
        "id": "z-SqfF6nIt3x",
        "outputId": "00ec4b85-f4c0-497a-e374-2ac0b09ec2de"
      },
      "execution_count": 21,
      "outputs": [
        {
          "output_type": "stream",
          "name": "stdout",
          "text": [
            "True\n",
            "True\n",
            "False\n",
            "True\n"
          ]
        }
      ]
    },
    {
      "cell_type": "code",
      "source": [
        "# intersection_update()\n",
        "# Modifies the original set to keep only the common elements.\n",
        "# Does not return a new set; instead, it updates the original set.\n",
        "A = {1, 2, 3, 4}\n",
        "B = {3, 4, 5, 6}\n",
        "\n",
        "A.intersection_update(B)\n",
        "print(A)  # Output: {3, 4}\n",
        "print(B)  # Output: {3, 4, 5, 6} (unchanged)\n",
        "# ✔ A is updated to keep only {3, 4} (elements common in both sets)."
      ],
      "metadata": {
        "colab": {
          "base_uri": "https://localhost:8080/"
        },
        "id": "sxMH8fOdI5XC",
        "outputId": "bd78487b-b295-48f3-c920-bd8b15806ea9"
      },
      "execution_count": 22,
      "outputs": [
        {
          "output_type": "stream",
          "name": "stdout",
          "text": [
            "{3, 4}\n",
            "{3, 4, 5, 6}\n"
          ]
        }
      ]
    },
    {
      "cell_type": "code",
      "source": [
        "# difference_update()\n",
        "# Modifies the original set to remove elements that exist in another set.\n",
        "# Does not return a new set; instead, it updates the original set.\n",
        "A = {1, 2, 3, 4}\n",
        "B = {3, 4, 5, 6}\n",
        "\n",
        "A.difference_update(B)\n",
        "\n",
        "print(A)  # Output: {1, 2}\n",
        "print(B)  # Output: {3, 4, 5, 6} (unchanged)\n",
        "# ✔ A is updated to remove {3, 4} because they exist in B.\n",
        "# ✔ B remains unchanged."
      ],
      "metadata": {
        "colab": {
          "base_uri": "https://localhost:8080/"
        },
        "id": "k_OO5JOlJOoc",
        "outputId": "eec0e1ea-a498-4c73-8a37-dbfa9169b5dc"
      },
      "execution_count": 23,
      "outputs": [
        {
          "output_type": "stream",
          "name": "stdout",
          "text": [
            "{1, 2}\n",
            "{3, 4, 5, 6}\n"
          ]
        }
      ]
    }
  ]
}