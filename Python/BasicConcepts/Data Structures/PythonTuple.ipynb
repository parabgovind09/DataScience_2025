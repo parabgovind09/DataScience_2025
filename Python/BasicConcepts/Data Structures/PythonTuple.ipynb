{
  "nbformat": 4,
  "nbformat_minor": 0,
  "metadata": {
    "colab": {
      "provenance": []
    },
    "kernelspec": {
      "name": "python3",
      "display_name": "Python 3"
    },
    "language_info": {
      "name": "python"
    }
  },
  "cells": [
    {
      "cell_type": "code",
      "execution_count": 1,
      "metadata": {
        "id": "QxXcjWDwpnNr"
      },
      "outputs": [],
      "source": [
        "# A tuple is an immutable, ordered collection of elements in Python.\n",
        "# It can contain duplicates.\n",
        "# Like Lists, tuples are ordered and we can access their elements using their index values\n",
        "# We cannot update items to a tuple once it is created.\n",
        "# Tuples cannot be appended or extended.\n",
        "# We cannot remove items from a tuple once it is created.\n",
        "# It allows storing multiple values in a single variable. Tuples are defined using parentheses ()."
      ]
    },
    {
      "cell_type": "code",
      "source": [
        "# Empty Tuple\n",
        "empty_tuple = ()\n",
        "\n",
        "# Tuple with values\n",
        "sample_tuple = (1, 2, 3, \"Hello\", 4.5)\n",
        "\n",
        "# Single element tuple (comma is necessary)\n",
        "single_element_tuple = (10,)\n",
        "\n",
        "print(type(single_element_tuple))  # Output: <class 'tuple'>\n"
      ],
      "metadata": {
        "colab": {
          "base_uri": "https://localhost:8080/"
        },
        "id": "-1nzuOrtqTjR",
        "outputId": "22ba0a8a-5e18-476b-f522-96acd2170fee"
      },
      "execution_count": 2,
      "outputs": [
        {
          "output_type": "stream",
          "name": "stdout",
          "text": [
            "<class 'tuple'>\n"
          ]
        }
      ]
    },
    {
      "cell_type": "code",
      "source": [
        "# Python tuples have only two built-in methods because they are immutable.\n",
        "t = (1, 2, 3, 2, 5, 2)\n",
        "\n",
        "# Count occurrences of 2\n",
        "print(t.count(2))  # Output: 3\n",
        "\n",
        "# Find the first index of 5\n",
        "print(t.index(5))  # Output: 4"
      ],
      "metadata": {
        "colab": {
          "base_uri": "https://localhost:8080/"
        },
        "id": "DJKrFdAOqZHy",
        "outputId": "143c95ca-dc6c-4860-ee95-eb28bc1e69b9"
      },
      "execution_count": 3,
      "outputs": [
        {
          "output_type": "stream",
          "name": "stdout",
          "text": [
            "3\n",
            "4\n"
          ]
        }
      ]
    },
    {
      "cell_type": "code",
      "source": [
        "# Elements in a tuple can be accessed using indexing and slicing.\n",
        "t = (10, 20, 30, 40)\n",
        "print(t[0])  # Output: 10\n",
        "print(t[-1]) # Output: 40 (Negative indexing)\n",
        "\n",
        "t = (1, 2, 3, 4, 5, 6)\n",
        "print(t[1:4])   # Output: (2, 3, 4)\n",
        "print(t[:3])    # Output: (1, 2, 3)\n",
        "print(t[::2])   # Output: (1, 3, 5)  # Step slicing\n"
      ],
      "metadata": {
        "colab": {
          "base_uri": "https://localhost:8080/"
        },
        "id": "cSi0k_HSqn1q",
        "outputId": "677562a2-4f41-4d7d-da5e-613a3ea50a34"
      },
      "execution_count": 4,
      "outputs": [
        {
          "output_type": "stream",
          "name": "stdout",
          "text": [
            "10\n",
            "40\n",
            "(2, 3, 4)\n",
            "(1, 2, 3)\n",
            "(1, 3, 5)\n"
          ]
        }
      ]
    },
    {
      "cell_type": "code",
      "source": [
        "# To Concatenation of Python Tuples, we will use plus operators(+).\n",
        "t = (\"Govind\",\"Sahil\")\n",
        "t1 = (1,2,3,1)\n",
        "t2 = (2,\"Govind\",1)\n",
        "res = t+t1+t2\n",
        "print(res)"
      ],
      "metadata": {
        "colab": {
          "base_uri": "https://localhost:8080/"
        },
        "id": "eWDf9AJWrzkL",
        "outputId": "28b2c0ef-3861-41ff-8636-836f3be09e12"
      },
      "execution_count": 5,
      "outputs": [
        {
          "output_type": "stream",
          "name": "stdout",
          "text": [
            "('Govind', 'Sahil', 1, 2, 3, 1, 2, 'Govind', 1)\n"
          ]
        }
      ]
    },
    {
      "cell_type": "code",
      "source": [
        "# iterating using for\n",
        "t = (\"Kite\",\"Flying\",12,31)\n",
        "for i in t:\n",
        "  print(i, end = \" \")"
      ],
      "metadata": {
        "colab": {
          "base_uri": "https://localhost:8080/"
        },
        "id": "yB3p-EYAsV1c",
        "outputId": "5115577b-2e48-456e-a5c2-7bc7efd9d9ff"
      },
      "execution_count": 6,
      "outputs": [
        {
          "output_type": "stream",
          "name": "stdout",
          "text": [
            "Kite Flying 12 31 "
          ]
        }
      ]
    },
    {
      "cell_type": "code",
      "source": [
        "# Code for creating nested tuples\n",
        "t1 = (0, 1, 2, 3)\n",
        "t2 = ('python', 'geek')\n",
        "\n",
        "t3 = (t1, t2)\n",
        "print(t3)\n"
      ],
      "metadata": {
        "colab": {
          "base_uri": "https://localhost:8080/"
        },
        "id": "oxiJMDJbscku",
        "outputId": "4b06090c-7fbd-4def-cf2a-99e49f631f71"
      },
      "execution_count": 7,
      "outputs": [
        {
          "output_type": "stream",
          "name": "stdout",
          "text": [
            "((0, 1, 2, 3), ('python', 'geek'))\n"
          ]
        }
      ]
    },
    {
      "cell_type": "code",
      "source": [
        "# Code to create a tuple with repetition\n",
        "t = ('python',)*3\n",
        "print(t)\n",
        "t = (1, 2)\n",
        "print(t * 3)  # Output: (1, 2, 1, 2, 1, 2)"
      ],
      "metadata": {
        "colab": {
          "base_uri": "https://localhost:8080/"
        },
        "id": "zg9nguPduN-7",
        "outputId": "6766df95-9b60-44e2-bc99-ea82ebb871f0"
      },
      "execution_count": 8,
      "outputs": [
        {
          "output_type": "stream",
          "name": "stdout",
          "text": [
            "('python', 'python', 'python')\n",
            "(1, 2, 1, 2, 1, 2)\n"
          ]
        }
      ]
    },
    {
      "cell_type": "code",
      "source": [
        "#basic reversing\n",
        "print(t[::-1])"
      ],
      "metadata": {
        "colab": {
          "base_uri": "https://localhost:8080/"
        },
        "id": "6v0dODA_uVmA",
        "outputId": "dedd2476-afba-4210-b4c8-45d11518e586"
      },
      "execution_count": 9,
      "outputs": [
        {
          "output_type": "stream",
          "name": "stdout",
          "text": [
            "(2, 1)\n"
          ]
        }
      ]
    },
    {
      "cell_type": "code",
      "source": [
        "#deleting a tuple\n",
        "del t\n",
        "# print(t)"
      ],
      "metadata": {
        "id": "3CQT5C6UukJy"
      },
      "execution_count": 10,
      "outputs": []
    },
    {
      "cell_type": "code",
      "source": [
        "# len of tuple\n",
        "print(len(t1))"
      ],
      "metadata": {
        "colab": {
          "base_uri": "https://localhost:8080/"
        },
        "id": "HM6caiz5usjE",
        "outputId": "5c6f0a59-39b9-4690-d762-e171b729e4a7"
      },
      "execution_count": 11,
      "outputs": [
        {
          "output_type": "stream",
          "name": "stdout",
          "text": [
            "4\n"
          ]
        }
      ]
    },
    {
      "cell_type": "code",
      "source": [
        "# tuple with different datatypes\n",
        "t = (\"immutable\", True, 23)\n",
        "print(t)"
      ],
      "metadata": {
        "colab": {
          "base_uri": "https://localhost:8080/"
        },
        "id": "S0QPKU96u4EC",
        "outputId": "08ff3048-31ea-4b5f-ee23-16150a03f0e4"
      },
      "execution_count": 12,
      "outputs": [
        {
          "output_type": "stream",
          "name": "stdout",
          "text": [
            "('immutable', True, 23)\n"
          ]
        }
      ]
    },
    {
      "cell_type": "code",
      "source": [
        "# Code for converting a list  into a tuple\n",
        "a = [0, 1, 2]\n",
        "t = tuple(a)\n",
        "\n",
        "print(t)\n"
      ],
      "metadata": {
        "colab": {
          "base_uri": "https://localhost:8080/"
        },
        "id": "CYh0l7ZKu9av",
        "outputId": "8ac7e0ac-c1e3-478e-8b59-4eadf1129a81"
      },
      "execution_count": 13,
      "outputs": [
        {
          "output_type": "stream",
          "name": "stdout",
          "text": [
            "(0, 1, 2)\n"
          ]
        }
      ]
    },
    {
      "cell_type": "code",
      "source": [
        "# Creating a tuple without brackets\n",
        "t = 4, 5, 6\n",
        "print(t)  # Output: (4, 5, 6)"
      ],
      "metadata": {
        "colab": {
          "base_uri": "https://localhost:8080/"
        },
        "id": "Zz18Jg1evAtm",
        "outputId": "9d3c5676-e7ab-4ac7-b797-5682cbeb1760"
      },
      "execution_count": 14,
      "outputs": [
        {
          "output_type": "stream",
          "name": "stdout",
          "text": [
            "(4, 5, 6)\n"
          ]
        }
      ]
    },
    {
      "cell_type": "code",
      "source": [
        "# Tuple packing\n",
        "a, b, c = 11, 12, 13\n",
        "t = (a, b, c)\n",
        "print(t)  # Output: (11, 12, 13)\n"
      ],
      "metadata": {
        "colab": {
          "base_uri": "https://localhost:8080/"
        },
        "id": "Uo4gpwnIwbYb",
        "outputId": "3a076ad8-1d22-4c5d-ebb7-fad92310a6c3"
      },
      "execution_count": 15,
      "outputs": [
        {
          "output_type": "stream",
          "name": "stdout",
          "text": [
            "(11, 12, 13)\n"
          ]
        }
      ]
    },
    {
      "cell_type": "code",
      "source": [
        "# Tuple Unpacking\n",
        "t = (10, 20, 30)\n",
        "a, b, c = t\n",
        "\n",
        "print(a)  # Output: 10\n",
        "print(b)  # Output: 20\n",
        "print(c)  # Output: 30"
      ],
      "metadata": {
        "colab": {
          "base_uri": "https://localhost:8080/"
        },
        "id": "YN1RpvDewbsa",
        "outputId": "c68da3f5-1fe9-4784-947d-6462c90dffe2"
      },
      "execution_count": 16,
      "outputs": [
        {
          "output_type": "stream",
          "name": "stdout",
          "text": [
            "10\n",
            "20\n",
            "30\n"
          ]
        }
      ]
    },
    {
      "cell_type": "code",
      "source": [
        "# Tuple operations are faster than list operations.\n",
        "\n",
        "# Tuples consume less memory than lists."
      ],
      "metadata": {
        "id": "Wb73Exv0whrL"
      },
      "execution_count": 17,
      "outputs": []
    },
    {
      "cell_type": "code",
      "source": [
        "# Tuple Comprehension (Using Generators)\n",
        "# Unlike lists, tuples do not support comprehension. However, we can use a generator expression to create a tuple dynamically.\n",
        "\n",
        "# Generator Expression inside tuple()\n",
        "t = tuple(x**2 for x in range(5))\n",
        "print(t)  # Output: (0, 1, 4, 9, 16)\n",
        "# Since tuples are immutable, Python does not allow modifying elements directly. Instead, we use tuple reconstruction."
      ],
      "metadata": {
        "colab": {
          "base_uri": "https://localhost:8080/"
        },
        "id": "xfTPuzkAxBWx",
        "outputId": "b690a5e9-c047-4598-9f39-30b4f93eb977"
      },
      "execution_count": 18,
      "outputs": [
        {
          "output_type": "stream",
          "name": "stdout",
          "text": [
            "(0, 1, 4, 9, 16)\n"
          ]
        }
      ]
    },
    {
      "cell_type": "code",
      "source": [
        "nested_tuple = ((1, 2, 3), (4, 5, 6), (7, 8, 9))\n",
        "print(nested_tuple[1])    # Output: (4, 5, 6)\n",
        "print(nested_tuple[1][2]) # Output: 6\n"
      ],
      "metadata": {
        "colab": {
          "base_uri": "https://localhost:8080/"
        },
        "id": "ynwDhfP7xcp6",
        "outputId": "2433ea43-b8a6-4801-b1d4-703d50533630"
      },
      "execution_count": 19,
      "outputs": [
        {
          "output_type": "stream",
          "name": "stdout",
          "text": [
            "(4, 5, 6)\n",
            "6\n"
          ]
        }
      ]
    },
    {
      "cell_type": "code",
      "source": [
        "# Unpacking a Tuple with * (Variable-Length Argument)\n",
        "a, *b, c = (10, 20, 30, 40, 50)\n",
        "print(a)  # Output: 10\n",
        "print(b)  # Output: [20, 30, 40] (List)\n",
        "print(c)  # Output: 50"
      ],
      "metadata": {
        "colab": {
          "base_uri": "https://localhost:8080/"
        },
        "id": "1j_kX5Bzx6bB",
        "outputId": "38f5c59f-7568-4a86-ce85-afdef018a425"
      },
      "execution_count": 20,
      "outputs": [
        {
          "output_type": "stream",
          "name": "stdout",
          "text": [
            "10\n",
            "[20, 30, 40]\n",
            "50\n"
          ]
        }
      ]
    },
    {
      "cell_type": "code",
      "source": [
        "tup1 = (1,2,[3,4,5,6])\n",
        "print(tup1)\n",
        "tup1[2][0]=33\n",
        "print(tup1)"
      ],
      "metadata": {
        "colab": {
          "base_uri": "https://localhost:8080/"
        },
        "id": "rmMm0wYK3LUX",
        "outputId": "e7bb98f7-9428-4ccc-bb4f-7b754b93e0c1"
      },
      "execution_count": 21,
      "outputs": [
        {
          "output_type": "stream",
          "name": "stdout",
          "text": [
            "(1, 2, [3, 4, 5, 6])\n",
            "(1, 2, [33, 4, 5, 6])\n"
          ]
        }
      ]
    }
  ]
}