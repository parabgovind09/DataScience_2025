{
  "nbformat": 4,
  "nbformat_minor": 0,
  "metadata": {
    "colab": {
      "provenance": []
    },
    "kernelspec": {
      "name": "python3",
      "display_name": "Python 3"
    },
    "language_info": {
      "name": "python"
    }
  },
  "cells": [
    {
      "cell_type": "code",
      "execution_count": 1,
      "metadata": {
        "id": "odWTEc3YyhlO"
      },
      "outputs": [],
      "source": [
        "# A Python dictionary is a data structure that stores the value in key: value pairs.\n",
        "# Values in a dictionary can be of any data type and can be duplicated, whereas keys can’t be repeated and must be immutable.\n",
        "\n",
        "# A dictionary is an unordered, mutable collection that stores data in key-value pairs.\n",
        "# It is defined using {} (curly brackets) and has keys that must be unique and immutable (e.g., strings, numbers, or tuples), while values can be of any data type.\n",
        "\n",
        "# Python 3.6 and earlier: Unordered (implementation-dependent).\n",
        "# From Python 3.7 Version onward, Python dictionary are Ordered.\n",
        "# Dictionary keys are case sensitive: the same name but different cases of Key will be treated distinctly.\n",
        "# Keys must be immutable: This means keys can be strings, numbers, or tuples but not lists.\n",
        "# Keys must be unique: Duplicate keys are not allowed and any duplicate key will overwrite the previous value.\n",
        "# Dictionary internally uses Hashing. Hence, operations like search, insert, delete can be performed in Constant Time."
      ]
    },
    {
      "cell_type": "code",
      "source": [
        "# Creating a dictionary\n",
        "student = {\n",
        "    \"name\": \"Alice\",\n",
        "    \"age\": 22,\n",
        "    \"grade\": \"A\",\n",
        "    \"subjects\": [\"Math\", \"Science\", \"English\"]\n",
        "}\n",
        "\n",
        "print(student)"
      ],
      "metadata": {
        "colab": {
          "base_uri": "https://localhost:8080/"
        },
        "id": "MKdVL4lf1jMH",
        "outputId": "816cf803-9b96-435b-d710-95326505f50d"
      },
      "execution_count": 2,
      "outputs": [
        {
          "output_type": "stream",
          "name": "stdout",
          "text": [
            "{'name': 'Alice', 'age': 22, 'grade': 'A', 'subjects': ['Math', 'Science', 'English']}\n"
          ]
        }
      ]
    },
    {
      "cell_type": "code",
      "source": [
        "# create dictionary using { }\n",
        "d1 = {1: 'Geeks', 2: 'For', 3: 'Geeks'}\n",
        "print(d1)\n",
        "\n",
        "# create dictionary using dict() constructor\n",
        "d2 = dict(a = \"Geeks\", b = \"for\", c = \"Geeks\")\n",
        "print(d2)"
      ],
      "metadata": {
        "colab": {
          "base_uri": "https://localhost:8080/"
        },
        "id": "EQrnzFtF14Ne",
        "outputId": "a5f83f36-b10b-4e7d-a3b0-b5f708932949"
      },
      "execution_count": 3,
      "outputs": [
        {
          "output_type": "stream",
          "name": "stdout",
          "text": [
            "{1: 'Geeks', 2: 'For', 3: 'Geeks'}\n",
            "{'a': 'Geeks', 'b': 'for', 'c': 'Geeks'}\n"
          ]
        }
      ]
    },
    {
      "cell_type": "code",
      "source": [
        "student = {\"name\": \"Alice\", \"age\": 22, \"grade\": \"A\"}\n",
        "\n",
        "# Accessing using square brackets []\n",
        "print(student[\"name\"])  # Output: Alice\n",
        "\n",
        "# Accessing using get() method (preferred to avoid errors)\n",
        "print(student.get(\"age\"))  # Output: 22\n",
        "print(student.get(\"city\", \"Not Found\"))  # Output: Not Found (default value)"
      ],
      "metadata": {
        "id": "J9N-nOCq2hTj",
        "colab": {
          "base_uri": "https://localhost:8080/"
        },
        "outputId": "7d4672ac-7312-402d-d31b-9cc6df54ccb9"
      },
      "execution_count": 4,
      "outputs": [
        {
          "output_type": "stream",
          "name": "stdout",
          "text": [
            "Alice\n",
            "22\n",
            "Not Found\n"
          ]
        }
      ]
    },
    {
      "cell_type": "code",
      "source": [
        "# Get Key from Value in a Dictionary\n",
        "# This returns a list because multiple keys may have the same value.\n",
        "s = {1:\"Govind\",2:\"Sahil\",3:\"Sanchit\",4:\"Minal\",5:\"Sahil\"}\n",
        "\n",
        "keys = [k for k, v in s.items() if v == \"Sahil\"]\n",
        "print(keys)\n",
        "\n",
        "#search for first value key\n",
        "for key, val in s.items():\n",
        "    if val == \"Sahil\":\n",
        "        print(key)\n",
        "        break  # Stop after finding the first match"
      ],
      "metadata": {
        "colab": {
          "base_uri": "https://localhost:8080/"
        },
        "id": "4mqjN-FFHU2L",
        "outputId": "a3e83824-f173-498c-b60b-da5d94af2549"
      },
      "execution_count": 5,
      "outputs": [
        {
          "output_type": "stream",
          "name": "stdout",
          "text": [
            "[2, 5]\n",
            "2\n"
          ]
        }
      ]
    },
    {
      "cell_type": "code",
      "source": [
        "# Creating a dictionary\n",
        "student = {\"name\": \"Alice\", \"age\": 22}\n",
        "\n",
        "# Adding a new key-value pair\n",
        "student[\"grade\"] = \"A\"\n",
        "\n",
        "# Updating an existing key\n",
        "student[\"age\"] = 23\n",
        "\n",
        "print(student)\n"
      ],
      "metadata": {
        "colab": {
          "base_uri": "https://localhost:8080/"
        },
        "id": "Nn1GR06EIeRf",
        "outputId": "2345c808-0510-4bc1-e9e0-a0564c568f46"
      },
      "execution_count": 6,
      "outputs": [
        {
          "output_type": "stream",
          "name": "stdout",
          "text": [
            "{'name': 'Alice', 'age': 23, 'grade': 'A'}\n"
          ]
        }
      ]
    },
    {
      "cell_type": "code",
      "source": [
        "# The update() method is used to update multiple key-value pairs at once.\n",
        "student.update({\"city\": \"New York\", \"age\": 24})\n",
        "print(student)"
      ],
      "metadata": {
        "colab": {
          "base_uri": "https://localhost:8080/"
        },
        "id": "IEjmeCIkLvmf",
        "outputId": "74f2accc-90b8-4419-def1-aed6ecec28f0"
      },
      "execution_count": 7,
      "outputs": [
        {
          "output_type": "stream",
          "name": "stdout",
          "text": [
            "{'name': 'Alice', 'age': 24, 'grade': 'A', 'city': 'New York'}\n"
          ]
        }
      ]
    },
    {
      "cell_type": "code",
      "source": [
        "# Using pop(key) – Removes a specific key and returns its value\n",
        "student = {\"name\": \"Alice\", \"age\": 22, \"grade\": \"A\"}\n",
        "print(student.pop(\"age\"))\n",
        "print(student)  # {'name': 'Alice', 'grade': 'A'}"
      ],
      "metadata": {
        "colab": {
          "base_uri": "https://localhost:8080/"
        },
        "id": "YkEHr6BQNvCf",
        "outputId": "c7f16e86-1bb5-467b-f7c4-f873bf7485e9"
      },
      "execution_count": 8,
      "outputs": [
        {
          "output_type": "stream",
          "name": "stdout",
          "text": [
            "22\n",
            "{'name': 'Alice', 'grade': 'A'}\n"
          ]
        }
      ]
    },
    {
      "cell_type": "code",
      "source": [
        "# Using popitem() – Removes the last key-value pair (for Python 3.7+)\n",
        "student = {\"name\": \"Alice\", \"age\": 22, \"grade\": \"A\"}\n",
        "print(student.popitem())\n",
        "print(student)  # {'name': 'Alice', 'age': 22}"
      ],
      "metadata": {
        "colab": {
          "base_uri": "https://localhost:8080/"
        },
        "id": "BLDO8wzPOSPA",
        "outputId": "bbf7b51c-a3ba-4fcc-b446-5e98ef6ac34f"
      },
      "execution_count": 9,
      "outputs": [
        {
          "output_type": "stream",
          "name": "stdout",
          "text": [
            "('grade', 'A')\n",
            "{'name': 'Alice', 'age': 22}\n"
          ]
        }
      ]
    },
    {
      "cell_type": "code",
      "source": [
        "student = {\"name\": \"Alice\", \"age\": 22, \"grade\": \"A\"}\n",
        "del student[\"grade\"]\n",
        "print(student)  # {'name': 'Alice', 'age': 22}\n",
        "\n",
        "# Delete entire dictionary\n",
        "del student\n"
      ],
      "metadata": {
        "colab": {
          "base_uri": "https://localhost:8080/"
        },
        "id": "fUrz9w7SOhGG",
        "outputId": "23483667-f151-4c3b-d0bd-2925dc785781"
      },
      "execution_count": 10,
      "outputs": [
        {
          "output_type": "stream",
          "name": "stdout",
          "text": [
            "{'name': 'Alice', 'age': 22}\n"
          ]
        }
      ]
    },
    {
      "cell_type": "code",
      "source": [
        "student = {\"name\": \"Alice\", \"age\": 22, \"grade\": \"A\"}\n",
        "student.clear()\n",
        "print(student)  # {}\n"
      ],
      "metadata": {
        "colab": {
          "base_uri": "https://localhost:8080/"
        },
        "id": "HKCS-cHiPG0t",
        "outputId": "93d3e29a-c262-4df5-a4ef-9200ee7dc463"
      },
      "execution_count": 11,
      "outputs": [
        {
          "output_type": "stream",
          "name": "stdout",
          "text": [
            "{}\n"
          ]
        }
      ]
    },
    {
      "cell_type": "code",
      "source": [
        "# Iterating through keys\n",
        "student = {\"name\": \"Alice\", \"age\": 22, \"grade\": \"A\"}\n",
        "for key in student.keys():\n",
        "    print(key)"
      ],
      "metadata": {
        "colab": {
          "base_uri": "https://localhost:8080/"
        },
        "id": "zFIGgo8TPIoO",
        "outputId": "a4952dbe-af93-424f-e4b9-c1d9f38cd7f0"
      },
      "execution_count": 12,
      "outputs": [
        {
          "output_type": "stream",
          "name": "stdout",
          "text": [
            "name\n",
            "age\n",
            "grade\n"
          ]
        }
      ]
    },
    {
      "cell_type": "code",
      "source": [
        "# Iterating through values\n",
        "student = {\"name\": \"Alice\", \"age\": 22, \"grade\": \"A\"}\n",
        "for value in student.values():\n",
        "    print(value)"
      ],
      "metadata": {
        "colab": {
          "base_uri": "https://localhost:8080/"
        },
        "id": "85XXLHMkPTZ_",
        "outputId": "cf0de81c-4c53-4799-85eb-54ff50c6c5d7"
      },
      "execution_count": 13,
      "outputs": [
        {
          "output_type": "stream",
          "name": "stdout",
          "text": [
            "Alice\n",
            "22\n",
            "A\n"
          ]
        }
      ]
    },
    {
      "cell_type": "code",
      "source": [
        "# Iterating through key-value pairs using items()\n",
        "student = {\"name\": \"Alice\", \"age\": 22, \"grade\": \"A\"}\n",
        "for key, value in student.items():\n",
        "    print(key,\" \",value)"
      ],
      "metadata": {
        "colab": {
          "base_uri": "https://localhost:8080/"
        },
        "id": "6ebV_RNQPfQF",
        "outputId": "7c3fc299-f796-47ef-b256-5819c59c8ff1"
      },
      "execution_count": 14,
      "outputs": [
        {
          "output_type": "stream",
          "name": "stdout",
          "text": [
            "name   Alice\n",
            "age   22\n",
            "grade   A\n"
          ]
        }
      ]
    },
    {
      "cell_type": "code",
      "source": [
        "# nested dictionary\n",
        "d = {1: 'Geeks', 2: 'For',\n",
        "        3: {'A': 'Welcome', 'B': 'To', 'C': 'Geeks'}}\n",
        "\n",
        "print(d)\n"
      ],
      "metadata": {
        "colab": {
          "base_uri": "https://localhost:8080/"
        },
        "id": "9b4l3A0qPuLQ",
        "outputId": "1b4a56a1-38fb-474c-e494-7b3944da6c7b"
      },
      "execution_count": 15,
      "outputs": [
        {
          "output_type": "stream",
          "name": "stdout",
          "text": [
            "{1: 'Geeks', 2: 'For', 3: {'A': 'Welcome', 'B': 'To', 'C': 'Geeks'}}\n"
          ]
        }
      ]
    },
    {
      "cell_type": "code",
      "source": [
        "# The setdefault() method is used to retrieve the value of a given key in a dictionary. If the key is not present, it inserts the key with a specified default value.\n",
        "student = {\"name\": \"Alice\", \"age\": 22}\n",
        "\n",
        "# Key 'age' exists, so it returns its value\n",
        "value = student.setdefault(\"age\", 25)\n",
        "print(student)  # {'name': 'Alice', 'age': 22}\n",
        "print(value)    # 22"
      ],
      "metadata": {
        "colab": {
          "base_uri": "https://localhost:8080/"
        },
        "id": "JGlj2fy8P8rE",
        "outputId": "ef03bcab-db0b-4543-814b-d367a71e9a4a"
      },
      "execution_count": 16,
      "outputs": [
        {
          "output_type": "stream",
          "name": "stdout",
          "text": [
            "{'name': 'Alice', 'age': 22}\n",
            "22\n"
          ]
        }
      ]
    },
    {
      "cell_type": "code",
      "source": [
        "student = {\"name\": \"Alice\", \"age\": 22}\n",
        "\n",
        "# Key 'grade' does not exist, so it adds 'grade': 'A'\n",
        "value = student.setdefault(\"grade\", \"A\")\n",
        "\n",
        "print(student)  # {'name': 'Alice', 'age': 22, 'grade': 'A'}\n",
        "print(value)    # 'A'\n"
      ],
      "metadata": {
        "colab": {
          "base_uri": "https://localhost:8080/"
        },
        "id": "PgKXr34vQ8As",
        "outputId": "2f2bd79d-dea9-4fce-b091-a0cbe604249a"
      },
      "execution_count": 17,
      "outputs": [
        {
          "output_type": "stream",
          "name": "stdout",
          "text": [
            "{'name': 'Alice', 'age': 22, 'grade': 'A'}\n",
            "A\n"
          ]
        }
      ]
    },
    {
      "cell_type": "code",
      "source": [
        "student = {\"name\": \"Alice\", \"age\": 22}\n",
        "\n",
        "# Key 'city' does not exist, so it adds 'city': None\n",
        "value = student.setdefault(\"city\")\n",
        "\n",
        "print(student)  # {'name': 'Alice', 'age': 22, 'city': None}\n",
        "print(value)    # None\n"
      ],
      "metadata": {
        "colab": {
          "base_uri": "https://localhost:8080/"
        },
        "id": "ujp8gX_bRYNe",
        "outputId": "708a0bb8-3632-4d6c-bef7-8eca197a1134"
      },
      "execution_count": 18,
      "outputs": [
        {
          "output_type": "stream",
          "name": "stdout",
          "text": [
            "{'name': 'Alice', 'age': 22, 'city': None}\n",
            "None\n"
          ]
        }
      ]
    },
    {
      "cell_type": "code",
      "source": [
        "# Creating a Dictionary from a List\n",
        "numbers = [1, 2, 3, 4]\n",
        "squares = {num: num**2 for num in numbers}\n",
        "print(squares)"
      ],
      "metadata": {
        "colab": {
          "base_uri": "https://localhost:8080/"
        },
        "id": "TXKg8EXTRe1c",
        "outputId": "646cc5fb-da93-4c0a-a763-246afc984214"
      },
      "execution_count": 19,
      "outputs": [
        {
          "output_type": "stream",
          "name": "stdout",
          "text": [
            "{1: 1, 2: 4, 3: 9, 4: 16}\n"
          ]
        }
      ]
    },
    {
      "cell_type": "code",
      "source": [
        "even_squares = {x: x**2 for x in range(1, 11) if x % 2 == 0}\n",
        "print(even_squares)\n"
      ],
      "metadata": {
        "colab": {
          "base_uri": "https://localhost:8080/"
        },
        "id": "W1SgcFEKR4Kf",
        "outputId": "cdeda311-9478-49b0-baf3-bc30ab6c32b1"
      },
      "execution_count": 20,
      "outputs": [
        {
          "output_type": "stream",
          "name": "stdout",
          "text": [
            "{2: 4, 4: 16, 6: 36, 8: 64, 10: 100}\n"
          ]
        }
      ]
    },
    {
      "cell_type": "code",
      "source": [
        "num_status = {x: (\"Even\" if x % 2 == 0 else \"Odd\") for x in range(1, 6)}\n",
        "print(num_status)"
      ],
      "metadata": {
        "colab": {
          "base_uri": "https://localhost:8080/"
        },
        "id": "tAPpAQTaSS4j",
        "outputId": "400d0405-65db-4681-d4d4-0d06c161914c"
      },
      "execution_count": 21,
      "outputs": [
        {
          "output_type": "stream",
          "name": "stdout",
          "text": [
            "{1: 'Odd', 2: 'Even', 3: 'Odd', 4: 'Even', 5: 'Odd'}\n"
          ]
        }
      ]
    },
    {
      "cell_type": "code",
      "source": [
        "#swapping key values in dictionary\n",
        "\n",
        "original = {\"a\": 1, \"b\": 2, \"c\": 3}\n",
        "swapped = {v: k for k, v in original.items()}\n",
        "print(swapped)"
      ],
      "metadata": {
        "colab": {
          "base_uri": "https://localhost:8080/"
        },
        "id": "9QJiDKjrSUUC",
        "outputId": "fda50241-1eca-4a64-cd70-76fbfdfc5657"
      },
      "execution_count": 22,
      "outputs": [
        {
          "output_type": "stream",
          "name": "stdout",
          "text": [
            "{1: 'a', 2: 'b', 3: 'c'}\n"
          ]
        }
      ]
    },
    {
      "cell_type": "code",
      "source": [
        "original = {'a': 1, 'b': {'x': 10, 'y': 20}}\n",
        "\n",
        "# Shallow copy\n",
        "shallow_copy = original.copy()\n",
        "\n",
        "# Modify the nested dictionary\n",
        "shallow_copy['b']['x'] = 100\n",
        "\n",
        "print(original)       # {'a': 1, 'b': {'x': 100, 'y': 20}}\n",
        "print(shallow_copy)   # {'a': 1, 'b': {'x': 100, 'y': 20}}\n",
        "\n",
        "# ⚠️ Notice: Changes to the nested dictionary (b) reflect in both copies! This is because dict.copy() only copies top-level keys, not inner objects."
      ],
      "metadata": {
        "id": "mYiEo3INSlG6",
        "colab": {
          "base_uri": "https://localhost:8080/"
        },
        "outputId": "3ee7e3f4-6cfe-4eac-ac53-5964e05f0646"
      },
      "execution_count": 23,
      "outputs": [
        {
          "output_type": "stream",
          "name": "stdout",
          "text": [
            "{'a': 1, 'b': {'x': 100, 'y': 20}}\n",
            "{'a': 1, 'b': {'x': 100, 'y': 20}}\n"
          ]
        }
      ]
    },
    {
      "cell_type": "code",
      "source": [
        "# A deep copy creates a completely independent copy, including nested dictionaries.\n",
        "import copy\n",
        "\n",
        "original = {'a': 1, 'b': {'x': 10, 'y': 20}}\n",
        "\n",
        "# Deep copy\n",
        "deep_copy = copy.deepcopy(original)\n",
        "\n",
        "# Modify nested dictionary\n",
        "deep_copy['b']['x'] = 100\n",
        "\n",
        "print(original)   # {'a': 1, 'b': {'x': 10, 'y': 20}}\n",
        "print(deep_copy)  # {'a': 1, 'b': {'x': 100, 'y': 20}}"
      ],
      "metadata": {
        "colab": {
          "base_uri": "https://localhost:8080/"
        },
        "id": "dYbuks2d_gOu",
        "outputId": "6e2af905-4664-492a-f815-473bf5b69efb"
      },
      "execution_count": 24,
      "outputs": [
        {
          "output_type": "stream",
          "name": "stdout",
          "text": [
            "{'a': 1, 'b': {'x': 10, 'y': 20}}\n",
            "{'a': 1, 'b': {'x': 100, 'y': 20}}\n"
          ]
        }
      ]
    },
    {
      "cell_type": "code",
      "source": [
        "#key exsistence\n",
        "a = {\"name\":\"Govind\",1:[1,2,3],\"age\":24}\n",
        "\n",
        "print(\"name\" in a)\n",
        "print(\"age\" not in a)\n",
        "print(24 in a.values())"
      ],
      "metadata": {
        "colab": {
          "base_uri": "https://localhost:8080/"
        },
        "id": "rUo37a5S_thw",
        "outputId": "986c2557-e44f-479a-d715-2c605671630b"
      },
      "execution_count": 25,
      "outputs": [
        {
          "output_type": "stream",
          "name": "stdout",
          "text": [
            "True\n",
            "False\n",
            "True\n"
          ]
        }
      ]
    },
    {
      "cell_type": "code",
      "source": [
        "#length\n",
        "print(len(a))"
      ],
      "metadata": {
        "colab": {
          "base_uri": "https://localhost:8080/"
        },
        "id": "bhFkOznuAOBf",
        "outputId": "4f3c74f5-49d5-4b09-bb36-42016ef21b3a"
      },
      "execution_count": 26,
      "outputs": [
        {
          "output_type": "stream",
          "name": "stdout",
          "text": [
            "3\n"
          ]
        }
      ]
    },
    {
      "cell_type": "code",
      "source": [
        "#merging dictionary\n",
        "# Using update() (Modifies First Dictionary)\n",
        "dict1 = {'a': 1, 'b': 2}\n",
        "dict2 = {'b': 20, 'c': 3}\n",
        "\n",
        "dict1.update(dict2)\n",
        "\n",
        "print(dict1)  # {'a': 1, 'b': 20, 'c': 3}"
      ],
      "metadata": {
        "colab": {
          "base_uri": "https://localhost:8080/"
        },
        "id": "mnGYdN4zAhO3",
        "outputId": "6e6e341f-de16-4644-ec02-eda789efff72"
      },
      "execution_count": 27,
      "outputs": [
        {
          "output_type": "stream",
          "name": "stdout",
          "text": [
            "{'a': 1, 'b': 20, 'c': 3}\n"
          ]
        }
      ]
    },
    {
      "cell_type": "code",
      "source": [
        "# Using | (Python 3.9+)\n",
        "# This creates a new dictionary without modifying originals.\n",
        "dict1 = {'a': 1, 'b': 2}\n",
        "dict2 = {'b': 20, 'c': 3}\n",
        "\n",
        "merged = dict1 | dict2\n",
        "\n",
        "print(merged)  # {'a': 1, 'b': 20, 'c': 3}\n",
        "print(dict1)\n",
        "# ✅ Does NOT modify original dictionaries"
      ],
      "metadata": {
        "colab": {
          "base_uri": "https://localhost:8080/"
        },
        "id": "OvjBYlztBMaR",
        "outputId": "a4ad1110-1267-4ad7-e1a3-7aa9be9dc722"
      },
      "execution_count": 28,
      "outputs": [
        {
          "output_type": "stream",
          "name": "stdout",
          "text": [
            "{'a': 1, 'b': 20, 'c': 3}\n",
            "{'a': 1, 'b': 2}\n"
          ]
        }
      ]
    },
    {
      "cell_type": "code",
      "source": [
        "# Using {**dict1, **dict2} (Python 3.5+)\n",
        "dict1 = {'a': 1, 'b': 2}\n",
        "dict2 = {'b': 20, 'c': 3}\n",
        "\n",
        "merged = {**dict1, **dict2}\n",
        "\n",
        "print(merged)  # {'a': 1, 'b': 20, 'c': 3}\n",
        "# ✅ Creates a new dictionary\n",
        "# ❌ If keys overlap, dict2 values overwrite dict1 values"
      ],
      "metadata": {
        "colab": {
          "base_uri": "https://localhost:8080/"
        },
        "id": "gvx9TYbyBfWX",
        "outputId": "19668de7-e667-4316-f589-b3f287aba0c1"
      },
      "execution_count": 29,
      "outputs": [
        {
          "output_type": "stream",
          "name": "stdout",
          "text": [
            "{'a': 1, 'b': 20, 'c': 3}\n"
          ]
        }
      ]
    },
    {
      "cell_type": "code",
      "source": [
        "# Sorting by Keys (sorted() with dict.items())\n",
        "# Sort a dictionary by keys (default behavior of sorted()):\n",
        "my_dict = {'b': 3, 'a': 1, 'c': 2}\n",
        "\n",
        "sorted_by_keys = dict(sorted(my_dict.items(), key = lambda item : item[0]))\n",
        "\n",
        "print(sorted_by_keys)  # {'a': 1, 'b': 3, 'c': 2}\n",
        "# ✅ Returns a new sorted dictionary\n",
        "# ✅ Sorts in ascending order (default)"
      ],
      "metadata": {
        "colab": {
          "base_uri": "https://localhost:8080/"
        },
        "id": "fvC1WoDXBzqL",
        "outputId": "e09e0612-bd07-4cd5-f295-ec7ec37f3e6f"
      },
      "execution_count": 30,
      "outputs": [
        {
          "output_type": "stream",
          "name": "stdout",
          "text": [
            "{'a': 1, 'b': 3, 'c': 2}\n"
          ]
        }
      ]
    },
    {
      "cell_type": "code",
      "source": [
        "# Sorting by Values\n",
        "# Sort a dictionary by values using lambda:\n",
        "my_dict = {'b': 3, 'a': 1, 'c': 2}\n",
        "\n",
        "sorted_by_values = dict(sorted(my_dict.items(), key=lambda item: item[1]))\n",
        "\n",
        "print(sorted_by_values)  # {'a': 1, 'c': 2, 'b': 3}\n",
        "# ✅ Sorts by values instead of keys\n",
        "\n",
        "# Descending Order\n",
        "# Use reverse=True to sort in descending order:\n",
        "sorted_desc = dict(sorted(my_dict.items(), key=lambda item: item[1], reverse=True))\n",
        "print(sorted_desc)  # {'b': 3, 'c': 2, 'a': 1}"
      ],
      "metadata": {
        "colab": {
          "base_uri": "https://localhost:8080/"
        },
        "id": "eWMNML3HCR7l",
        "outputId": "35c0ce30-f67a-47d7-b4e3-8986cda87daa"
      },
      "execution_count": 31,
      "outputs": [
        {
          "output_type": "stream",
          "name": "stdout",
          "text": [
            "{'a': 1, 'c': 2, 'b': 3}\n",
            "{'b': 3, 'c': 2, 'a': 1}\n"
          ]
        }
      ]
    }
  ]
}