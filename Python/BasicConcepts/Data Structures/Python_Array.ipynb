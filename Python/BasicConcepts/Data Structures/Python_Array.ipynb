{
  "nbformat": 4,
  "nbformat_minor": 0,
  "metadata": {
    "colab": {
      "provenance": [],
      "authorship_tag": "ABX9TyMrXQrqwAlRi0KUtQhAsMWm"
    },
    "kernelspec": {
      "name": "python3",
      "display_name": "Python 3"
    },
    "language_info": {
      "name": "python"
    }
  },
  "cells": [
    {
      "cell_type": "code",
      "execution_count": 1,
      "metadata": {
        "id": "NpA8SCx04ki8"
      },
      "outputs": [],
      "source": [
        "# In Python, array is a collection of items stored at contiguous memory locations.\n",
        "# The idea is to store multiple items of the same type together.\n",
        "# Unlike Python lists (can store elements of mixed types), arrays must have all elements of same type.\n",
        "# Having only homogeneous elements makes it memory-efficient."
      ]
    },
    {
      "cell_type": "code",
      "source": [
        "# Syntax\n",
        "# The syntax for creating an array in\n",
        "# Python is −\n",
        "# importing\n",
        "# import array as array_name\n",
        "\n",
        "# creating array\n",
        "# obj = array_name.array(typecode[, initializer])\n",
        "# Where,\n",
        "# typecode − The typecode character used to speccify the type of elements in the array.\n",
        "# initializer − It is an optional value from which array is initialized. It must be a list, a bytes-like object, or iterable elements of the appropriate type."
      ],
      "metadata": {
        "id": "IxKMB9Z67jY6"
      },
      "execution_count": 2,
      "outputs": []
    },
    {
      "cell_type": "code",
      "source": [
        "# Array in Python can be created by importing an array module.\n",
        "# array( data_type , value_list ) is used to create array in Python with data type and value list specified in its arguments."
      ],
      "metadata": {
        "id": "aZ6Pnf4x4x-i"
      },
      "execution_count": 3,
      "outputs": []
    },
    {
      "cell_type": "code",
      "source": [
        "import array as arr"
      ],
      "metadata": {
        "id": "B8kfG3-W5KVE"
      },
      "execution_count": 4,
      "outputs": []
    },
    {
      "cell_type": "code",
      "source": [
        "# typecode Python data type  Byte size\n",
        "# 'b'      signed integer    1\n",
        "# 'B'      unsigned integer  1\n",
        "# 'u'      Unicode character 2\n",
        "# 'h'      signed integer    2\n",
        "# 'H'      unsigned integer  2\n",
        "# 'i'      signed integer    2\n",
        "# 'I'      unsigned integer  2\n",
        "# 'l'.     signed integer    4\n",
        "# 'L'      unsigned integer  4\n",
        "# 'q'      signed integer    8\n",
        "# 'Q'      unsigned integer  8\n",
        "# 'f'      floating point    4\n",
        "# 'd'      floating point    8"
      ],
      "metadata": {
        "id": "8i53KNtf5OYA"
      },
      "execution_count": 5,
      "outputs": []
    },
    {
      "cell_type": "code",
      "source": [
        "# creating array of integers\n",
        "a1 = arr.array('i',[1,2,3,4,5])\n",
        "\n",
        "for i in a1:\n",
        "    print(i)"
      ],
      "metadata": {
        "colab": {
          "base_uri": "https://localhost:8080/"
        },
        "id": "rM0uPk1C6PQy",
        "outputId": "d6290cca-23c1-4f74-c085-6590c1bd8c4c"
      },
      "execution_count": 6,
      "outputs": [
        {
          "output_type": "stream",
          "name": "stdout",
          "text": [
            "1\n",
            "2\n",
            "3\n",
            "4\n",
            "5\n"
          ]
        }
      ]
    },
    {
      "cell_type": "code",
      "source": [
        "# creating array of float\n",
        "a1 = arr.array('d',[1,2,3.7,4,5])\n",
        "\n",
        "for i in a1:\n",
        "    print(i)"
      ],
      "metadata": {
        "colab": {
          "base_uri": "https://localhost:8080/"
        },
        "id": "Auh1SXd76uYB",
        "outputId": "82171bf7-284b-470d-ac4a-f7ad8c537ec3"
      },
      "execution_count": 7,
      "outputs": [
        {
          "output_type": "stream",
          "name": "stdout",
          "text": [
            "1.0\n",
            "2.0\n",
            "3.7\n",
            "4.0\n",
            "5.0\n"
          ]
        }
      ]
    },
    {
      "cell_type": "code",
      "source": [
        "# creating array of char\n",
        "a1 = arr.array('u','Govind')\n",
        "\n",
        "for i in a1:\n",
        "    print(i)"
      ],
      "metadata": {
        "colab": {
          "base_uri": "https://localhost:8080/"
        },
        "id": "kBXmTAn560h6",
        "outputId": "a11fd478-f4b5-47d1-eadc-2e1117f6082b"
      },
      "execution_count": 8,
      "outputs": [
        {
          "output_type": "stream",
          "name": "stdout",
          "text": [
            "G\n",
            "o\n",
            "v\n",
            "i\n",
            "n\n",
            "d\n"
          ]
        }
      ]
    },
    {
      "cell_type": "code",
      "source": [
        "# Basic Operations on Python Arrays\n",
        "# Following are the basic operations supported by an array −\n",
        "\n",
        "# Traverse − Print all the array elements one by one.\n",
        "\n",
        "# Insertion − Adds an element at the given index.\n",
        "\n",
        "# Deletion − Deletes an element at the given index.\n",
        "\n",
        "# Search − Searches an element using the given index or by the value.\n",
        "\n",
        "# Update − Updates an element at the given index."
      ],
      "metadata": {
        "id": "6UkQBcdN7Fsp"
      },
      "execution_count": 9,
      "outputs": []
    },
    {
      "cell_type": "code",
      "source": [
        "# accessing array elements\n",
        "\n",
        "a1 = arr.array('i',[1,2,3,4,5])\n",
        "\n",
        "print(a1[0]) # first element\n",
        "print(a1[3]) # fourth element"
      ],
      "metadata": {
        "colab": {
          "base_uri": "https://localhost:8080/"
        },
        "id": "9JeHDKuM8PcO",
        "outputId": "19696799-6ed7-4928-ad29-bd3a3a25f4e6"
      },
      "execution_count": 10,
      "outputs": [
        {
          "output_type": "stream",
          "name": "stdout",
          "text": [
            "1\n",
            "4\n"
          ]
        }
      ]
    },
    {
      "cell_type": "code",
      "source": [
        "# inserting element in array\n",
        "\n",
        "a1 = arr.array('i',[1,2,3,4,5])\n",
        "\n",
        "a1.insert(2,70)\n",
        "\n",
        "for i in a1:\n",
        "    print(i)"
      ],
      "metadata": {
        "colab": {
          "base_uri": "https://localhost:8080/"
        },
        "id": "tAMRXdBY8zmM",
        "outputId": "d2c4571d-e522-4866-e409-940e579aea7f"
      },
      "execution_count": 11,
      "outputs": [
        {
          "output_type": "stream",
          "name": "stdout",
          "text": [
            "1\n",
            "2\n",
            "70\n",
            "3\n",
            "4\n",
            "5\n"
          ]
        }
      ]
    },
    {
      "cell_type": "code",
      "source": [
        "# deleting an array element\n",
        "# remove()\n",
        "a1 = arr.array('i',[1,2,3,1,4,5])\n",
        "\n",
        "a1.remove(1)#removes first occurence of 1\n",
        "\n",
        "for i in a1:\n",
        "    print(i)\n",
        "\n",
        "# pop()\n",
        "a1 = arr.array('i',[1,2,3,1,4,5])\n",
        "\n",
        "a1.pop(1)#removes element at index 1\n",
        "\n",
        "for i in a1:\n",
        "    print(i)"
      ],
      "metadata": {
        "colab": {
          "base_uri": "https://localhost:8080/"
        },
        "id": "akSYYE_C9qtl",
        "outputId": "fe11cc1a-1be9-4e50-a440-cc24a03a2a07"
      },
      "execution_count": 12,
      "outputs": [
        {
          "output_type": "stream",
          "name": "stdout",
          "text": [
            "2\n",
            "3\n",
            "1\n",
            "4\n",
            "5\n",
            "1\n",
            "3\n",
            "1\n",
            "4\n",
            "5\n"
          ]
        }
      ]
    },
    {
      "cell_type": "code",
      "source": [
        "# updating array element\n",
        "a1 = arr.array('i',[1,2,3,1,4,5])\n",
        "a1[3] = 3\n",
        "\n",
        "for i in a1:\n",
        "    print(i)"
      ],
      "metadata": {
        "colab": {
          "base_uri": "https://localhost:8080/"
        },
        "id": "wRNMqbed_9AO",
        "outputId": "85cca21d-523a-407a-c809-72f9c83fa822"
      },
      "execution_count": 13,
      "outputs": [
        {
          "output_type": "stream",
          "name": "stdout",
          "text": [
            "1\n",
            "2\n",
            "3\n",
            "3\n",
            "4\n",
            "5\n"
          ]
        }
      ]
    },
    {
      "cell_type": "code",
      "source": [
        "# getting length of array\n",
        "\n",
        "a1 = arr.array('i',[1,2,3,1,4,5])\n",
        "\n",
        "print(len(a1))"
      ],
      "metadata": {
        "colab": {
          "base_uri": "https://localhost:8080/"
        },
        "id": "o-ojVPvlAR9f",
        "outputId": "73e893c5-6048-449c-d02b-99a1969454a5"
      },
      "execution_count": 14,
      "outputs": [
        {
          "output_type": "stream",
          "name": "stdout",
          "text": [
            "6\n"
          ]
        }
      ]
    },
    {
      "cell_type": "code",
      "source": [
        "# The extend() function is simply used to attach an item from iterable to the end of the array.\n",
        "\n",
        "a = arr.array('i', [1, 2, 3,4,5])\n",
        "\n",
        "# using extend() method\n",
        "a.extend([6,7,8,9,10])\n",
        "print(a)\n",
        "print(type(a))"
      ],
      "metadata": {
        "colab": {
          "base_uri": "https://localhost:8080/"
        },
        "id": "DBifHOseAjeN",
        "outputId": "77151b84-8e40-4ebb-a775-9598f83d5606"
      },
      "execution_count": 15,
      "outputs": [
        {
          "output_type": "stream",
          "name": "stdout",
          "text": [
            "array('i', [1, 2, 3, 4, 5, 6, 7, 8, 9, 10])\n",
            "<class 'array.array'>\n"
          ]
        }
      ]
    },
    {
      "cell_type": "code",
      "source": [
        "# reversing an array\n",
        "\n",
        "a= arr.array('i',[1,2,3,4,5])\n",
        "\n",
        "a.reverse()\n",
        "\n",
        "for i in a:\n",
        "    print(i)"
      ],
      "metadata": {
        "colab": {
          "base_uri": "https://localhost:8080/"
        },
        "id": "jBAYjN4HBhSc",
        "outputId": "788fb07d-aab4-4495-9a12-35e149ad9aea"
      },
      "execution_count": 16,
      "outputs": [
        {
          "output_type": "stream",
          "name": "stdout",
          "text": [
            "5\n",
            "4\n",
            "3\n",
            "2\n",
            "1\n"
          ]
        }
      ]
    },
    {
      "cell_type": "code",
      "source": [
        "# counting number of occurrences of an element\n",
        "\n",
        "a = arr.array('i', [1, 2, 3, 4, 2, 5, 2])\n",
        "count = a.count(2)\n",
        "\n",
        "print(\"Number of occurrences of 2:\", count)"
      ],
      "metadata": {
        "colab": {
          "base_uri": "https://localhost:8080/"
        },
        "id": "C2RaTg4_BzqJ",
        "outputId": "fb247bbd-fb93-4452-9c41-a4958cbb33e5"
      },
      "execution_count": 17,
      "outputs": [
        {
          "output_type": "stream",
          "name": "stdout",
          "text": [
            "Number of occurrences of 2: 3\n"
          ]
        }
      ]
    },
    {
      "cell_type": "code",
      "source": [
        "# In order to search an element in the array we use a python in-built index() method.\n",
        "# This function returns the index of the first occurrence of value mentioned in arguments.\n",
        "\n",
        "a = arr.array('i', [1, 2, 3, 1, 2, 5])\n",
        "\n",
        "# index of 1st occurrence of 2\n",
        "print(a.index(2))\n",
        "\n",
        "# index of 1st occurrence of 1\n",
        "print(a.index(1))"
      ],
      "metadata": {
        "colab": {
          "base_uri": "https://localhost:8080/"
        },
        "id": "naB2U4dICa0B",
        "outputId": "d7f70912-9f35-4121-df3c-bc4325e5800d"
      },
      "execution_count": 18,
      "outputs": [
        {
          "output_type": "stream",
          "name": "stdout",
          "text": [
            "1\n",
            "0\n"
          ]
        }
      ]
    },
    {
      "cell_type": "code",
      "source": [
        "# slicing in array\n",
        "\n",
        "l = [1, 2, 3, 4, 5, 6, 7, 8, 9, 10]\n",
        "\n",
        "a = arr.array('i', l)\n",
        "\n",
        "\n",
        "Sliced_array = a[3:8]\n",
        "print(Sliced_array)\n",
        "\n",
        "Sliced_array = a[5:]\n",
        "print(Sliced_array)\n",
        "\n",
        "Sliced_array = a[::-1]\n",
        "print(Sliced_array)"
      ],
      "metadata": {
        "colab": {
          "base_uri": "https://localhost:8080/"
        },
        "id": "4MzqKAkECoDd",
        "outputId": "d1c3e358-a7d9-4810-b746-17d33101506d"
      },
      "execution_count": 19,
      "outputs": [
        {
          "output_type": "stream",
          "name": "stdout",
          "text": [
            "array('i', [4, 5, 6, 7, 8])\n",
            "array('i', [6, 7, 8, 9, 10])\n",
            "array('i', [10, 9, 8, 7, 6, 5, 4, 3, 2, 1])\n"
          ]
        }
      ]
    }
  ]
}