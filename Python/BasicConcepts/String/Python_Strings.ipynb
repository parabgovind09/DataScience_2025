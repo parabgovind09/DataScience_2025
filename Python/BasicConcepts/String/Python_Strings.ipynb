{
  "nbformat": 4,
  "nbformat_minor": 0,
  "metadata": {
    "colab": {
      "provenance": []
    },
    "kernelspec": {
      "name": "python3",
      "display_name": "Python 3"
    },
    "language_info": {
      "name": "python"
    }
  },
  "cells": [
    {
      "cell_type": "code",
      "execution_count": 1,
      "metadata": {
        "id": "ycdIhmUei668"
      },
      "outputs": [],
      "source": [
        "# In Python, a string is an immutable sequence of Unicode characters. Each character has a unique numeric value as per the UNICODE standard.\n",
        "# But, the sequence as a whole, doesn't have any numeric value even if all the characters are digits.\n",
        "# To differentiate the string from numbers and other identifiers, the sequence of characters is included within single, double or triple quotes in its literal representation.\n",
        "# Hence, 1234 is a number (integer) but '1234' is a string."
      ]
    },
    {
      "cell_type": "code",
      "source": [
        "s1 = 'Govind'\n",
        "s2 = \"Rama\"\n",
        "s3 = \"\"\"Parab\"\"\"\n",
        "s4 = '''Govind Rama Parab'''\n",
        "print(s1,s2,s3,s4)"
      ],
      "metadata": {
        "colab": {
          "base_uri": "https://localhost:8080/"
        },
        "id": "bnPGQBb3napQ",
        "outputId": "70dff86d-9b2d-4183-9eef-c82c3ccf3b4a"
      },
      "execution_count": 2,
      "outputs": [
        {
          "output_type": "stream",
          "name": "stdout",
          "text": [
            "Govind Rama Parab Govind Rama Parab\n"
          ]
        }
      ]
    },
    {
      "cell_type": "code",
      "source": [
        "# accessing string and slicing\n",
        "print(s1[::])\n",
        "print(s1[::-1])\n",
        "print(s1[:2])\n",
        "print(s1[2:])\n",
        "print(s1[2])\n",
        "print(s1[-3:])\n",
        "print(s1[:-3])"
      ],
      "metadata": {
        "colab": {
          "base_uri": "https://localhost:8080/"
        },
        "id": "PYBe4msLny9M",
        "outputId": "c06c9da3-5278-4adf-b37a-08eaa843e9f1"
      },
      "execution_count": 3,
      "outputs": [
        {
          "output_type": "stream",
          "name": "stdout",
          "text": [
            "Govind\n",
            "dnivoG\n",
            "Go\n",
            "vind\n",
            "v\n",
            "ind\n",
            "Gov\n"
          ]
        }
      ]
    },
    {
      "cell_type": "code",
      "source": [
        "# updating string\n",
        "s1 = s1+\" Parab\"\n",
        "print(s1)\n",
        "\n",
        "s4 = s4[:11]+\" Parab 1\"\n",
        "print(s4)"
      ],
      "metadata": {
        "colab": {
          "base_uri": "https://localhost:8080/"
        },
        "id": "aj5R3hr6oYBN",
        "outputId": "1dfb6ba8-8cfe-4e17-8bfe-fd6a61c5ca60"
      },
      "execution_count": 4,
      "outputs": [
        {
          "output_type": "stream",
          "name": "stdout",
          "text": [
            "Govind Parab\n",
            "Govind Rama Parab 1\n"
          ]
        }
      ]
    },
    {
      "cell_type": "code",
      "source": [
        "# format in string\n",
        "var = 20\n",
        "s1 = f\"This is for {var} dollars\"\n",
        "print(s1)"
      ],
      "metadata": {
        "colab": {
          "base_uri": "https://localhost:8080/"
        },
        "id": "jbY0wtKFo_qZ",
        "outputId": "a0d7639f-5423-459d-9645-5092ce22fc9d"
      },
      "execution_count": 5,
      "outputs": [
        {
          "output_type": "stream",
          "name": "stdout",
          "text": [
            "This is for 20 dollars\n"
          ]
        }
      ]
    },
    {
      "cell_type": "code",
      "source": [
        "# membership operator\n",
        "print(\"d\" in s1)\n",
        "print(\"z\" not in s1)\n",
        "print(\"d\" not in s1)\n",
        "print(\"z\" in s1)"
      ],
      "metadata": {
        "colab": {
          "base_uri": "https://localhost:8080/"
        },
        "id": "JH-EnbbjsJ7L",
        "outputId": "97e2a19f-4c9e-4acd-a73c-08e17495f4db"
      },
      "execution_count": 6,
      "outputs": [
        {
          "output_type": "stream",
          "name": "stdout",
          "text": [
            "True\n",
            "True\n",
            "False\n",
            "False\n"
          ]
        }
      ]
    },
    {
      "cell_type": "code",
      "source": [
        "# repetition\n",
        "s1 = \"Ha\"*5\n",
        "print(s1)"
      ],
      "metadata": {
        "colab": {
          "base_uri": "https://localhost:8080/"
        },
        "id": "r_v4-rV1sa7N",
        "outputId": "70ae14fa-9292-48f4-d4c9-d4cccd1d4307"
      },
      "execution_count": 7,
      "outputs": [
        {
          "output_type": "stream",
          "name": "stdout",
          "text": [
            "HaHaHaHaHa\n"
          ]
        }
      ]
    },
    {
      "cell_type": "code",
      "source": [
        "# type\n",
        "print(type(s1))"
      ],
      "metadata": {
        "colab": {
          "base_uri": "https://localhost:8080/"
        },
        "id": "d5jkBz6GtxEU",
        "outputId": "63cb3842-1d8e-4071-afe5-ea921e1351df"
      },
      "execution_count": 8,
      "outputs": [
        {
          "output_type": "stream",
          "name": "stdout",
          "text": [
            "<class 'str'>\n"
          ]
        }
      ]
    },
    {
      "cell_type": "code",
      "source": [
        "# multi-line string\n",
        "var = \"\"\"\n",
        "this is\n",
        "my name\n",
        "govind\n",
        "\"\"\"\n",
        "print(var)"
      ],
      "metadata": {
        "colab": {
          "base_uri": "https://localhost:8080/"
        },
        "id": "7TLKdQkzuUu0",
        "outputId": "e4632c21-1cfc-4104-c1a8-1c4e7a9702cf"
      },
      "execution_count": 9,
      "outputs": [
        {
          "output_type": "stream",
          "name": "stdout",
          "text": [
            "\n",
            "this is \n",
            "my name \n",
            "govind \n",
            "\n"
          ]
        }
      ]
    },
    {
      "cell_type": "code",
      "source": [
        "# adding quotes to string\n",
        "var = 'Welcome to \"Python Tutorial\" from Colab'\n",
        "print (\"var:\", var)\n",
        "\n",
        "var = \"Welcome to 'Python Tutorial' from Colab\"\n",
        "print (\"var:\", var)"
      ],
      "metadata": {
        "colab": {
          "base_uri": "https://localhost:8080/"
        },
        "id": "nRlE1EGWulsT",
        "outputId": "a28bc4ea-e4f1-43f7-edef-1c7498e522c8"
      },
      "execution_count": 10,
      "outputs": [
        {
          "output_type": "stream",
          "name": "stdout",
          "text": [
            "var: Welcome to \"Python Tutorial\" from Colab\n",
            "var: Welcome to 'Python Tutorial' from Colab\n"
          ]
        }
      ]
    },
    {
      "cell_type": "code",
      "source": [
        "# String Formatting Operator\n",
        "print (\"My name is %s and weight is %d kg!\" % ('Zara', 21))\n",
        "\n",
        "str = \"Welcome to {}\"\n",
        "print(str.format(\"Donland\"))\n",
        "\n"
      ],
      "metadata": {
        "colab": {
          "base_uri": "https://localhost:8080/"
        },
        "id": "N7l87xqwvYWW",
        "outputId": "7028f773-01a2-4c0b-b168-269b1a946afb"
      },
      "execution_count": 11,
      "outputs": [
        {
          "output_type": "stream",
          "name": "stdout",
          "text": [
            "My name is Zara and weight is 21 kg!\n",
            "Welcome to Donland\n"
          ]
        }
      ]
    },
    {
      "cell_type": "code",
      "source": [
        "# modifying string\n",
        "s1=\"WORD\"\n",
        "print (\"original string:\", s1)\n",
        "l1=list(s1)\n",
        "\n",
        "l1.insert(3,\"L\")\n",
        "\n",
        "print (l1)\n",
        "\n",
        "s1=''.join(l1)\n",
        "print (\"Modified string:\", s1)"
      ],
      "metadata": {
        "colab": {
          "base_uri": "https://localhost:8080/"
        },
        "id": "FmQVu-OcwCRr",
        "outputId": "efe6e433-0589-4405-a4f5-004939a1191b"
      },
      "execution_count": 12,
      "outputs": [
        {
          "output_type": "stream",
          "name": "stdout",
          "text": [
            "original string: WORD\n",
            "['W', 'O', 'R', 'L', 'D']\n",
            "Modified string: WORLD\n"
          ]
        }
      ]
    },
    {
      "cell_type": "code",
      "source": [
        "# Concatenation\n",
        "str1=\"Hello\"\n",
        "str2=\"World\"\n",
        "print (\"String 1:\",str1)\n",
        "print (\"String 2:\",str2)\n",
        "str3=str1+str2\n",
        "print(\"String 3:\",str3)"
      ],
      "metadata": {
        "colab": {
          "base_uri": "https://localhost:8080/"
        },
        "id": "ljGiZkcR0PIY",
        "outputId": "22270826-44a3-450b-8bed-eac44483f9b7"
      },
      "execution_count": 13,
      "outputs": [
        {
          "output_type": "stream",
          "name": "stdout",
          "text": [
            "String 1: Hello\n",
            "String 2: World\n",
            "String 3: HelloWorld\n"
          ]
        }
      ]
    },
    {
      "cell_type": "code",
      "source": [
        "# basic methods\n",
        "s1 = \"Hello Govind rama parab\"\n",
        "print(s1.capitalize())#Capitalizes first letter of string\n",
        "print(s1.title())\n",
        "print(s1.lower())\n",
        "print(s1.upper())\n",
        "print(len(s1))\n",
        "print(s1.swapcase())"
      ],
      "metadata": {
        "colab": {
          "base_uri": "https://localhost:8080/"
        },
        "id": "m6oh3e-h1mZW",
        "outputId": "c6f6d582-da58-4ace-97cb-2389c6abf832"
      },
      "execution_count": 14,
      "outputs": [
        {
          "output_type": "stream",
          "name": "stdout",
          "text": [
            "Hello govind rama parab\n",
            "Hello Govind Rama Parab\n",
            "hello govind rama parab\n",
            "HELLO GOVIND RAMA PARAB\n",
            "23\n",
            "hELLO gOVIND RAMA PARAB\n"
          ]
        }
      ]
    },
    {
      "cell_type": "code",
      "source": [
        "# basic alignment methods\n",
        "\n",
        "# center(width, fillchar)\n",
        "# Centers the string, padding it with fillchar (default is space) to make the total width equal to width.\n",
        "print('hello'.center(11, '*'))  # Output: '***hello***'\n",
        "\n",
        "# ljust(width[, fillchar])\n",
        "# Left-aligns the string, padding it on the right with fillchar (default is space).\n",
        "print('hello'.ljust(10, '-'))  # Output: 'hello-----'\n",
        "\n",
        "#rjust\n",
        "print('hello'.rjust(10, '-'))  # Output: '-----hello'\n",
        "\n",
        "# zfill(width)\n",
        "# Pads the string on the left with zeros (0) to make the total width equal to width. If the string has a sign (+ or -), it is placed before the padding.\n",
        "\n",
        "print('-42'.zfill(5))  # Output: '-0042'\n",
        "\n",
        "# expandtabs(tabsize=8)\n",
        "# Replaces tab characters (\\t) with spaces. Default tab size is 8 unless specified.\n",
        "\n",
        "print('hello\\tworld'.expandtabs(4))  # Output: 'hello   world'"
      ],
      "metadata": {
        "colab": {
          "base_uri": "https://localhost:8080/"
        },
        "id": "txhS0MATBUTD",
        "outputId": "24d1def4-42df-4005-9d30-ade159cc5f50"
      },
      "execution_count": 15,
      "outputs": [
        {
          "output_type": "stream",
          "name": "stdout",
          "text": [
            "***hello***\n",
            "hello-----\n",
            "-----hello\n",
            "-0042\n",
            "hello   world\n"
          ]
        }
      ]
    },
    {
      "cell_type": "code",
      "source": [
        "# split and join methods\n",
        "\n",
        "text = \"   Hello, Python World!   \\nWelcome to string methods.\\n\"\n",
        "text_with_tabs = \"\\tTabbed\\ttext\"\n",
        "long_text = \"one-two-three-two-one\"\n",
        "sequence = ['Learn', 'Python', 'Now']\n",
        "prefixed = \"Mr.John, Mr.Govind\"\n",
        "suffixed = \"report.pdf, result.pdf\"\n",
        "\n",
        "# 1. lstrip()\n",
        "print(\"1. lstrip():\", repr(text.lstrip()))\n",
        "\n",
        "# 2. rstrip()\n",
        "print(\"2. rstrip():\", repr(text.rstrip()))\n",
        "\n",
        "# 3. strip()\n",
        "print(\"3. strip():\", repr(text.strip()))\n",
        "\n",
        "# 4. rsplit()\n",
        "print(\"4. rsplit():\", long_text.rsplit('-', 2))  # splits from right, max 2 splits\n",
        "\n",
        "# 5. split()\n",
        "print(\"5. split():\", text.strip().split())  # default is whitespace\n",
        "\n",
        "# 6. splitlines()\n",
        "print(\"6. splitlines():\", text.splitlines())\n",
        "\n",
        "# 7. partition()\n",
        "print(\"7. partition():\", long_text.partition('-'))  # splits at first '-'\n",
        "\n",
        "# 8. rpartition()\n",
        "print(\"8. rpartition():\", long_text.rpartition('-'))  # splits at last '-'\n",
        "\n",
        "# 9. join()\n",
        "print(\"9. join():\", ' '.join(sequence))\n",
        "\n",
        "# 10. removeprefix()\n",
        "print(\"10. removeprefix():\", prefixed.removeprefix(\"Mr.\"))\n",
        "\n",
        "# 11. removesuffix()\n",
        "print(\"11. removesuffix():\", suffixed.removesuffix(\".pdf\"))"
      ],
      "metadata": {
        "colab": {
          "base_uri": "https://localhost:8080/"
        },
        "id": "T6aKDWvECJo7",
        "outputId": "ecef40d7-b092-49a8-84f7-c6060cbfbf02"
      },
      "execution_count": 16,
      "outputs": [
        {
          "output_type": "stream",
          "name": "stdout",
          "text": [
            "1. lstrip(): 'Hello, Python World!   \\nWelcome to string methods.\\n'\n",
            "2. rstrip(): '   Hello, Python World!   \\nWelcome to string methods.'\n",
            "3. strip(): 'Hello, Python World!   \\nWelcome to string methods.'\n",
            "4. rsplit(): ['one-two-three', 'two', 'one']\n",
            "5. split(): ['Hello,', 'Python', 'World!', 'Welcome', 'to', 'string', 'methods.']\n",
            "6. splitlines(): ['   Hello, Python World!   ', 'Welcome to string methods.']\n",
            "7. partition(): ('one', '-', 'two-three-two-one')\n",
            "8. rpartition(): ('one-two-three-two', '-', 'one')\n",
            "9. join(): Learn Python Now\n",
            "10. removeprefix(): John, Mr.Govind\n",
            "11. removesuffix(): report.pdf, result\n"
          ]
        }
      ]
    },
    {
      "cell_type": "code",
      "source": [
        "# Boolean methods\n",
        "\n",
        "str1 = \"Python3\"\n",
        "str2 = \"Python\"\n",
        "str3 = \"12345\"\n",
        "str4 = \"hello\"\n",
        "str5 = \"Ⅻ\"           # Roman numeral twelve – numeric but not digit\n",
        "str6 = \"   \"\n",
        "str7 = \"Hello World\"\n",
        "str8 = \"HELLO\"\n",
        "str9 = \"abc123\"\n",
        "str10 = \"π\"           # Greek pi character, not ASCII\n",
        "str11 = \"variable_name\"\n",
        "str12 = \"This is printable!\"\n",
        "\n",
        "# 1. isalnum()\n",
        "print(\"1. isalnum():\", str1.isalnum())  # True\n",
        "\n",
        "# 2. isalpha()\n",
        "print(\"2. isalpha():\", str2.isalpha())  # True\n",
        "\n",
        "# 3. isdigit()\n",
        "print(\"3. isdigit():\", str3.isdigit())  # True\n",
        "\n",
        "# 4. islower()\n",
        "print(\"4. islower():\", str4.islower())  # True\n",
        "\n",
        "# 5. isnumeric()\n",
        "print(\"5. isnumeric():\", str5.isnumeric())  # True\n",
        "\n",
        "# 6. isspace()\n",
        "print(\"6. isspace():\", str6.isspace())  # True\n",
        "\n",
        "# 7. istitle()\n",
        "print(\"7. istitle():\", str7.istitle())  # True\n",
        "\n",
        "# 8. isupper()\n",
        "print(\"8. isupper():\", str8.isupper())  # True\n",
        "\n",
        "# 9. isascii()\n",
        "print(\"9. isascii():\", str9.isascii())  # True\n",
        "\n",
        "# 10. isdecimal()\n",
        "print(\"10. isdecimal():\", str3.isdecimal())  # True\n",
        "\n",
        "# 11. isidentifier()\n",
        "print(\"11. isidentifier():\", str11.isidentifier())  # True\n",
        "\n",
        "# 12. isprintable()\n",
        "print(\"12. isprintable():\", str12.isprintable())  # True"
      ],
      "metadata": {
        "colab": {
          "base_uri": "https://localhost:8080/"
        },
        "id": "4EznqI5NESKp",
        "outputId": "ddca8754-0d1e-4fd7-e721-158dcf20707a"
      },
      "execution_count": 17,
      "outputs": [
        {
          "output_type": "stream",
          "name": "stdout",
          "text": [
            "1. isalnum(): True\n",
            "2. isalpha(): True\n",
            "3. isdigit(): True\n",
            "4. islower(): True\n",
            "5. isnumeric(): True\n",
            "6. isspace(): True\n",
            "7. istitle(): True\n",
            "8. isupper(): True\n",
            "9. isascii(): True\n",
            "10. isdecimal(): True\n",
            "11. isidentifier(): True\n",
            "12. isprintable(): True\n"
          ]
        }
      ]
    },
    {
      "cell_type": "code",
      "source": [
        "# Find and replace methods\n",
        "\n",
        "text = \"Python is easy. Python is powerful. Python is popular.\"\n",
        "\n",
        "# 1. count(sub, beg, end)\n",
        "print(\"1. count('Python'):\", text.count('Python'))  # Output: 3\n",
        "\n",
        "# 2. find(sub, beg, end)\n",
        "print(\"2. find('powerful'):\", text.find('powerful'))  # Output: index of 'powerful'\n",
        "\n",
        "# 3. index(sub, beg, end)\n",
        "print(\"3. index('easy'):\", text.index('easy'))  # Output: index of 'easy'\n",
        "\n",
        "# 4. replace(old, new [, max])\n",
        "print(\"4. replace('Python', 'Java'):\", text.replace('Python', 'Java'))  # Replace all\n",
        "print(\"   replace('Python', 'Java', 2):\", text.replace('Python', 'Java', 2))  # Replace first 2\n",
        "\n",
        "# 5. rfind(sub, beg, end)\n",
        "print(\"5. rfind('Python'):\", text.rfind('Python'))  # Finds last occurrence\n",
        "\n",
        "# 6. rindex(sub, beg, end)\n",
        "print(\"6. rindex('Python'):\", text.rindex('Python'))  # Last index of 'Python'\n",
        "\n",
        "# 7. startswith(sub, beg, end)\n",
        "print(\"7. startswith('Python'):\", text.startswith('Python'))  # True\n",
        "\n",
        "# 8. endswith(suffix, beg, end)\n",
        "print(\"8. endswith('popular.'):\", text.endswith('popular.'))  # True"
      ],
      "metadata": {
        "colab": {
          "base_uri": "https://localhost:8080/"
        },
        "id": "VsmbrtT-GZaL",
        "outputId": "7c547dcd-996e-4f2c-8c81-7b1d39d3e8a0"
      },
      "execution_count": 18,
      "outputs": [
        {
          "output_type": "stream",
          "name": "stdout",
          "text": [
            "1. count('Python'): 3\n",
            "2. find('powerful'): 26\n",
            "3. index('easy'): 10\n",
            "4. replace('Python', 'Java'): Java is easy. Java is powerful. Java is popular.\n",
            "   replace('Python', 'Java', 2): Java is easy. Java is powerful. Python is popular.\n",
            "5. rfind('Python'): 36\n",
            "6. rindex('Python'): 36\n",
            "7. startswith('Python'): True\n",
            "8. endswith('popular.'): True\n"
          ]
        }
      ]
    },
    {
      "cell_type": "code",
      "source": [
        "# Transalte functions\n",
        "\n",
        "# Original string\n",
        "text = \"hello world 123\"\n",
        "\n",
        "# 1. maketrans()\n",
        "# Replace h->H, e->3, l->1, o->0 and remove '1', '2'\n",
        "trans_table = str.maketrans({'h': 'H', 'e': '3', 'l': '1', 'o': '0', '1': None, '2': None})\n",
        "\n",
        "# 2. translate()\n",
        "translated_text = text.translate(trans_table)\n",
        "\n",
        "print(\"Original text:   \", text)\n",
        "print(\"Translated text: \", translated_text)"
      ],
      "metadata": {
        "colab": {
          "base_uri": "https://localhost:8080/"
        },
        "id": "JWxPLIiGHi3V",
        "outputId": "ccceb99a-7bec-487f-e08f-b714b5fac91b"
      },
      "execution_count": 19,
      "outputs": [
        {
          "output_type": "stream",
          "name": "stdout",
          "text": [
            "Original text:    hello world 123\n",
            "Translated text:  H3110 w0r1d 3\n"
          ]
        }
      ]
    },
    {
      "cell_type": "code",
      "source": [
        "# escape characters\n",
        "\n",
        "print(\"1. Newline (\\\\n):\\nThis text appears on a new line.\")\n",
        "print(\"2. Tab (\\\\t):\\tThis text is tab-indented.\")\n",
        "print(\"3. Backslash (\\\\\\\\): This is a backslash: \\\\\")\n",
        "print(\"4. Single Quote (\\\\'):\", 'It\\'s a Python example.')\n",
        "print(\"5. Double Quote (\\\\\\\"):\", \"He said, \\\"Hello!\\\"\")\n",
        "print(\"6. Bell (\\\\a): Triggers a system sound (may not work in all terminals)\\a\")\n",
        "print(\"7. Backspace (\\\\b): Text\\b\\b\\b123\")  # May delete characters visually\n",
        "print(\"8. Form Feed (\\\\f): First\\fSecond\")  # Rarely used, acts like page break\n",
        "print(\"9. Carriage Return (\\\\r): Overwrites\\rStart\")  # Overwrites 'Overwrites'\n",
        "print(\"10. Vertical Tab (\\\\v): Line1\\vLine2\")  # Rare use, vertical spacing\n",
        "print(\"11. Hex value (\\\\xhh):\", \"\\x48\\x69\")  # Hex for 'Hi'\n",
        "print(\"12. Unicode (\\\\u):\", \"\\u2764\")  # Unicode heart ❤\n",
        "print(\"13. Unicode (\\\\U):\", \"\\U0001F600\")  # Unicode smiley 😀\n",
        "print(\"14. Octal value (\\\\ooo):\", \"\\110\\151\")  # Octal for 'Hi'"
      ],
      "metadata": {
        "colab": {
          "base_uri": "https://localhost:8080/"
        },
        "id": "anoJmQg3JiyT",
        "outputId": "8354b612-158c-4f48-ce2f-8d3032ea4669"
      },
      "execution_count": 20,
      "outputs": [
        {
          "output_type": "stream",
          "name": "stdout",
          "text": [
            "1. Newline (\\n):\n",
            "This text appears on a new line.\n",
            "2. Tab (\\t):\tThis text is tab-indented.\n",
            "3. Backslash (\\\\): This is a backslash: \\\n",
            "4. Single Quote (\\'): It's a Python example.\n",
            "5. Double Quote (\\\"): He said, \"Hello!\"\n",
            "6. Bell (\\a): Triggers a system sound (may not work in all terminals)\u0007\n",
            "7. Backspace (\\b): Text\b\b\b123\n",
            "8. Form Feed (\\f): First\fSecond\n",
            "Start\n",
            "10. Vertical Tab (\\v): Line1\u000bLine2\n",
            "11. Hex value (\\xhh): Hi\n",
            "12. Unicode (\\u): ❤\n",
            "13. Unicode (\\U): 😀\n",
            "14. Octal value (\\ooo): Hi\n"
          ]
        }
      ]
    },
    {
      "cell_type": "code",
      "source": [
        "# ignore \\\n",
        "s = 'This string will not include \\\n",
        "backslashes or newline characters.'\n",
        "print (s)\n",
        "\n",
        "# escape backslash\n",
        "s=s = 'The \\\\character is called backslash'\n",
        "print (s)\n",
        "\n",
        "# escape single quote\n",
        "s='Hello \\'Python\\''\n",
        "print (s)\n",
        "\n",
        "# escape double quote\n",
        "s=\"Hello \\\"Python\\\"\"\n",
        "print (s)\n",
        "\n",
        "# escape \\b to generate ASCII backspace\n",
        "s='Hel\\blo'\n",
        "print (s)\n",
        "\n",
        "# ASCII Bell character\n",
        "s='Hello\\a'\n",
        "print (s)\n",
        "\n",
        "# newline\n",
        "s='Hello\\nPython'\n",
        "print (s)\n",
        "\n",
        "# Horizontal tab\n",
        "s='Hello\\tPython'\n",
        "print (s)\n",
        "\n",
        "# form feed\n",
        "s= \"hello\\fworld\"\n",
        "print (s)\n",
        "\n",
        "# Octal notation\n",
        "s=\"\\101\"\n",
        "print(s)\n",
        "\n",
        "# Hexadecimal notation\n",
        "s=\"\\x41\"\n",
        "print (s)"
      ],
      "metadata": {
        "colab": {
          "base_uri": "https://localhost:8080/"
        },
        "id": "DQGOxTiSLYUh",
        "outputId": "dc161c93-dd7c-4c5d-bad6-9d7a673c97cc"
      },
      "execution_count": 21,
      "outputs": [
        {
          "output_type": "stream",
          "name": "stdout",
          "text": [
            "This string will not include backslashes or newline characters.\n",
            "The \\character is called backslash\n",
            "Hello 'Python'\n",
            "Hello \"Python\"\n",
            "Hel\blo\n",
            "Hello\u0007\n",
            "Hello\n",
            "Python\n",
            "Hello\tPython\n",
            "hello\fworld\n",
            "A\n",
            "A\n"
          ]
        }
      ]
    },
    {
      "cell_type": "code",
      "source": [],
      "metadata": {
        "id": "VJTALixeM5p0"
      },
      "execution_count": 21,
      "outputs": []
    }
  ]
}