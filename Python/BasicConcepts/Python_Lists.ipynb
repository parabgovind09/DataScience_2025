{
  "nbformat": 4,
  "nbformat_minor": 0,
  "metadata": {
    "colab": {
      "provenance": []
    },
    "kernelspec": {
      "name": "python3",
      "display_name": "Python 3"
    },
    "language_info": {
      "name": "python"
    }
  },
  "cells": [
    {
      "cell_type": "code",
      "execution_count": 1,
      "metadata": {
        "id": "_Bz0GVCSEvRv"
      },
      "outputs": [],
      "source": [
        "# In Python, a list is a built-in dynamic sized array (automatically grows and shrinks).\n",
        "# We can store all types of items (including another list) in a list.\n",
        "# A list may contain mixed type of items, this is possible because a list mainly stores references at ****contiguous locations**** and actual items maybe stored at different locations.\n",
        "\n",
        "# Ordered\t- Lists maintain the order of elements as they are added.\n",
        "# Mutable\t- Can be modified (add, remove, or change elements).\n",
        "# Dynamic\t- Grows or shrinks as needed.\n",
        "# Heterogeneous\t- Stores items of different data types.\n",
        "# Supports Duplicates -\tAllows repeated elements.\n",
        "# Iterable\t- Can be looped through using loops or comprehensions.\n",
        "# Variable-Length -\tSize is not fixed.\n",
        "# Supports Nesting\t- Can contain other lists or complex structures.\n",
        "# Efficient Random Access -\tAccessing elements by index is fast."
      ]
    },
    {
      "cell_type": "code",
      "source": [
        "#empty list\n",
        "empty_list = []\n",
        "print(empty_list)\n",
        "\n",
        "empty_list1 = list()\n",
        "print(empty_list1)"
      ],
      "metadata": {
        "colab": {
          "base_uri": "https://localhost:8080/"
        },
        "id": "WAK79Y0ZJC2q",
        "outputId": "d83d7d6a-a0aa-46f1-868d-518f02a1e058"
      },
      "execution_count": 2,
      "outputs": [
        {
          "output_type": "stream",
          "name": "stdout",
          "text": [
            "[]\n",
            "[]\n"
          ]
        }
      ]
    },
    {
      "cell_type": "code",
      "source": [
        "#integers list\n",
        "integers_list = [10,20,30]\n",
        "print(integers_list)"
      ],
      "metadata": {
        "colab": {
          "base_uri": "https://localhost:8080/"
        },
        "id": "p7-kgk2WJQwj",
        "outputId": "7d5a8b8b-4774-44e8-ddae-ada8ad0de4c1"
      },
      "execution_count": 3,
      "outputs": [
        {
          "output_type": "stream",
          "name": "stdout",
          "text": [
            "[10, 20, 30]\n"
          ]
        }
      ]
    },
    {
      "cell_type": "code",
      "source": [
        "#string list\n",
        "string_list = [\"Govind\",\"Sahil\",\"Sanchit\"]\n",
        "print(string_list)"
      ],
      "metadata": {
        "colab": {
          "base_uri": "https://localhost:8080/"
        },
        "id": "aJdRA-DgJYCQ",
        "outputId": "23b76d9b-94b5-4c09-fca3-0cb1275c6d0f"
      },
      "execution_count": 4,
      "outputs": [
        {
          "output_type": "stream",
          "name": "stdout",
          "text": [
            "['Govind', 'Sahil', 'Sanchit']\n"
          ]
        }
      ]
    },
    {
      "cell_type": "code",
      "source": [
        "#boolean list\n",
        "boolean_list = [True,False,True,True]\n",
        "print(boolean_list)"
      ],
      "metadata": {
        "colab": {
          "base_uri": "https://localhost:8080/"
        },
        "id": "781EjJ2xJhaR",
        "outputId": "b5ef3d80-bd05-4667-bed6-21f5539d807c"
      },
      "execution_count": 5,
      "outputs": [
        {
          "output_type": "stream",
          "name": "stdout",
          "text": [
            "[True, False, True, True]\n"
          ]
        }
      ]
    },
    {
      "cell_type": "code",
      "source": [
        "#nested list\n",
        "nested_list = [[10,20],[\"Govind\",\"Sahil\"],['A','B'],[12.0,15.45]]\n",
        "print(nested_list)"
      ],
      "metadata": {
        "colab": {
          "base_uri": "https://localhost:8080/"
        },
        "id": "NlSkLXwFJzom",
        "outputId": "2f9b7701-8a16-40ab-8bf3-3929e941169c"
      },
      "execution_count": 6,
      "outputs": [
        {
          "output_type": "stream",
          "name": "stdout",
          "text": [
            "[[10, 20], ['Govind', 'Sahil'], ['A', 'B'], [12.0, 15.45]]\n"
          ]
        }
      ]
    },
    {
      "cell_type": "code",
      "source": [
        "#list from tuple using list constructor\n",
        "tuple1 = (10,\"Hello\",12.3,True)\n",
        "list1 = list(tuple1)\n",
        "print(list1)"
      ],
      "metadata": {
        "colab": {
          "base_uri": "https://localhost:8080/"
        },
        "id": "97wFIRXfKHQ0",
        "outputId": "39aeab0f-d214-4b19-becb-3f2bd619fdf4"
      },
      "execution_count": 7,
      "outputs": [
        {
          "output_type": "stream",
          "name": "stdout",
          "text": [
            "[10, 'Hello', 12.3, True]\n"
          ]
        }
      ]
    },
    {
      "cell_type": "code",
      "source": [
        "#list from iterable(range)\n",
        "my_list = list(range(5))\n",
        "print(my_list)\n",
        "even_numbers = list(range(0, 20, 2))\n",
        "print(even_numbers)  # [0, 2, 4, 6, 8, 10, 12, 14, 16, 18]"
      ],
      "metadata": {
        "colab": {
          "base_uri": "https://localhost:8080/"
        },
        "id": "4ZsXlEIbKtf8",
        "outputId": "aef2615c-c41a-40c6-f2c5-5eea75ff676a"
      },
      "execution_count": 8,
      "outputs": [
        {
          "output_type": "stream",
          "name": "stdout",
          "text": [
            "[0, 1, 2, 3, 4]\n",
            "[0, 2, 4, 6, 8, 10, 12, 14, 16, 18]\n"
          ]
        }
      ]
    },
    {
      "cell_type": "code",
      "source": [
        "#list of mixed data types\n",
        "mixed = [1, \"Python\", 3.14, True]\n",
        "print(mixed)"
      ],
      "metadata": {
        "colab": {
          "base_uri": "https://localhost:8080/"
        },
        "id": "VEK4VmZdLNOK",
        "outputId": "63dbcb3f-4b10-49da-a0d4-0001f2567f04"
      },
      "execution_count": 9,
      "outputs": [
        {
          "output_type": "stream",
          "name": "stdout",
          "text": [
            "[1, 'Python', 3.14, True]\n"
          ]
        }
      ]
    },
    {
      "cell_type": "code",
      "source": [
        "#creating a list with repeated elements\n",
        "# Create a list [2, 2, 2, 2, 2]\n",
        "a = [2] * 5\n",
        "print(a)\n",
        "# Create a list [0, 0, 0, 0, 0, 0, 0]\n",
        "b = [0] * 7\n",
        "print(b)"
      ],
      "metadata": {
        "colab": {
          "base_uri": "https://localhost:8080/"
        },
        "id": "f-Z3yqmQLuyg",
        "outputId": "5705ffde-4842-40ca-8827-a9851aa6477f"
      },
      "execution_count": 10,
      "outputs": [
        {
          "output_type": "stream",
          "name": "stdout",
          "text": [
            "[2, 2, 2, 2, 2]\n",
            "[0, 0, 0, 0, 0, 0, 0]\n"
          ]
        }
      ]
    },
    {
      "cell_type": "code",
      "source": [
        "#convert string to list of characters\n",
        "chars = list(\"Govind Parab\")\n",
        "print(chars)"
      ],
      "metadata": {
        "colab": {
          "base_uri": "https://localhost:8080/"
        },
        "id": "n3hThMToMa2Z",
        "outputId": "ba9616df-3865-4ab0-c31a-c11b9246864e"
      },
      "execution_count": 11,
      "outputs": [
        {
          "output_type": "stream",
          "name": "stdout",
          "text": [
            "['G', 'o', 'v', 'i', 'n', 'd', ' ', 'P', 'a', 'r', 'a', 'b']\n"
          ]
        }
      ]
    },
    {
      "cell_type": "code",
      "source": [
        "#convert string to list of words using string split function which converts string of words into list\n",
        "split_list = \"Python is a programming language\".split()\n",
        "print(split_list)"
      ],
      "metadata": {
        "colab": {
          "base_uri": "https://localhost:8080/"
        },
        "id": "OCeKFieRM9Ic",
        "outputId": "ef13483c-4d59-4058-d014-282d3b425670"
      },
      "execution_count": 12,
      "outputs": [
        {
          "output_type": "stream",
          "name": "stdout",
          "text": [
            "['Python', 'is', 'a', 'programming', 'language']\n"
          ]
        }
      ]
    },
    {
      "cell_type": "code",
      "source": [
        "# accsessing the list elements\n",
        "mixed_types = [\"String\",1,3.5,True,[\"Kite\",\"White\"],{\"name\":\"Govind\",\"age\":24},(1,2,3,5)]\n",
        "print(mixed_types)\n",
        "print(mixed_types[0])\n",
        "print(mixed_types[4][1])\n",
        "print(mixed_types[5][\"age\"])\n",
        "print(list(mixed_types[5].keys())[0])\n",
        "print(mixed_types[6][3])\n",
        "print(mixed_types[-1][0])"
      ],
      "metadata": {
        "colab": {
          "base_uri": "https://localhost:8080/"
        },
        "id": "kXnxI1sIvlvs",
        "outputId": "e589807d-6ced-4621-d4e2-638a5c75fdd0"
      },
      "execution_count": 13,
      "outputs": [
        {
          "output_type": "stream",
          "name": "stdout",
          "text": [
            "['String', 1, 3.5, True, ['Kite', 'White'], {'name': 'Govind', 'age': 24}, (1, 2, 3, 5)]\n",
            "String\n",
            "White\n",
            "24\n",
            "name\n",
            "5\n",
            "1\n"
          ]
        }
      ]
    },
    {
      "cell_type": "code",
      "source": [
        "#append, insert, extend\n",
        "# mixed_types.append(\"First\")\n",
        "# mixed_types.append((1,4,7))\n",
        "# mixed_types.insert(3,False)\n",
        "# mixed_types.extend((12,3,5,4))\n",
        "# mixed_types.extend([123,54])\n",
        "print(mixed_types)"
      ],
      "metadata": {
        "colab": {
          "base_uri": "https://localhost:8080/"
        },
        "id": "XT7G6krfyeXq",
        "outputId": "f3fc2acf-7af3-443b-c4c1-dec2db97df9e"
      },
      "execution_count": 14,
      "outputs": [
        {
          "output_type": "stream",
          "name": "stdout",
          "text": [
            "['String', 1, 3.5, True, ['Kite', 'White'], {'name': 'Govind', 'age': 24}, (1, 2, 3, 5)]\n"
          ]
        }
      ]
    },
    {
      "cell_type": "code",
      "source": [
        "# difference between append and extend\n",
        "a = [1, 2]\n",
        "b = [3, 4]\n",
        "\n",
        "a.append(b)\n",
        "print(a)  # [1, 2, [3, 4]]\n",
        "\n",
        "a = [1, 2]\n",
        "a.extend(b)\n",
        "print(a)  # [1, 2, 3, 4]"
      ],
      "metadata": {
        "colab": {
          "base_uri": "https://localhost:8080/"
        },
        "id": "hA7Ina9jmuDx",
        "outputId": "b35cb5cc-8bb5-4e72-b120-081a611f7d40"
      },
      "execution_count": 15,
      "outputs": [
        {
          "output_type": "stream",
          "name": "stdout",
          "text": [
            "[1, 2, [3, 4]]\n",
            "[1, 2, 3, 4]\n"
          ]
        }
      ]
    },
    {
      "cell_type": "code",
      "source": [
        "# update\n",
        "mixed_types[2]=\"update\"\n",
        "print(mixed_types)"
      ],
      "metadata": {
        "colab": {
          "base_uri": "https://localhost:8080/"
        },
        "id": "KKbOQqbD0NVu",
        "outputId": "2aa5a467-ec18-4448-837f-aca1d8757dd8"
      },
      "execution_count": 16,
      "outputs": [
        {
          "output_type": "stream",
          "name": "stdout",
          "text": [
            "['String', 1, 'update', True, ['Kite', 'White'], {'name': 'Govind', 'age': 24}, (1, 2, 3, 5)]\n"
          ]
        }
      ]
    },
    {
      "cell_type": "code",
      "source": [
        "#clear list\n",
        "mixed_types.clear()\n",
        "print(mixed_types)"
      ],
      "metadata": {
        "colab": {
          "base_uri": "https://localhost:8080/"
        },
        "id": "P-ApypTs0prN",
        "outputId": "d6862e8c-9cd2-4d92-dc08-fa95f088c8d0"
      },
      "execution_count": 17,
      "outputs": [
        {
          "output_type": "stream",
          "name": "stdout",
          "text": [
            "[]\n"
          ]
        }
      ]
    },
    {
      "cell_type": "code",
      "source": [
        "# index method\n",
        "# list_name.index(element, start, end)\n",
        "mixed_types=[\"Govind\",\"Sahil\",(1,2,3),[142,456,589],(1,2,3)]\n",
        "mixed_types.index((1,2,3),3,5)"
      ],
      "metadata": {
        "colab": {
          "base_uri": "https://localhost:8080/"
        },
        "id": "1AxBYfCC1iLJ",
        "outputId": "b618c10c-df7b-46de-8edb-bc39f69c0db6"
      },
      "execution_count": 18,
      "outputs": [
        {
          "output_type": "execute_result",
          "data": {
            "text/plain": [
              "4"
            ]
          },
          "metadata": {},
          "execution_count": 18
        }
      ]
    },
    {
      "cell_type": "code",
      "source": [
        "#reversing\n",
        "\n",
        "#modified original list\n",
        "# mixed_types.reverse()\n",
        "# print(mixed_types)\n",
        "\n",
        "# creates new list do not modifies original list\n",
        "# new_list = mixed_types[::-1]\n",
        "# print(new_list)\n",
        "# print(mixed_types)\n",
        "\n",
        "#reversed - this returns a iterator and need to be converted to list this creates now new list\n",
        "numbers = [1, 2, 3, 4, 5]\n",
        "reversed_iterator = reversed(numbers)\n",
        "print(list(reversed_iterator))\n",
        "print(numbers)"
      ],
      "metadata": {
        "colab": {
          "base_uri": "https://localhost:8080/"
        },
        "id": "Igpuk75N3s3Z",
        "outputId": "c1c8f306-c76a-4ba3-d141-7b86c1b01037"
      },
      "execution_count": 19,
      "outputs": [
        {
          "output_type": "stream",
          "name": "stdout",
          "text": [
            "[5, 4, 3, 2, 1]\n",
            "[1, 2, 3, 4, 5]\n"
          ]
        }
      ]
    },
    {
      "cell_type": "code",
      "source": [
        "#slicing parameters(start:stop:step) all are optional\n",
        "#all\n",
        "print(numbers[::])\n",
        "#from position to end\n",
        "print(numbers[2:])\n",
        "#from start to second position\n",
        "print(numbers[:2])\n",
        "#negative indexing to slice\n",
        "print(numbers[-3:])\n",
        "#between slicing\n",
        "print(numbers[1:4])\n",
        "#reversing using step as negative\n",
        "print(numbers[::-1])\n",
        "#accessing using steps\n",
        "print(numbers[::2])"
      ],
      "metadata": {
        "colab": {
          "base_uri": "https://localhost:8080/"
        },
        "id": "CwDS0WoDD60O",
        "outputId": "1f2c553c-f03a-4667-b294-6a48e0a0cfba"
      },
      "execution_count": 20,
      "outputs": [
        {
          "output_type": "stream",
          "name": "stdout",
          "text": [
            "[1, 2, 3, 4, 5]\n",
            "[3, 4, 5]\n",
            "[1, 2]\n",
            "[3, 4, 5]\n",
            "[2, 3, 4]\n",
            "[5, 4, 3, 2, 1]\n",
            "[1, 3, 5]\n"
          ]
        }
      ]
    },
    {
      "cell_type": "code",
      "source": [
        "#list from list comphrension\n",
        "#using lamda\n",
        "lc1 = [(lambda x : x*x) (x) for x in numbers]\n",
        "print(lc1)\n",
        "#direct\n",
        "lc2 = [x for x in range(5)]\n",
        "print(lc2)\n",
        "#direct filteration\n",
        "lc3 = [x for x in range(10) if x%2==0]\n",
        "print(lc3)"
      ],
      "metadata": {
        "id": "x15sg5OSNg-C",
        "colab": {
          "base_uri": "https://localhost:8080/"
        },
        "outputId": "fa31b9f6-63f8-40cd-df5c-0fdc58f54f40"
      },
      "execution_count": 21,
      "outputs": [
        {
          "output_type": "stream",
          "name": "stdout",
          "text": [
            "[1, 4, 9, 16, 25]\n",
            "[0, 1, 2, 3, 4]\n",
            "[0, 2, 4, 6, 8]\n"
          ]
        }
      ]
    },
    {
      "cell_type": "code",
      "source": [
        "print(sum(numbers))\n",
        "print(max(numbers))\n",
        "print(min(numbers))\n",
        "print(len(numbers))\n",
        "print(5 in numbers)"
      ],
      "metadata": {
        "id": "rq5OQVTEOif1",
        "colab": {
          "base_uri": "https://localhost:8080/"
        },
        "outputId": "f7377bad-6239-41d7-a795-f3c6c5d47e77"
      },
      "execution_count": 22,
      "outputs": [
        {
          "output_type": "stream",
          "name": "stdout",
          "text": [
            "15\n",
            "5\n",
            "1\n",
            "5\n",
            "True\n"
          ]
        }
      ]
    },
    {
      "cell_type": "code",
      "source": [
        "sc = [1, 2, 3]\n",
        "sc1 = sc.copy()\n",
        "sc[0] = 10\n",
        "\n",
        "print(sc)   # Output: [10, 2, 3]\n",
        "print(sc1)  # Output: [1, 2, 3]  (original values remain unchanged)\n",
        "# ✅ copy() creates a new list that is independent of the original.\n",
        "\n",
        "import copy\n",
        "sc = [1, 2, [3, 4]]  # List with a nested list\n",
        "sc1 = copy.copy(sc)\n",
        "sc[0] = 10\n",
        "sc[2][0] = 99  # Modify nested list\n",
        "\n",
        "print(sc)   # Output: [10, 2, [99, 4]]\n",
        "print(sc1)  # Output: [1, 2, [99, 4]]  (Nested list changes!)\n",
        "# ⚠ Shallow Copy Issue:\n",
        "# It copies the outer list, but references inner objects.\n",
        "# Changes to nested elements affect both lists.\n",
        "\n",
        "import copy\n",
        "sc = [1, 2, [3, 4]]\n",
        "sc1 = copy.deepcopy(sc)\n",
        "sc[0] = 10\n",
        "sc[2][0] = 99  # Modify nested list\n",
        "\n",
        "print(sc)   # Output: [10, 2, [99, 4]]\n",
        "print(sc1)  # Output: [1, 2, [3, 4]]  (Completely independent copy!)\n",
        "# ✅ Deep Copy:\n",
        "# It creates a new copy of all objects, including nested lists.\n",
        "# No link between original and copied list."
      ],
      "metadata": {
        "id": "vIahXt4MPKAM",
        "colab": {
          "base_uri": "https://localhost:8080/"
        },
        "outputId": "402de1ef-9775-41fd-ff3c-11581abbeb9b"
      },
      "execution_count": 23,
      "outputs": [
        {
          "output_type": "stream",
          "name": "stdout",
          "text": [
            "[10, 2, 3]\n",
            "[1, 2, 3]\n",
            "[10, 2, [99, 4]]\n",
            "[1, 2, [99, 4]]\n",
            "[10, 2, [99, 4]]\n",
            "[1, 2, [3, 4]]\n"
          ]
        }
      ]
    },
    {
      "cell_type": "code",
      "source": [
        "joined = \" \".join([\"Kite\",\"Flying\"])\n",
        "print(joined)"
      ],
      "metadata": {
        "colab": {
          "base_uri": "https://localhost:8080/"
        },
        "id": "XRRCUhdKNq3u",
        "outputId": "5c8ff955-fdb1-4e70-9cfc-49aff1355cb4"
      },
      "execution_count": 24,
      "outputs": [
        {
          "output_type": "stream",
          "name": "stdout",
          "text": [
            "Kite Flying\n"
          ]
        }
      ]
    },
    {
      "cell_type": "code",
      "source": [
        "# The zip() function in Python combines multiple iterables such as lists, tuples, strings, dict etc, into a single iterator of tuples.\n",
        "# Each tuple contains elements from the input iterables that are at the same position.\n",
        "lop = [4,5,6,4]\n",
        "tup = (\"Govind\",\"Kirti\")\n",
        "\n",
        "list_zipppid = list(zip(lop,tup))\n",
        "print(list_zipppid)"
      ],
      "metadata": {
        "colab": {
          "base_uri": "https://localhost:8080/"
        },
        "id": "N6ZhTSGxPV6I",
        "outputId": "300adcf5-c2f1-4e48-ab78-3f6b2a089ea7"
      },
      "execution_count": 25,
      "outputs": [
        {
          "output_type": "stream",
          "name": "stdout",
          "text": [
            "[(4, 'Govind'), (5, 'Kirti')]\n"
          ]
        }
      ]
    },
    {
      "cell_type": "code",
      "source": [
        "#unzip\n",
        "p1, p2 = zip(*list_zipppid)\n",
        "print(list(p1))\n",
        "print(list(p2))"
      ],
      "metadata": {
        "colab": {
          "base_uri": "https://localhost:8080/"
        },
        "id": "lCn3N65_XCYD",
        "outputId": "6c3c56c7-5855-4531-a065-5af2b61c6ff6"
      },
      "execution_count": 26,
      "outputs": [
        {
          "output_type": "stream",
          "name": "stdout",
          "text": [
            "[4, 5]\n",
            "['Govind', 'Kirti']\n"
          ]
        }
      ]
    },
    {
      "cell_type": "code",
      "source": [
        "for x in enumerate(tup):\n",
        "  print(x)\n",
        "\n",
        "for x,val in enumerate(tup,start=1):\n",
        "  print(x,\" \",val)"
      ],
      "metadata": {
        "colab": {
          "base_uri": "https://localhost:8080/"
        },
        "id": "4wEoYJ4YY9D0",
        "outputId": "9669bc5a-ecad-4045-e07d-c999d6b35a98"
      },
      "execution_count": 27,
      "outputs": [
        {
          "output_type": "stream",
          "name": "stdout",
          "text": [
            "(0, 'Govind')\n",
            "(1, 'Kirti')\n",
            "1   Govind\n",
            "2   Kirti\n"
          ]
        }
      ]
    },
    {
      "cell_type": "code",
      "source": [
        "nested_list = [[1, 2, 3], [4, 5], [6, 7, 8]]\n",
        "flattened = [num for sublist in nested_list for num in sublist]\n",
        "print(flattened)  # Output: [1, 2, 3, 4, 5, 6, 7, 8]"
      ],
      "metadata": {
        "colab": {
          "base_uri": "https://localhost:8080/"
        },
        "id": "Kvb8ln8Oa5Du",
        "outputId": "22d03d9c-3565-49ad-ff53-e97af7cacf6e"
      },
      "execution_count": 28,
      "outputs": [
        {
          "output_type": "stream",
          "name": "stdout",
          "text": [
            "[1, 2, 3, 4, 5, 6, 7, 8]\n"
          ]
        }
      ]
    },
    {
      "cell_type": "code",
      "source": [
        "import numpy as np\n",
        "\n",
        "a = np.array([[1, 2], [3, 4], [5, 6]])\n",
        "\n",
        "# Flattening list using NumPy\n",
        "result = a.flatten().tolist()\n",
        "\n",
        "print(result)\n"
      ],
      "metadata": {
        "colab": {
          "base_uri": "https://localhost:8080/"
        },
        "id": "2Aw92aJJd_MJ",
        "outputId": "e8dbf149-cfa1-4789-e8fe-72ca0be1a08d"
      },
      "execution_count": 29,
      "outputs": [
        {
          "output_type": "stream",
          "name": "stdout",
          "text": [
            "[1, 2, 3, 4, 5, 6]\n"
          ]
        }
      ]
    },
    {
      "cell_type": "code",
      "source": [
        "numbers = [5, 2, 9, 1, 5, 6]\n",
        "numbers.sort()\n",
        "print(numbers)  # Output: [1, 2, 5, 5, 6, 9]\n",
        "\n",
        "numbers = [5, 2, 9, 1, 5, 6]\n",
        "numbers.sort(reverse=True)\n",
        "print(numbers)  # Output: [9, 6, 5, 5, 2, 1]"
      ],
      "metadata": {
        "colab": {
          "base_uri": "https://localhost:8080/"
        },
        "id": "6ypla2V2fwEB",
        "outputId": "d9e5fa27-cd64-41c7-e051-f53582d69f62"
      },
      "execution_count": 30,
      "outputs": [
        {
          "output_type": "stream",
          "name": "stdout",
          "text": [
            "[1, 2, 5, 5, 6, 9]\n",
            "[9, 6, 5, 5, 2, 1]\n"
          ]
        }
      ]
    },
    {
      "cell_type": "code",
      "source": [
        "numbers = [5, 2, 9, 1, 5, 6]\n",
        "new_sorted_list = sorted(numbers)\n",
        "print(new_sorted_list)  # Output: [1, 2, 5, 5, 6, 9]\n",
        "print(numbers)          # Output: [5, 2, 9, 1, 5, 6] (Original list unchanged)\n",
        "\n",
        "new_sorted_list = sorted(numbers, reverse=True)\n",
        "print(new_sorted_list)  # Output: [9, 6, 5, 5, 2, 1]"
      ],
      "metadata": {
        "colab": {
          "base_uri": "https://localhost:8080/"
        },
        "id": "eXOOcnICggDU",
        "outputId": "7bf12f2e-44d6-44f0-f087-d881dcc813e5"
      },
      "execution_count": 31,
      "outputs": [
        {
          "output_type": "stream",
          "name": "stdout",
          "text": [
            "[1, 2, 5, 5, 6, 9]\n",
            "[5, 2, 9, 1, 5, 6]\n",
            "[9, 6, 5, 5, 2, 1]\n"
          ]
        }
      ]
    },
    {
      "cell_type": "code",
      "source": [
        "words = [\"banana\", \"apple\", \"cherry\", \"date\"]\n",
        "words.sort(key=len)\n",
        "print(words)  # Output: ['date', 'apple', 'banana', 'cherry']\n"
      ],
      "metadata": {
        "colab": {
          "base_uri": "https://localhost:8080/"
        },
        "id": "daeg8GFCg1h3",
        "outputId": "3a3938e0-e519-4cab-9dc3-13dc410febd6"
      },
      "execution_count": 32,
      "outputs": [
        {
          "output_type": "stream",
          "name": "stdout",
          "text": [
            "['date', 'apple', 'banana', 'cherry']\n"
          ]
        }
      ]
    },
    {
      "cell_type": "code",
      "source": [
        "students = [(\"John\", 25), (\"Alice\", 22), (\"Bob\", 24)]\n",
        "students.sort(key=lambda x: x[1])  # Sort by age\n",
        "print(students)  # Output: [('Alice', 22), ('Bob', 24), ('John', 25)]\n"
      ],
      "metadata": {
        "colab": {
          "base_uri": "https://localhost:8080/"
        },
        "id": "jlFdsXMvhV0Y",
        "outputId": "3784109f-a019-4a7b-c32d-520d5341ed41"
      },
      "execution_count": 33,
      "outputs": [
        {
          "output_type": "stream",
          "name": "stdout",
          "text": [
            "[('Alice', 22), ('Bob', 24), ('John', 25)]\n"
          ]
        }
      ]
    },
    {
      "cell_type": "code",
      "source": [
        "numbers = [1, 2, 3, 4, 2, 5]\n",
        "numbers.remove(2)  # Removes the first occurrence of 2\n",
        "print(numbers)  # Output: [1, 3, 4, 2, 5]\n"
      ],
      "metadata": {
        "colab": {
          "base_uri": "https://localhost:8080/"
        },
        "id": "hISJBmAKhsiv",
        "outputId": "f810b841-86f6-4f8b-97a1-11d6137ba94f"
      },
      "execution_count": 34,
      "outputs": [
        {
          "output_type": "stream",
          "name": "stdout",
          "text": [
            "[1, 3, 4, 2, 5]\n"
          ]
        }
      ]
    },
    {
      "cell_type": "code",
      "source": [
        "numbers = [1, 2, 3, 4, 5]\n",
        "removed_value = numbers.pop(2)  # Removes element at index 2 (3rd element)\n",
        "print(numbers)  # Output: [1, 2, 4, 5]\n",
        "print(removed_value)  # Output: 3 (returns the removed element)"
      ],
      "metadata": {
        "colab": {
          "base_uri": "https://localhost:8080/"
        },
        "id": "ZbSx2TnnmfbD",
        "outputId": "edba3d5c-e93e-46f2-b8ee-7548db75a755"
      },
      "execution_count": 35,
      "outputs": [
        {
          "output_type": "stream",
          "name": "stdout",
          "text": [
            "[1, 2, 4, 5]\n",
            "3\n"
          ]
        }
      ]
    },
    {
      "cell_type": "code",
      "source": [
        "print(numbers.pop())\n",
        "print(numbers)  # Output: [1, 2, 4]"
      ],
      "metadata": {
        "colab": {
          "base_uri": "https://localhost:8080/"
        },
        "id": "D0sFjX6xmgXI",
        "outputId": "4dc45ec6-6181-4b78-db3c-31fccbdb89c9"
      },
      "execution_count": 36,
      "outputs": [
        {
          "output_type": "stream",
          "name": "stdout",
          "text": [
            "5\n",
            "[1, 2, 4]\n"
          ]
        }
      ]
    },
    {
      "cell_type": "code",
      "source": [
        "numbers = [1, 2, 3, 4, 5]\n",
        "del numbers[1]  # Removes element at index 1 (2nd element)\n",
        "print(numbers)  # Output: [1, 3, 4, 5]\n",
        "\n",
        "\n",
        "numbers = [1, 2, 3, 4, 5]\n",
        "del numbers[1:3]  # Removes elements at index 1 and 2\n",
        "print(numbers)  # Output: [1, 4, 5]\n",
        "\n",
        "del numbers\n",
        "# print(numbers)  # NameError: name 'numbers' is not defined\n"
      ],
      "metadata": {
        "colab": {
          "base_uri": "https://localhost:8080/"
        },
        "id": "3cjaEYDdmk5h",
        "outputId": "eac57281-32cf-452b-b519-882c02acd5cd"
      },
      "execution_count": 37,
      "outputs": [
        {
          "output_type": "stream",
          "name": "stdout",
          "text": [
            "[1, 3, 4, 5]\n",
            "[1, 4, 5]\n"
          ]
        }
      ]
    },
    {
      "cell_type": "code",
      "source": [
        "# Method\t          Removes by\t            Returns Removed Element?\t          Modifies Original List?\t      Errors if Index/Value Not Found?\n",
        "# remove()\t        Value\t                  ❌ No\t                            ✅ Yes\t                       ✅ Yes (ValueError)\n",
        "# pop()\t            Index (Default: Last)\t  ✅ Yes\t                            ✅ Yes\t                       ✅ Yes (IndexError)\n",
        "# del\t              Index or Slice\t        ❌ No\t                            ✅ Yes\t                       ✅ Yes (IndexError)\n"
      ],
      "metadata": {
        "id": "nQiowEnNm3_Z"
      },
      "execution_count": 38,
      "outputs": []
    },
    {
      "cell_type": "code",
      "source": [
        "l1 = [1,2,3]\n",
        "l2 = [4,5,6]\n",
        "l3 = l1+l2\n",
        "print(l3)"
      ],
      "metadata": {
        "colab": {
          "base_uri": "https://localhost:8080/"
        },
        "id": "lYj0ECaZw0AG",
        "outputId": "f968b88f-df39-466d-f1cf-9f924e57d119"
      },
      "execution_count": 39,
      "outputs": [
        {
          "output_type": "stream",
          "name": "stdout",
          "text": [
            "[1, 2, 3, 4, 5, 6]\n"
          ]
        }
      ]
    },
    {
      "cell_type": "code",
      "source": [
        "l1 = [1,2,3,[11,22]]\n",
        "l2 = l1.copy()\n",
        "print(l2)\n",
        "l1[0] = 369\n",
        "l1[3][0]=111\n",
        "print(l2)"
      ],
      "metadata": {
        "colab": {
          "base_uri": "https://localhost:8080/"
        },
        "id": "z0Xohh0vxbEa",
        "outputId": "61b5f388-bffb-4dd9-fa67-36ba2efb7fd8"
      },
      "execution_count": 40,
      "outputs": [
        {
          "output_type": "stream",
          "name": "stdout",
          "text": [
            "[1, 2, 3, [11, 22]]\n",
            "[1, 2, 3, [111, 22]]\n"
          ]
        }
      ]
    },
    {
      "cell_type": "code",
      "source": [
        "l1=[10,20,[10]]\n",
        "l2=l1.copy()\n",
        "l2[2][0]=99\n",
        "l1"
      ],
      "metadata": {
        "id": "4FFmiweXxdwQ",
        "colab": {
          "base_uri": "https://localhost:8080/"
        },
        "outputId": "92ac767e-4cee-4cfd-ca28-78c98e792c78"
      },
      "execution_count": 41,
      "outputs": [
        {
          "output_type": "execute_result",
          "data": {
            "text/plain": [
              "[10, 20, [99]]"
            ]
          },
          "metadata": {},
          "execution_count": 41
        }
      ]
    },
    {
      "cell_type": "code",
      "source": [
        "l3 = list(map(lambda x, y: x + y, l1, l2))\n",
        "print(l3)"
      ],
      "metadata": {
        "colab": {
          "base_uri": "https://localhost:8080/"
        },
        "id": "obAM5PlW6uyT",
        "outputId": "c58d5eaa-e32c-4ca4-e3da-abe938f6006e"
      },
      "execution_count": 42,
      "outputs": [
        {
          "output_type": "stream",
          "name": "stdout",
          "text": [
            "[20, 40, [99, 99]]\n"
          ]
        }
      ]
    },
    {
      "cell_type": "code",
      "source": [
        "l1 = [5,6,7]\n",
        "l2 = [1,2,3]\n",
        "l3 = [i+j for i,j in zip(l1,l2)]\n",
        "print(list(zip(l1,l2)))\n",
        "l3"
      ],
      "metadata": {
        "colab": {
          "base_uri": "https://localhost:8080/"
        },
        "id": "xDxUhqQK6vgA",
        "outputId": "dfc319d4-28b3-4087-ce94-abfb2c130caf"
      },
      "execution_count": 43,
      "outputs": [
        {
          "output_type": "stream",
          "name": "stdout",
          "text": [
            "[(5, 1), (6, 2), (7, 3)]\n"
          ]
        },
        {
          "output_type": "execute_result",
          "data": {
            "text/plain": [
              "[6, 8, 10]"
            ]
          },
          "metadata": {},
          "execution_count": 43
        }
      ]
    }
  ]
}